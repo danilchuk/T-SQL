{
    "metadata": {
        "kernelspec": {
            "name": "SQL",
            "display_name": "SQL",
            "language": "sql"
        },
        "language_info": {
            "name": "sql",
            "version": ""
        }
    },
    "nbformat_minor": 2,
    "nbformat": 4,
    "cells": [
        {
            "cell_type": "markdown",
            "source": "## Пример логической модели данных:\r\n\r\n<img src=\"https://github.com/timoti1/T-SQL/blob/master/SQL/img/SwimmersDB.png?raw=1\" />",
            "metadata": {}
        },
        {
            "cell_type": "markdown",
            "source": "<b>\"Насетапим\" немного данных. </b><br/>\r\nУ некоторых спортсменов нет категории, клуба или тренера (или они неизвестны).<br/>\r\nВстречаются спортсмены, которых ведёт несколько тренеров.<br/>\r\nПро одни сущности есть чуть больше информации чем про другие.",
            "metadata": {}
        },
        {
            "cell_type": "markdown",
            "source": "<i>Сначала удалим старые данные.</i><br/><br/>\r\nНиже не очень хороший код:\r\n- возможны нарушения целостности при отсутствии внешних ключей или исключения при их присутствии\r\n- Используется схема по умолчанию, что чревато возможным удалением \"чужих\" данных.<br/>\r\n\r\nВариант №1 (<i>truncate</i>):",
            "metadata": {}
        },
        {
            "cell_type": "code",
            "source": "use tempdb\r\ngo\r\n\r\ntruncate table SwimmerCoach\r\ntruncate table SwimmingClub\r\ntruncate table Swimmer\r\ntruncate table Category\r\ntruncate table Coach\r\ngo",
            "metadata": {},
            "outputs": [],
            "execution_count": 1
        },
        {
            "cell_type": "markdown",
            "source": "Вариант №2 (<i>delete</i>):\r\n",
            "metadata": {}
        },
        {
            "cell_type": "code",
            "source": "use tempdb\r\ngo\r\n\r\n--очищаем таблицы в соответствии с зависимостями между ними\r\n--сперва те, от которых ничего не зависит\r\ndelete from dbo.SwimmerCoach\r\ngo\r\ndelete from dbo.SwimmingClub\r\ngo\r\ntruncate table dbo.Swimmer\r\ngo\r\ntruncate table dbo.Category\r\ngo\r\ntruncate table dbo.Coach\r\ngo",
            "metadata": {},
            "outputs": [],
            "execution_count": 0
        },
        {
            "cell_type": "markdown",
            "source": "Вариант выше обладает недостатками - он медленный, привязанный к текущему набору таблиц и построен на знании текущих зависимостей между таблицами.<br/><br/>\r\n<i>А что если мы хотим минимизировать число проблем, связанных с возможными изменениями в схеме?</i><br/>\r\n<i>...хотим иметь право выбора удалять ли \"старые\" данные перед вставкой новых?</i><br/>\r\n<i>...хотим выбирать из каких таблиц удалять данные?</i><br/>\r\n<i>...и делать это, по возможности, быстро?</i><br/><br/>\r\nВариант №3 (framework-procedure):",
            "metadata": {}
        },
        {
            "cell_type": "code",
            "source": "use tempdb\r\ngo\r\n\r\nif not exists(select 1 from INFORMATION_SCHEMA.SCHEMATA where [SCHEMA_NAME] = 'admin')\r\n    exec('create schema [admin]')\r\ngo\r\n\r\nif object_id('[admin].usp_ClearTables', 'P') is not null\r\n   drop procedure [admin].usp_ClearTables\r\ngo\r\n\r\n---------------------------------------------------------------------------------------\r\n-- procedure removes data from given list of tables (input json-parameter)\r\n-- created by:   Timofey Gavrilenko\r\n-- created date: 4/23/2019\r\n-- sample call:  \r\n-- exec [admin].usp_ClearTables N'[\"dbo.SwimmerCoach\", \"dbo.SwimmingClub\", \"dbo.Swimmer\", \"dbo.Category\", \"dbo.Coach\"]'\r\n---------------------------------------------------------------------------------------\r\n\r\ncreate procedure [admin].usp_ClearTables\r\n    @list  nvarchar(max) = null,\r\n    @debug tinyint       = 1 \r\nas    \r\nbegin\r\n    set nocount on\r\n\r\n    if @list is null\r\n        return\r\n\r\n       --table to store sql scripts\r\n    create table #scripts\r\n    (\r\n        id           int            not null    identity    primary key,\r\n        [object_id]  int            not null,\r\n        table_name   sysname        not null,\r\n        add_sql      nvarchar(max),\r\n        drop_sql     nvarchar(max),\r\n        truncate_sql nvarchar(max)\r\n    )\r\n\r\n    --get table list from input json\r\n    create table #tables \r\n    (\r\n        id          int             not null    identity    primary key,\r\n        table_name  sysname         not null,\r\n        [object_id] int     \r\n    )    \r\n\r\n    insert into #tables(table_name, [object_id])\r\n    select  [value], \r\n            object_id([value])\r\n    from openjson(@list) \r\n\r\n    --get drop-scripts\r\n    insert into #scripts ([object_id], table_name, drop_sql)\r\n    select t.[object_id],\r\n           t.[name], \r\n           formatmessage(N'alter table %s.%s drop constraint %s', quotename(s.[name]), quotename(t.[name]), quotename(fk.[name])) \r\n    from sys.foreign_keys  fk\r\n    join sys.tables  t           on fk.[parent_object_id] = t.[object_id]\r\n    join sys.schemas s           on s.[schema_id]         = t.[schema_id]\r\n    join #tables tl              on tl.[object_id]        = t.[object_id]\r\n    order by t.[object_id]\r\n\r\n    --get add-scripts\r\n    update s\r\n       set add_sql      = q.add_sql,\r\n           truncate_sql = case\r\n                            when exists(select 1 from #scripts where id > s.id and table_name = s.table_name)\r\n                            then null\r\n                            else formatmessage(N'truncate table %s', quotename(s.table_name))\r\n                          end\r\n    from #scripts s\r\n    join (\r\n           select \r\n               t2.[object_id],\r\n\r\n               formatmessage(N'alter table %s.%s add constraint %s foreign key (%s) references %s.%s (%s)',\r\n                  --alter table \r\n                  quotename(s2.[name]), \r\n                  quotename(t2.[name]),\r\n                  --add constraint\r\n                  quotename(fk.[name]),\r\n                  --foreign key        \r\n                  stuff(\r\n                         (\r\n                             select ',' + quotename(c.[name])\r\n                             from sys.columns as c \r\n                             join sys.foreign_key_columns fkc on fkc.parent_column_id = c.column_id and fkc.parent_object_id = c.[object_id]\r\n                             where fkc.constraint_object_id = fk.[object_id]\r\n                             order by fkc.constraint_column_id \r\n                             for xml path(N''), type\r\n                         ).value(N'.[1]', N'nvarchar(max)'), \r\n                         1, 1, N''\r\n                       ),\r\n                  --references\r\n                  quotename(s1.[name]),\r\n                  quotename(t1.[name]),\r\n              \r\n                  stuff(\r\n                         (\r\n                             select ',' + quotename(c.[name])\r\n                             from sys.columns as c \r\n                             join sys.foreign_key_columns fkc on fkc.referenced_column_id = c.column_id and fkc.referenced_object_id = c.[object_id]\r\n                             where fkc.constraint_object_id = fk.[object_id]\r\n                             order by fkc.constraint_column_id \r\n                             for xml path(N''), type\r\n                          ).value(N'.[1]', N'nvarchar(max)'), \r\n                          1, 1, N''\r\n                       ) \r\n               ) add_sql\r\n        from sys.foreign_keys fk\r\n        join sys.tables  t1          on fk.referenced_object_id = t1.[object_id]\r\n        join sys.schemas s1          on t1.[schema_id]          = s1.[schema_id]\r\n        join sys.tables  t2          on fk.parent_object_id     = t2.[object_id]\r\n        join sys.schemas s2          on t2.[schema_id]          = s2.[schema_id]\r\n    ) q on q.[object_id] = s.[object_id]    \r\n\r\n\r\n    --get list of sql scripts to execute in right order\r\n    create table #scripts_in_order\r\n    (\r\n        id     int           not null identity    primary key,\r\n        script nvarchar(max) not null\r\n    )\r\n\r\n    insert into #scripts_in_order(script)\r\n    select N'-- pass @debug = 0 for executing scripts'\r\n    union all\r\n    select N'-- drop all fk constraints...'\r\n    union all\r\n    select drop_sql from #scripts\r\n    union all\r\n    select N'-- truncate all tables...'\r\n    union all\r\n    select truncate_sql from #scripts where truncate_sql is not null\r\n    union all\r\n    select N'-- recreate fk constraints...'\r\n    union all\r\n    select add_sql from #scripts\r\n    union all\r\n    select N'-- done!'\r\n\r\n    --run drop constraint, truncate table, add constraint scripts\r\n    declare @id           int = 1,\r\n            @maxid        int = @@rowcount,\r\n            @sql          nvarchar(max)\r\n\r\n    begin try\r\n        begin tran\r\n            while @id <= @maxid\r\n            begin\r\n                select @sql = script\r\n                from #scripts_in_order\r\n                where id = @id\r\n\r\n                if @debug <> 0\r\n                    print @sql\r\n                else\r\n                    execute(@sql)\r\n\r\n                set @id +=1\r\n            end --while\r\n\r\n        commit\r\n    end try\r\n    begin catch\r\n        rollback\r\n    end catch\r\nend\r\ngo",
            "metadata": {},
            "outputs": [
                {
                    "output_type": "display_data",
                    "data": {
                        "text/html": "Commands completed successfully."
                    },
                    "metadata": {}
                },
                {
                    "output_type": "display_data",
                    "data": {
                        "text/html": "Total execution time: 00:00:00.0016625"
                    },
                    "metadata": {}
                },
                {
                    "output_type": "display_data",
                    "data": {
                        "text/html": "Commands completed successfully."
                    },
                    "metadata": {}
                },
                {
                    "output_type": "display_data",
                    "data": {
                        "text/html": "Total execution time: 00:00:00.0040008"
                    },
                    "metadata": {}
                },
                {
                    "output_type": "display_data",
                    "data": {
                        "text/html": "Commands completed successfully."
                    },
                    "metadata": {}
                },
                {
                    "output_type": "display_data",
                    "data": {
                        "text/html": "Total execution time: 00:00:00.0031264"
                    },
                    "metadata": {}
                },
                {
                    "output_type": "display_data",
                    "data": {
                        "text/html": "Commands completed successfully."
                    },
                    "metadata": {}
                },
                {
                    "output_type": "display_data",
                    "data": {
                        "text/html": "Total execution time: 00:00:00.0077619"
                    },
                    "metadata": {}
                }
            ],
            "execution_count": 5
        },
        {
            "cell_type": "code",
            "source": "--пример использования хранимой процедуры\r\nexec [admin].usp_ClearTables N'[\"dbo.SwimmerCoach\", \r\n                                \"dbo.SwimmingClub\", \r\n                                \"dbo.Swimmer\", \r\n                                \"dbo.Category\", \r\n                                \"dbo.Coach\"]', \r\n                             @debug = 1",
            "metadata": {},
            "outputs": [
                {
                    "output_type": "display_data",
                    "data": {
                        "text/html": "Commands completed successfully."
                    },
                    "metadata": {}
                },
                {
                    "output_type": "display_data",
                    "data": {
                        "text/html": "Total execution time: 00:00:00.0330368"
                    },
                    "metadata": {}
                }
            ],
            "execution_count": 7
        },
        {
            "cell_type": "markdown",
            "source": "\r\n",
            "metadata": {}
        }
    ]
}