{
    "metadata": {
        "kernelspec": {
            "name": "SQL",
            "display_name": "SQL",
            "language": "sql"
        },
        "language_info": {
            "name": "sql",
            "version": ""
        }
    },
    "nbformat_minor": 2,
    "nbformat": 4,
    "cells": [
        {
            "cell_type": "markdown",
            "source": "## Пример логической модели данных:\r\n\r\n<img src=\"https://github.com/timoti1/T-SQL/blob/master/SQL/img/SwimmersDB.png?raw=1\" />",
            "metadata": {}
        },
        {
            "cell_type": "markdown",
            "source": "<b>\"Насетапим\" немного данных. </b><br/>\r\nУ некоторых спортсменов нет категории, клуба или тренера (или они неизвестны).<br/>\r\nВстречаются спортсмены, которых ведёт несколько тренеров.<br/>\r\nПро одни сущности есть чуть больше информации чем про другие.",
            "metadata": {}
        },
        {
            "cell_type": "markdown",
            "source": "<i>Сначала удалим старые данные.</i><br/><br/>\r\nНиже не очень хороший код:\r\n- возможны нарушения целостности при отсутствии внешних ключей или исключения при их присутствии\r\n- Используется схема по умолчанию, что чревато возможным удалением \"чужих\" данных.<br/>\r\n\r\nВариант №1 (<i>truncate</i>):",
            "metadata": {}
        },
        {
            "cell_type": "code",
            "source": "use tempdb\r\ngo\r\n\r\ntruncate table SwimmerCoach\r\ntruncate table SwimmingClub\r\ntruncate table Swimmer\r\ntruncate table Category\r\ntruncate table Coach\r\ngo",
            "metadata": {},
            "outputs": [],
            "execution_count": 1
        },
        {
            "cell_type": "markdown",
            "source": "Вариант №2 (<i>delete</i>):\r\n",
            "metadata": {}
        },
        {
            "cell_type": "code",
            "source": "use tempdb\r\ngo\r\n\r\n--очищаем таблицы в соответствии с зависимостями между ними\r\n--сперва те, от которых ничего не зависит\r\ndelete from dbo.SwimmerCoach\r\ngo\r\ndelete from dbo.SwimmingClub\r\ngo\r\ntruncate table dbo.Swimmer\r\ngo\r\ntruncate table dbo.Category\r\ngo\r\ntruncate table dbo.Coach\r\ngo",
            "metadata": {},
            "outputs": []
        },
        {
            "cell_type": "markdown",
            "source": "Вариант выше обладает недостатками - он медленный, привязанный к текущему набору таблиц и построен на знании текущих зависимостей между таблицами.<br/><br/>\r\n<i>А что если мы хотим минимизировать число проблем, связанных с возможными изменениями в схеме?</i><br/>\r\n<i>...хотим иметь право выбора удалять ли \"старые\" данные перед вставкой новых?</i><br/>\r\n<i>...хотим выбирать из каких таблиц удалять данные?</i><br/>\r\n<i>...и делать это, по возможности, быстро?</i><br/><br/>\r\nВариант №3 (framework-procedure):",
            "metadata": {}
        },
        {
            "cell_type": "code",
            "source": "use tempdb\r\ngo\r\n\r\nif not exists(select 1 from INFORMATION_SCHEMA.SCHEMATA where [SCHEMA_NAME] = 'admin')\r\n\texec('create schema [admin]')\r\ngo\r\n\r\nif object_id('[admin].usp_ClearTables', 'P') is not null\r\n   drop procedure [admin].usp_ClearTables\r\ngo\r\n\r\n---------------------------------------------------------------------------------------\r\n-- procedure removes data from given list of tables (input json-parameter)\r\n-- created by:   Timofey Gavrilenko\r\n-- created date: 4/23/2019\r\n-- sample call:  \r\n-- exec [admin].usp_ClearTables N'[\"dbo.SwimmerCoach\", \"dbo.SwimmingClub\", \"dbo.Swimmer\", \"dbo.Category\", \"dbo.Coach\"]'\r\n---------------------------------------------------------------------------------------\r\n\r\ncreate procedure [admin].usp_ClearTables\r\n    @list  nvarchar(max) = null,\r\n    @debug tinyint       = 1 \r\nas    \r\nbegin\r\n    set nocount on\r\n\r\n    if @list is null\r\n        return\r\n\r\n   \t--table to store sql scripts\r\n\tcreate table #scripts\r\n\t(\r\n\t\tid           int             not null    identity    primary key,\r\n\t\t[object_id]  int             not null,\r\n\t\ttable_name   sysname         not null,\r\n\t\tadd_sql      nvarchar(max),\r\n\t\tdrop_sql     nvarchar(max),\r\n\t\ttruncate_sql nvarchar(max)\r\n\t)\r\n\r\n    --get table list from input json\r\n\tcreate table #tables \r\n    (\r\n        id          int             not null    identity    primary key,\r\n        table_name  sysname         not null,\r\n\t\t[object_id] int     \r\n    )    \r\n\r\n    insert into #tables(table_name, [object_id])\r\n    select  [value], \r\n\t        object_id([value])\r\n    from openjson(@list) \r\n\r\n\t--get drop-scripts\r\n\tinsert into #scripts ([object_id], table_name, drop_sql)\r\n\tselect t.[object_id],\r\n\t       t.[name], \r\n\t\t   formatmessage(N'alter table %s.%s drop constraint %s', quotename(s.[name]), quotename(t.[name]), quotename(fk.[name])) \r\n\tfrom sys.foreign_keys  fk\r\n\tjoin sys.tables  t           on fk.[parent_object_id] = t.[object_id]\r\n\tjoin sys.schemas s           on s.[schema_id]         = t.[schema_id]\r\n\tjoin #tables tl              on tl.[object_id]        = t.[object_id]\r\n\torder by t.[object_id]\r\n\r\n\t--get add-scripts\r\n\tupdate s\r\n\t   set add_sql      = q.add_sql,\r\n\t       truncate_sql = case\r\n\t\t\t\t\t\t    when exists(select 1 from #scripts where id > s.id and table_name = s.table_name)\r\n\t\t\t\t\t\t    then null\r\n\t\t\t\t\t\t\telse formatmessage(N'truncate table %s', quotename(s.table_name))\r\n                          end\r\n    from #scripts s\r\n\tjoin (\r\n\t\t   select \r\n\t\t\t   t2.[object_id],\r\n\r\n\t\t\t   formatmessage(N'alter table %s.%s add constraint %s foreign key (%s) references %s.%s (%s)',\r\n\t\t\t\t  --alter table \r\n\t\t\t\t  quotename(s2.[name]), \r\n\t\t\t\t  quotename(t2.[name]),\r\n\t\t\t\t  --add constraint\r\n\t\t\t\t  quotename(fk.[name]),\r\n\t\t\t\t  --foreign key\t\t\r\n\t\t\t\t  stuff(\r\n\t\t\t\t\t\t (\r\n\t\t\t\t\t\t\t select ',' + quotename(c.[name])\r\n\t\t\t\t\t\t\t from sys.columns as c \r\n\t\t\t\t\t\t\t join sys.foreign_key_columns fkc on fkc.parent_column_id = c.column_id\tand fkc.parent_object_id = c.[object_id]\r\n\t\t\t\t\t\t\t where fkc.constraint_object_id = fk.[object_id]\r\n\t\t\t\t\t\t\t order by fkc.constraint_column_id \r\n\t\t\t\t\t\t\t for xml path(N''), type\r\n\t\t\t\t\t\t ).value(N'.[1]', N'nvarchar(max)'), \r\n\t\t\t\t\t\t 1, 1, N''\r\n\t\t\t\t\t   ),\r\n\t\t\t\t  --references\r\n\t\t\t\t  quotename(s1.[name]),\r\n\t\t\t\t  quotename(t1.[name]),\r\n\t          \r\n\t\t\t\t  stuff(\r\n\t\t\t\t\t\t (\r\n\t\t\t\t\t\t\t select ',' + quotename(c.[name])\r\n\t\t\t\t\t\t\t from sys.columns as c \r\n\t\t\t\t\t\t\t join sys.foreign_key_columns fkc on fkc.referenced_column_id = c.column_id\tand fkc.referenced_object_id = c.[object_id]\r\n\t\t\t\t\t\t\t where fkc.constraint_object_id = fk.[object_id]\r\n\t\t\t\t\t\t\t order by fkc.constraint_column_id \r\n\t\t\t\t\t\t\t for xml path(N''), type\r\n\t\t\t\t\t\t  ).value(N'.[1]', N'nvarchar(max)'), \r\n\t\t\t\t\t\t  1, 1, N''\r\n\t\t\t\t\t   ) \r\n\t\t       ) add_sql\r\n\t\tfrom sys.foreign_keys fk\r\n\t\tjoin sys.tables  t1 \t     on fk.referenced_object_id = t1.[object_id]\r\n\t\tjoin sys.schemas s1          on t1.[schema_id]          = s1.[schema_id]\r\n\t\tjoin sys.tables  t2          on fk.parent_object_id     = t2.[object_id]\r\n\t\tjoin sys.schemas s2          on t2.[schema_id]          = s2.[schema_id]\r\n\t) q on q.[object_id] = s.[object_id]\t\r\n\r\n\r\n\t--get list of sql scripts to execute in right order\r\n\tcreate table #scripts_in_order\r\n\t(\r\n\t    id     int\t\t\t not null identity\tprimary key,\r\n\t\tscript nvarchar(max) not null\r\n\t)\r\n\r\n\tinsert into #scripts_in_order(script)\r\n\tselect N'-- pass @debug = 0 for executing scripts'\r\n\tunion all\r\n\tselect N'-- drop all fk constraints...'\r\n\tunion all\r\n\tselect drop_sql from #scripts\r\n\tunion all\r\n\tselect N'-- truncate all tables...'\r\n\tunion all\r\n\tselect truncate_sql from #scripts where truncate_sql is not null\r\n\tunion all\r\n\tselect N'-- recreate fk constraints...'\r\n\tunion all\r\n\tselect add_sql from #scripts\r\n\tunion all\r\n\tselect N'-- done!'\r\n\r\n\t--run drop constraint, truncate table, add constraint scripts\r\n\tdeclare @id           int = 1,\r\n\t        @maxid        int = @@rowcount,\r\n\t\t\t@sql          nvarchar(max)\r\n\r\n\tbegin try\r\n\t\tbegin tran\r\n\t\t\twhile @id <= @maxid\r\n\t\t\tbegin\r\n\t\t\t\tselect @sql = script\r\n\t\t\t\tfrom #scripts_in_order\r\n\t\t\t\twhere id = @id\r\n\r\n\t\t\t\tif @debug <> 0\r\n\t\t\t\t\tprint @sql\r\n\t\t\t\telse\r\n\t\t\t\t\texecute(@sql)\r\n\r\n\t\t\t\tset @id +=1\r\n\t\t\tend --while\r\n\r\n\t\tcommit\r\n\tend try\r\n\tbegin catch\r\n\t\trollback\r\n\tend catch\t \r\nend\r\ngo",
            "metadata": {},
            "outputs": [
                {
                    "output_type": "display_data",
                    "data": {
                        "text/html": "Commands completed successfully."
                    },
                    "metadata": {}
                },
                {
                    "output_type": "display_data",
                    "data": {
                        "text/html": "Total execution time: 00:00:00.0016625"
                    },
                    "metadata": {}
                },
                {
                    "output_type": "display_data",
                    "data": {
                        "text/html": "Commands completed successfully."
                    },
                    "metadata": {}
                },
                {
                    "output_type": "display_data",
                    "data": {
                        "text/html": "Total execution time: 00:00:00.0040008"
                    },
                    "metadata": {}
                },
                {
                    "output_type": "display_data",
                    "data": {
                        "text/html": "Commands completed successfully."
                    },
                    "metadata": {}
                },
                {
                    "output_type": "display_data",
                    "data": {
                        "text/html": "Total execution time: 00:00:00.0031264"
                    },
                    "metadata": {}
                },
                {
                    "output_type": "display_data",
                    "data": {
                        "text/html": "Commands completed successfully."
                    },
                    "metadata": {}
                },
                {
                    "output_type": "display_data",
                    "data": {
                        "text/html": "Total execution time: 00:00:00.0077619"
                    },
                    "metadata": {}
                }
            ],
            "execution_count": 5
        },
        {
            "cell_type": "code",
            "source": "--пример использования хранимой процедуры\r\nexec [admin].usp_ClearTables N'[\"dbo.SwimmerCoach\", \r\n                                \"dbo.SwimmingClub\", \r\n                                \"dbo.Swimmer\", \r\n                                \"dbo.Category\", \r\n                                \"dbo.Coach\"]', \r\n                             @debug = 1",
            "metadata": {},
            "outputs": [
                {
                    "output_type": "display_data",
                    "data": {
                        "text/html": "Commands completed successfully."
                    },
                    "metadata": {}
                },
                {
                    "output_type": "display_data",
                    "data": {
                        "text/html": "Total execution time: 00:00:00.0330368"
                    },
                    "metadata": {}
                }
            ],
            "execution_count": 7
        },
        {
            "cell_type": "markdown",
            "source": "\r\n",
            "metadata": {}
        }
    ]
}