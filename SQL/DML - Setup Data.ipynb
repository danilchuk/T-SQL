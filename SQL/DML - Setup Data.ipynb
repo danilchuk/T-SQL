{
    "metadata": {
        "kernelspec": {
            "name": "SQL",
            "display_name": "SQL",
            "language": "sql"
        },
        "language_info": {
            "name": "sql",
            "version": ""
        }
    },
    "nbformat_minor": 2,
    "nbformat": 4,
    "cells": [
        {
            "cell_type": "markdown",
            "source": "## Пример логической модели данных:\r\n\r\n<img src=\"https://github.com/timoti1/T-SQL/blob/master/SQL/img/SwimmersDB.png?raw=1\" />",
            "metadata": {}
        },
        {
            "cell_type": "markdown",
            "source": "<b>\"Насетапим\" немного данных. </b><br/>\r\nУ некоторых спортсменов нет категории, клуба или тренера (или они неизвестны).<br/>\r\nВстречаются спортсмены, которых ведёт несколько тренеров.<br/>\r\nПро одни сущности есть чуть больше информации чем про другие.",
            "metadata": {}
        },
        {
            "cell_type": "markdown",
            "source": "<i>Сначала удалим старые данные.</i><br/><br/>\r\nНиже не очень хороший код:\r\n- возможны нарушения целостности при отсутствии внешних ключей или исключения при их присутствии\r\n- Используется схема по умолчанию, что чревато возможным удалением \"чужих\" данных.<br/>\r\n\r\nВариант №1 (<i>truncate</i>):",
            "metadata": {}
        },
        {
            "cell_type": "code",
            "source": "use tempdb\r\ngo\r\n\r\ntruncate table SwimmerCoach\r\ntruncate table SwimmingClub\r\ntruncate table Swimmer\r\ntruncate table Category\r\ntruncate table Coach\r\ngo",
            "metadata": {},
            "outputs": [],
            "execution_count": 1
        },
        {
            "cell_type": "markdown",
            "source": "Вариант №2 (<i>delete</i>):\r\n",
            "metadata": {}
        },
        {
            "cell_type": "code",
            "source": "use tempdb\r\ngo\r\n\r\n--очищаем таблицы в соответствии с зависимостями между ними\r\n--сперва те, от которых ничего не зависит\r\ndelete from dbo.SwimmerCoach\r\ngo\r\ndelete from dbo.SwimmingClub\r\ngo\r\ntruncate table dbo.Swimmer\r\ngo\r\ntruncate table dbo.Category\r\ngo\r\ntruncate table dbo.Coach\r\ngo",
            "metadata": {},
            "outputs": [],
            "execution_count": 0
        },
        {
            "cell_type": "markdown",
            "source": "Вариант выше обладает недостатками - он медленный, привязанный к текущему набору таблиц и построен на знании текущих зависимостей между таблицами.<br/><br/>\r\n<i>А что если мы хотим минимизировать число проблем, связанных с возможными изменениями в схеме?</i><br/>\r\n<i>...хотим иметь право выбора удалять ли \"старые\" данные перед вставкой новых?</i><br/>\r\n<i>...хотим выбирать из каких таблиц удалять данные?</i><br/>\r\n<i>...и делать это, по возможности, быстро?</i><br/><br/>\r\nВариант №3 (framework-procedure):",
            "metadata": {}
        },
        {
            "cell_type": "code",
            "source": "use tempdb\r\ngo\r\n\r\nif not exists(select 1 from INFORMATION_SCHEMA.SCHEMATA where [SCHEMA_NAME] = 'admin')\r\n    exec('create schema [admin]')\r\ngo\r\n\r\nif object_id('[admin].usp_ClearTables', 'P') is not null\r\n   drop procedure [admin].usp_ClearTables\r\ngo\r\n\r\n---------------------------------------------------------------------------------------\r\n-- procedure removes data from given list of tables (input json-parameter)\r\n-- created by:   Timofey Gavrilenko\r\n-- created date: 4/23/2019\r\n-- sample call:  \r\n-- exec [admin].usp_ClearTables N'[\"dbo.SwimmerCoach\", \"dbo.SwimmingClub\", \"dbo.Swimmer\", \"dbo.Category\", \"dbo.Coach\"]'\r\n---------------------------------------------------------------------------------------\r\n\r\ncreate procedure [admin].usp_ClearTables\r\n    @list  nvarchar(max) = null,\r\n    @debug tinyint       = 1 \r\nas    \r\nbegin\r\n    set nocount on\r\n\r\n    if @list is null\r\n        return\r\n\r\n   \t--table to store sql scripts\r\n\tcreate table #scripts\r\n\t(\r\n\t\tid           int             not null    identity    primary key,\r\n\t\t[object_id]  int             not null,\r\n\t\ttable_name   sysname         not null,\r\n\t\tadd_sql      nvarchar(max),\r\n\t\tdrop_sql     nvarchar(max),\r\n\t\ttruncate_sql nvarchar(max)\r\n\t)\r\n\r\n    --get table list from input json\r\n\tcreate table #tables \r\n    (\r\n        id          int             not null    identity    primary key,\r\n        table_name  sysname         not null,\r\n\t\t[object_id] int     \r\n    )    \r\n\r\n    insert into #tables(table_name, [object_id])\r\n    select  [value], \r\n\t        object_id([value])\r\n    from openjson(@list) \r\n\r\n\t--get drop-scripts\r\n\tinsert into #scripts ([object_id], table_name, drop_sql)\r\n\tselect t.[object_id],\r\n\t       t.[name], \r\n\t\t   formatmessage(N'alter table %s.%s drop constraint %s', quotename(s.[name]), quotename(t.[name]), quotename(fk.[name])) \r\n\tfrom sys.foreign_keys  fk\r\n\tjoin sys.tables  t           on fk.[parent_object_id] = t.[object_id]\r\n\tjoin sys.schemas s           on s.[schema_id]         = t.[schema_id]\r\n\tjoin #tables tl              on tl.[object_id]        = t.[object_id]\r\n\torder by t.[object_id]\r\n\r\n\t--get add-scripts\r\n\tupdate s\r\n\t   set add_sql      = q.add_sql,\r\n\t       truncate_sql = case\r\n\t\t\t\t\t\t    when exists(select 1 from #scripts where id > s.id and table_name = s.table_name)\r\n\t\t\t\t\t\t    then null\r\n\t\t\t\t\t\t\telse formatmessage(N'truncate table %s.%s', quotename(q.[schema_name]), quotename(q.table_name))\r\n                          end\r\n    from #scripts s\r\n\tjoin (\r\n\t\t   select \r\n\t\t\t   t2.[object_id],\r\n\t\t\t   s2.[name] [schema_name],\r\n\t\t\t   t2.[name] table_name,\r\n\t\t\t   formatmessage(N'alter table %s.%s add constraint %s foreign key (%s) references %s.%s (%s)',\r\n\t\t\t\t  --alter table \r\n\t\t\t\t  quotename(s2.[name]), \r\n\t\t\t\t  quotename(t2.[name]),\r\n\t\t\t\t  --add constraint\r\n\t\t\t\t  quotename(fk.[name]),\r\n\t\t\t\t  --foreign key\t\t\r\n\t\t\t\t  stuff(\r\n\t\t\t\t\t\t (\r\n\t\t\t\t\t\t\t select ',' + quotename(c.[name])\r\n\t\t\t\t\t\t\t from sys.columns as c \r\n\t\t\t\t\t\t\t join sys.foreign_key_columns fkc on fkc.parent_column_id = c.column_id\tand fkc.parent_object_id = c.[object_id]\r\n\t\t\t\t\t\t\t where fkc.constraint_object_id = fk.[object_id]\r\n\t\t\t\t\t\t\t order by fkc.constraint_column_id \r\n\t\t\t\t\t\t\t for xml path(N''), type\r\n\t\t\t\t\t\t ).value(N'.[1]', N'nvarchar(max)'), \r\n\t\t\t\t\t\t 1, 1, N''\r\n\t\t\t\t\t   ),\r\n\t\t\t\t  --references\r\n\t\t\t\t  quotename(s1.[name]),\r\n\t\t\t\t  quotename(t1.[name]),\r\n\t          \r\n\t\t\t\t  stuff(\r\n\t\t\t\t\t\t (\r\n\t\t\t\t\t\t\t select ',' + quotename(c.[name])\r\n\t\t\t\t\t\t\t from sys.columns as c \r\n\t\t\t\t\t\t\t join sys.foreign_key_columns fkc on fkc.referenced_column_id = c.column_id\tand fkc.referenced_object_id = c.[object_id]\r\n\t\t\t\t\t\t\t where fkc.constraint_object_id = fk.[object_id]\r\n\t\t\t\t\t\t\t order by fkc.constraint_column_id \r\n\t\t\t\t\t\t\t for xml path(N''), type\r\n\t\t\t\t\t\t  ).value(N'.[1]', N'nvarchar(max)'), \r\n\t\t\t\t\t\t  1, 1, N''\r\n\t\t\t\t\t   ) \r\n\t\t       ) add_sql\r\n\t\tfrom sys.foreign_keys fk\r\n\t\tjoin sys.tables  t1 \t     on fk.referenced_object_id = t1.[object_id]\r\n\t\tjoin sys.schemas s1          on t1.[schema_id]          = s1.[schema_id]\r\n\t\tjoin sys.tables  t2          on fk.parent_object_id     = t2.[object_id]\r\n\t\tjoin sys.schemas s2          on t2.[schema_id]          = s2.[schema_id]\r\n\t) q on q.[object_id] = s.[object_id]\t\r\n\r\n\r\n\t--get list of sql scripts to execute in right order\r\n\tcreate table #scripts_in_order\r\n\t(\r\n\t    id     int\t\t\t not null identity\tprimary key,\r\n\t\tscript nvarchar(max) not null\r\n\t)\r\n\r\n\tinsert into #scripts_in_order(script)\r\n\tselect N'-- pass @debug = 0 for executing scripts'\r\n\tunion all\r\n\tselect N'-- drop all fk constraints...'\r\n\tunion all\r\n\tselect drop_sql from #scripts\r\n\tunion all\r\n\tselect N'-- truncate all tables...'\r\n\tunion all\r\n\tselect truncate_sql from #scripts where truncate_sql is not null\r\n\tunion all\r\n\tselect formatmessage(N'truncate table %s', t.table_name) \r\n\tfrom #tables t\r\n\tleft join #scripts s on t.[object_id] = s.[object_id]\r\n\twhere s.[object_id] is null\r\n\tunion all\r\n\tselect N'-- recreate fk constraints...'\r\n\tunion all\r\n\tselect add_sql from #scripts\r\n\tunion all\r\n\tselect N'-- done!'\t\r\n\r\n\t--run drop constraint, truncate table, add constraint scripts\r\n\tdeclare @id           int = 1,\r\n\t        @maxid        int = @@rowcount,\r\n\t\t\t@sql          nvarchar(max)\r\n\r\n\tbegin try\r\n\t\tbegin tran\r\n\t\t\twhile @id <= @maxid\r\n\t\t\tbegin\r\n\t\t\t\tselect @sql = script\r\n\t\t\t\tfrom #scripts_in_order\r\n\t\t\t\twhere id = @id\r\n\r\n\t\t\t\tif @debug <> 0\r\n\t\t\t\t\tprint @sql\r\n\t\t\t\telse\r\n\t\t\t\t\texecute(@sql)\r\n\r\n\t\t\t\tset @id +=1\r\n\t\t\tend --while\r\n\r\n\t\tcommit\r\n\tend try\r\n\tbegin catch\r\n\t\tprint 'Oops. There were issues when executing [admin].[usp_ClearTables]'\r\n\t\trollback\r\n\tend catch\t \r\nend\r\ngo",
            "metadata": {},
            "outputs": [],
            "execution_count": 7
        },
        {
            "cell_type": "markdown",
            "source": "_Теперь можно писать скрипт на вставку данных_\r\n\r\nНиже не очень хороший код:\r\n- всегда удаляются имеющиеся данные (а, возможно, мы не всегда этого хотим!)\r\n- привязанность к текущей схеме данных\r\n- хардкод в отношении данных, значений primary и foreing ключей\r\n\r\nВ случае любых изменений схемы данных (например, нормализация или переименование атрибутов) или самих данных (например, добавление дополнительных записей), понадобится вносить изменения в код",
            "metadata": {}
        },
        {
            "cell_type": "code",
            "source": "use tempdb\r\ngo\r\n\r\n--очистка данных\r\nexec [admin].usp_ClearTables N'[\"dbo.SwimmerCoach\", \"dbo.SwimmingClub\", \"dbo.Swimmer\", \"dbo.Category\", \"dbo.Coach\"]', \r\n                             @debug = 0\r\ngo\r\n\r\ninsert into dbo.SwimmingClub([Name], City)\r\nvalues  (N'ГЦОР Трактор', N'Минск'),\r\n        (N'ДЮСШ Янтарь', N'Минск'),\r\n        (N'СК Олимпик-2011', N'Молодечно')\r\n\r\ninsert into dbo.Category([Name])\r\nvalues  (N'1 юн'),\r\n        (N'III'),\r\n        (N'II'),\r\n        (N'I'),\r\n        (N'кмс'),\r\n        (N'тренер 1 кат')\r\n\r\ninsert into dbo.Swimmer(SwimmingClubID, CategoryId, FirstName, LastName,  YearOfBirth, Gender)\r\nvalues  (1, 3, N'Илья', N'Гавриленко', 2006, N'м'),\r\n        (1, 3, N'Максим', N'Кликушин', 2007, N'м'),\r\n        (2, 5, N'Анна', N'Высоцкая', 2006, N'ж'),\r\n        (2, 3, N'Никита', N'Клюй', 2005, N'м'),\r\n        (3, 4, N'Матвей', N'Данкевич', 2006, N'м')\r\n\r\ninsert into dbo.Coach(FirstName, LastName)\r\nvalues  (N'Алла', N'Усенок'),\r\n        (N'Виталий', N'Барташевич'),\r\n        (N'Евгения', N'Жукова')\r\n\r\ninsert into dbo.SwimmerCoach(SwimmerID, CoachID)\r\nvalues  (1, 1),\r\n        (1, 2),\r\n        (2, 1),      \r\n        (2, 2),      \r\n        (3, 3)\r\n",
            "metadata": {},
            "outputs": [],
            "execution_count": 2
        },
        {
            "cell_type": "markdown",
            "source": "_Попробуем сделать вставку данных более гибкой._\r\n\r\nИдея: \r\n- вставку осуществлять с помощью специальной хранимой процедуры\r\n- данные для вставки, передавать в процедуру извне\r\n- помимо данных, передавать флаг очищать ли уже имеющиеся данные\r\n\r\nОписывать данные мы будем с помощью JSON-параметра, что очень удобно для интеграции нескольких частей сложной програмной системы.<br/>JSON с данными может быть получен в run-time сериализацией экземпляров объектов приложения и служить интефейсом между приложением и БД.",
            "metadata": {}
        },
        {
            "cell_type": "markdown",
            "source": "_В первую очередь, надо продумать структуру JSON._\r\n\r\nЧтобы сделать это, нужно заглянуть в возможную объектную модель будущего приложения или представить себе альтернативную, документ-ориентированную модель данных.\r\n\r\nДопустим, в ходе дизайна схемы JSON, у нас получилось что-то такое (обратите внимание, наш случай довольно прост, зачастую мы не сможем обойтись лишь одним документом):",
            "metadata": {}
        },
        {
            "cell_type": "markdown",
            "source": "[\r\n    \r\n    {\r\n        \"FirstName\": \"Илья\",\r\n        \"LastName\": \"Гавриленко\",\r\n        \"YearOfBirth\": 2006,\r\n        \"Gender\": \"м\",\r\n        \"Club\": {\r\n            \"Name\": \"ГЦОР Трактор\",\r\n            \"City\": \"Минск\"\r\n        },\r\n        \"Category\": \"II\",\r\n        \"Coach\": [\r\n            {\"FirstName\": \"Алла\", \"LastName\": \"Усенок\"},\r\n            {\"FirstName\": \"Виталий\", \"LastName\": \"Барташевич\"}\r\n        ]\r\n    },\r\n\r\n    {\r\n        \"FirstName\": \"Максим\",\r\n        \"LastName\": \"Кликушин\",\r\n        \"YearOfBirth\": 2007,\r\n        \"Gender\": \"м\",\r\n        \"Club\": {\r\n            \"Name\": \"ГЦОР Трактор\",\r\n            \"City\": \"Минск\"\r\n        },\r\n        \"Category\": \"II\",\r\n        \"Coach\": [\r\n            {\"FirstName\": \"Алла\", \"LastName\": \"Усенок\"},\r\n            {\"FirstName\": \"Виталий\", \"LastName\": \"Барташевич\"}\r\n        ]\r\n    },\r\n\r\n    {\r\n        \"FirstName\": \"Анна\",\r\n        \"LastName\": \"Высоцкая\",\r\n        \"YearOfBirth\": 2006,\r\n        \"Gender\": \"ж\",\r\n        \"Club\": {\r\n            \"Name\": \"ДЮСШ Янтарь\",\r\n            \"City\": \"Минск\"\r\n        },\r\n        \"Category\": \"кмс\",\r\n        \"Coach\": [\r\n            {\"FirstName\": \"Евгения\", \"LastName\": \"Жукова\"}\r\n        ]\r\n    },\r\n\r\n    {\r\n        \"FirstName\": \"Никита\",\r\n        \"LastName\": \"Клюй\",\r\n        \"YearOfBirth\": 2005,\r\n        \"Gender\": \"м\",\r\n        \"Club\": {\r\n            \"Name\": \"ДЮСШ Янтарь\",\r\n            \"City\": \"Минск\"\r\n        },\r\n        \"Category\": \"II\"\r\n    },\r\n\r\n    {\r\n        \"FirstName\": \"Матвей\",\r\n        \"LastName\": \"Данкевич\",\r\n        \"YearOfBirth\": 2006,\r\n        \"Gender\": \"м\",\r\n        \"Club\": {\r\n            \"Name\": \"СК Олимпик-2011\",\r\n            \"City\": \"Молодечно\"\r\n        },\r\n        \"Category\": \"I\"\r\n    }    \r\n]     ",
            "metadata": {}
        },
        {
            "cell_type": "markdown",
            "source": "Теперь нам нужно создать процедуру импорта данных, способную разобрать JSON выше и вставить данные в множество связанных между собой реляционных таблиц.\r\n\r\nМожно создать одну большую процедуру импорта, выполняющую всю работу.<br/>Минусами этого подхода будут:\r\n\r\n- привязанность одновременно и к схеме реляционной БД, и к схеме JSON\r\n- высокая сложность одного программного объекта и необходимость его рефакторинга при любых изменениях требований\r\n- отсутствие возможности \"тонкого тюнинга\" и вставки более гранулированных данных (например, клубы или тренеры без привязки к спортсменам)\r\n\r\nАльтернативным вариантом будет создание \"мелких\" хранимых процедур на вставку спортсменов, тренеров, клубов, категорий и одной управляющей процедуры, парсящей входящий JSON и вызывающей в нужном порядке эти частные процедуры узкого назначения.\r\n\r\nВ нашем случае мы реализуем первый вариант.\r\n",
            "metadata": {}
        },
        {
            "cell_type": "code",
            "source": "use tempdb\r\ngo\r\n\r\nif OBJECT_ID('dbo.usp_ImportSwimmersData', 'P') is not null\r\n   drop procedure dbo.usp_ImportSwimmersData\r\ngo\r\n\r\n---------------------------------------------------------------------------------------\r\n-- procedure imports data from incoming JSON-parameter into a number of relation tables\r\n-- created by:   Timofey Gavrilenko\r\n-- created date: 4/26/2019\r\n-- sample call:  \r\n-- exec dbo.usp_ImportSwimmersData @parameters = \r\n--N'\r\n--[\r\n--    {\r\n--        \"FirstName\": \"Илья\",\r\n--        \"LastName\": \"Гавриленко\",\r\n--        \"YearOfBirth\": 2006,\r\n--        \"Gender\": \"м\",\r\n--        \"Club\": {\r\n--            \"Name\": \"ГЦОР Трактор\",\r\n--            \"City\": \"Минск\"\r\n--        },\r\n--        \"Category\": \"II\",\r\n--        \"Coach\": [\r\n--            {\"FirstName\": \"Алла\", \"LastName\": \"Усенок\"},\r\n--            {\"FirstName\": \"Виталий\", \"LastName\": \"Барташевич\"}\r\n--        ]\r\n--    } \r\n--]'\r\n---------------------------------------------------------------------------------------\r\n\r\ncreate procedure dbo.usp_ImportSwimmersData\r\n    @parameters nvarchar(max) = null\r\nas\r\nbegin\r\n    set nocount on\r\n\r\n    --if @parameters is null\r\n    --    return\r\n   \r\n    create table #Swimmer\r\n    (\r\n        id              int             not null    identity    primary key,\r\n        FirstName       nvarchar(20)    not null,\r\n        LastName        nvarchar(30)    not null,\r\n        YearOfBirth     smallint        not null,\r\n        Gender          nchar(1)        not null,\r\n        Category        nvarchar(20),\r\n        Club            nvarchar(max), \r\n        Coach           nvarchar(max)\r\n    ) \r\n\r\n    create table #Club\r\n    (\r\n        id              int             not null    identity    primary key,\r\n        [Name]          nvarchar(100)   not null,\r\n        City            nvarchar(30)    not null,\r\n        [Address]       nvarchar(200),\r\n        Phone           nvarchar(15),\r\n        YearEstablished smallint,\r\n    ) \r\n\r\n    create table #Coach \r\n    (\r\n        id              int             not null    identity    primary key,\r\n        FirstName       nvarchar(20)    not null,\r\n        LastName        nvarchar(30)    not null,\r\n        DateOfBirth     date,\r\n        Category        nvarchar(20) \r\n    )\r\n\r\n    --get list of swimmers\r\n    insert into  #Swimmer(FirstName, LastName, YearOfBirth, Gender, Category, Club, Coach)\r\n    select *\r\n    from openjson(@parameters) \r\n        with \r\n        (\r\n            FirstName       nvarchar(20)    N'$.FirstName',\r\n            LastName        nvarchar(30)    N'$.LastName',\r\n            YearOfBirth     smallint        N'$.YearOfBirth',\r\n            Gender          nchar(1)        N'$.Gender',\r\n            Category        nvarchar(20)    N'$.Category',\r\n            Club            nvarchar(max)   N'$.Club'          as json, \r\n            Coach           nvarchar(max)   N'$.Coach'         as json\r\n        )  js  \r\n\r\n    --get list of clubs\r\n    insert into  #Club([Name], City, [Address], Phone, YearEstablished)\r\n    select distinct jc.[Name], jc.City, jc.[Address], jc.Phone, jc.YearEstablished\r\n    from #Swimmer s\r\n    cross apply openjson(s.Club) \r\n        with\r\n        (\r\n            [Name]          nvarchar(100)   N'$.Name',\r\n            City            nvarchar(30)    N'$.City',\r\n            [Address]       nvarchar(200)   N'$.Address',\r\n            Phone           nvarchar(15)    N'$.Phone',\r\n            YearEstablished smallint        N'$.YearEstablished'\r\n        )  jc    \r\n\r\n    --get list of coaches\r\n    insert into  #Coach(FirstName, LastName, DateOfBirth, Category)\r\n    select distinct jc.FirstName, jc.LastName, jc.DateOfBirth, jc.Category\r\n    from #Swimmer s\r\n    cross apply openjson(s.Coach) \r\n        with\r\n        (\r\n            FirstName       nvarchar(20)    N'$.FirstName',\r\n            LastName        nvarchar(30)    N'$.LastName',\r\n            DateOfBirth     date            N'$.DateOfBirth',\r\n            Category        nvarchar(20)    N'$.Category'\r\n        )  jc \r\n\r\n     --let's first insert what what is easy (data without foreign keys)\r\n\r\n    --insert new categories\r\n    insert into dbo.Category ([Name])\r\n    select jc.[Name]\r\n    from\r\n    (\r\n        select Category as [Name] from #Swimmer\r\n        union \r\n        select Category from #Coach\r\n    ) jc\r\n    left join dbo.Category c           on jc.[Name] = c.[Name]\r\n    where c.CategoryID is null and \r\n          jc.[Name] is not null\r\n\r\n    \r\n    --below we'll use natural/alternative keys from JSON data to get ids (foreign keys)\r\n\r\n    --insert new clubs\r\n    insert into dbo.SwimmingClub ([Name], City, [Address], Phone, YearEstablished)\r\n    select jsc.[Name], jsc.City, jsc.[Address], jsc.Phone, jsc.YearEstablished\r\n    from\r\n    (\r\n        select distinct [Name], City, [Address], Phone, YearEstablished from #Club\r\n    ) jsc\r\n    left join dbo.SwimmingClub sc      on jsc.[Name] = sc.[Name] and \r\n                                          jsc.City   = sc.City\r\n    where sc.SwimmingClubID is null\r\n\r\n    --insert new coaches\r\n    insert into dbo.Coach (FirstName, LastName, DateOfBirth, CategoryID)\r\n    select jc.FirstName, jc.LastName, jc.DateOfBirth, jc.CategoryID \r\n    from\r\n    (\r\n        --dbo.Coach table has dependency on dbo.Category (not required however)\r\n        select distinct FirstName, LastName, DateOfBirth, c.CategoryID \r\n        from #Coach\r\n        left join dbo.Category c on #Coach.Category = c.[Name]\r\n    ) jc\r\n    left join dbo.Coach c              on jc.FirstName = c.FirstName and \r\n                                          jc.LastName  = c.LastName\r\n    where c.CoachID is null\r\n\r\n    --insert new swimmers\r\n    insert into dbo.Swimmer (FirstName, LastName, YearOfBirth, Gender, SwimmingClubID, CategoryID)\r\n    select js.FirstName, js.LastName, js.YearOfBirth, js.Gender, js.SwimmingClubID, js.CategoryID\r\n    from\r\n    (\r\n        --dbo.Swimmer table has dependency on dbo.Club (not required)\r\n        select distinct FirstName, LastName, YearOfBirth, Gender, sc.SwimmingClubID, c.CategoryID\r\n        from #Swimmer s\r\n        left join dbo.Category c       on s.Category = c.[Name]\r\n        outer apply openjson(s.Club) \r\n            with\r\n            (\r\n                [Name]          nvarchar(100)   N'$.Name',\r\n                City            nvarchar(30)    N'$.City'\r\n            )  jsc    \r\n        left join dbo.SwimmingClub sc  on jsc.[Name] = sc.[Name] and jsc.City = sc.City\r\n    ) js\r\n    left join dbo.Swimmer s            on js.FirstName  = s.FirstName and \r\n                                          js.LastName   = s.LastName and \r\n                                          js.YearOfBirth = s.YearOfBirth and \r\n                                          js.Gender     = s.Gender\r\n    where s.SwimmerID is null\r\n\r\n    --insert new relationships between swimmers and coaches\r\n    insert into dbo.SwimmerCoach (SwimmerID, CoachID)\r\n    select s.SwimmerID, c.CoachID\r\n    from #Swimmer js\r\n    join dbo.Swimmer s                on js.FirstName   = s.FirstName and \r\n                                         js.LastName    = s.LastName and \r\n                                         js.YearOfBirth = s.YearOfBirth and \r\n                                         js.Gender      = s.Gender\r\n    \r\n    cross apply openjson(js.Coach) \r\n        with\r\n        (\r\n            FirstName       nvarchar(20)    N'$.FirstName',\r\n            LastName        nvarchar(30)    N'$.LastName'\r\n        )  jc \r\n    join dbo.Coach c                  on jc.FirstName  = c.FirstName and\r\n                                         jc.LastName   = c.LastName\r\n\r\n    left join dbo.SwimmerCoach sc     on s.SwimmerID   = sc.SwimmerID and\r\n                                         c.CoachID     = sc.CoachID\r\n    where sc.SwimmerID is null and sc.CoachID is null\r\nend\r\ngo    ",
            "metadata": {},
            "outputs": [
                {
                    "output_type": "display_data",
                    "data": {
                        "text/html": "Commands completed successfully."
                    },
                    "metadata": {}
                },
                {
                    "output_type": "display_data",
                    "data": {
                        "text/html": "Total execution time: 00:00:00.0011846"
                    },
                    "metadata": {}
                },
                {
                    "output_type": "display_data",
                    "data": {
                        "text/html": "Commands completed successfully."
                    },
                    "metadata": {}
                },
                {
                    "output_type": "display_data",
                    "data": {
                        "text/html": "Total execution time: 00:00:00.0021570"
                    },
                    "metadata": {}
                },
                {
                    "output_type": "display_data",
                    "data": {
                        "text/html": "Commands completed successfully."
                    },
                    "metadata": {}
                },
                {
                    "output_type": "display_data",
                    "data": {
                        "text/html": "Total execution time: 00:00:00.0158935"
                    },
                    "metadata": {}
                },
                {
                    "output_type": "display_data",
                    "data": {
                        "text/html": "Commands completed successfully."
                    },
                    "metadata": {}
                },
                {
                    "output_type": "display_data",
                    "data": {
                        "text/html": "Total execution time: 00:00:00.0013430"
                    },
                    "metadata": {}
                },
                {
                    "output_type": "display_data",
                    "data": {
                        "text/html": "Commands completed successfully."
                    },
                    "metadata": {}
                },
                {
                    "output_type": "display_data",
                    "data": {
                        "text/html": "Total execution time: 00:00:00.0014270"
                    },
                    "metadata": {}
                },
                {
                    "output_type": "display_data",
                    "data": {
                        "text/html": "Commands completed successfully."
                    },
                    "metadata": {}
                },
                {
                    "output_type": "display_data",
                    "data": {
                        "text/html": "Total execution time: 00:00:00.0317887"
                    },
                    "metadata": {}
                }
            ],
            "execution_count": 3
        }
    ]
}