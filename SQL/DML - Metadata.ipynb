{
    "metadata": {
        "kernelspec": {
            "name": "SQL",
            "display_name": "SQL",
            "language": "sql"
        },
        "language_info": {
            "name": "sql",
            "version": ""
        }
    },
    "nbformat_minor": 2,
    "nbformat": 4,
    "cells": [
        {
            "cell_type": "markdown",
            "source": "## Метаданные\r\nПредоставляют информацию о базе данных. \r\n\r\n_Системный каталог_ состоит из таблиц, описывающих структуру объектов базы данных, таких как базовые таблицы, представления, индексы и собственно базы данных. Эти таблицы называются системными базовыми таблицами. Компонент Database Engine часто обращается к системному каталогу за информацией, необходимой для правильного функционирования системы.\r\n\r\nКомпонент Database Engine отличает системные базовые таблицы базы данных master от базовых таблиц пользовательских баз данных. Системные таблицы базы данных master принадлежат к системному каталогу, а системные таблицы определенной базы данных составляют каталог этой базы данных. Поэтому системные базовые таблицы присутствуют только в одном экземпляре для всей системы (если они принадлежат исключительно к базе данных master), тогда как другие таблицы присутствуют в одном экземпляре в каждой базе данных, включая базу данных master.\r\n\r\nПри этом к системным базовым таблицам нельзя обращаться напрямую. Для этого необходимо выполнять запрос на информацию из системного каталога посредством существующих интерфейсов.\r\n<br/>\r\n<br/>\r\nДля обращения за информацией к системным базовым таблицам можно использовать несколько разных интерфейсов:\r\n\r\n_Представления каталогов_\r\n\r\n    Является основным интерфейсом для метаданных, хранящихся в системных базовых таблицах. Метаданные описывают атрибуты объектов в системе баз данных.\r\n\r\n_DMV и DMF_\r\n\r\n    Динамические административные представления (Dynamic Management Views, DMV) и динамические административные функции (Dynamic Management Functions, DMF) обычно применяются для просмотра активных процессов и содержимого памяти.\r\n\r\n_Информационная схема_\r\n\r\n    Стандартное решение для доступа к метаданным, которое предоставляет общий интерфейс не только для компонента Database Engine, но и для всех существующих реляционных систем баз данных (при условии, что конкретная система поддерживает информационную схему).\r\n\r\n    Представления информационной схемы (INFORMATION_SCHEMA) являются частью стандарта SQL-92. Например, во всех СУБД есть представление по имени TABLES:\r\n```\r\nselect * from INFORMATION_SCHEMA.TABLES\r\n```\r\n\r\n_Системные функции и функции свойств_\r\n\r\n    Позволяют извлекать системную информацию. Основная разница между этими двумя типами функций заключается в их структуре. Кроме этого, функции свойств возвращают больше информации, чем системные функции.\r\n\r\n_Системные хранимые процедуры_\r\n\r\n    Некоторые системные хранимые процедуры можно использовать для получения доступа к содержимому системных баз данных и модификации этого содержимого.\r\n\r\n<br/>\r\nУпрощенная форма системной информации компонента Database Engine и различные интерфейсы для доступа к ней показаны на рисунке ниже:\r\n<br/>\r\n<img src=\"https://github.com/timoti1/T-SQL/blob/master/SQL/img/metadata.png?raw=1\" alt=\"Рисунок\"/>\r\n",
            "metadata": {}
        },
        {
            "cell_type": "markdown",
            "source": "<b>Примеры:</b>\r\n\r\n_INFORMATION_SCHEMA.TABLES_  - представление, содержащее список пользовательских таблиц\r\n\r\n_INFORMATION_SCHEMA.COLUMNS_ - представление, содержащее информацию о колонках в пользовательских таблицах\r\n",
            "metadata": {}
        },
        {
            "cell_type": "code",
            "source": "use tempdb\r\ngo\r\n\r\n--список \"обычных\" таблиц в базе данных tempdb\r\nselect * from INFORMATION_SCHEMA.TABLES where left(TABLE_NAME, 1) <> '#'\r\n\r\n--список атрибутов этих таблиц\r\nselect * \r\nfrom INFORMATION_SCHEMA.COLUMNS \r\nwhere TABLE_NAME in (select TABLE_NAME from INFORMATION_SCHEMA.TABLES where left(TABLE_NAME, 1) <> '#')",
            "metadata": {},
            "outputs": [
                {
                    "output_type": "display_data",
                    "data": {
                        "text/html": "Commands completed successfully."
                    },
                    "metadata": {}
                },
                {
                    "output_type": "display_data",
                    "data": {
                        "text/html": "Total execution time: 00:00:00.0023305"
                    },
                    "metadata": {}
                },
                {
                    "output_type": "display_data",
                    "data": {
                        "text/html": "(6 rows affected)"
                    },
                    "metadata": {}
                },
                {
                    "output_type": "display_data",
                    "data": {
                        "text/html": "(36 rows affected)"
                    },
                    "metadata": {}
                },
                {
                    "output_type": "display_data",
                    "data": {
                        "text/html": "Total execution time: 00:00:00.1649193"
                    },
                    "metadata": {}
                },
                {
                    "output_type": "execute_result",
                    "execution_count": 4,
                    "data": {
                        "application/vnd.dataresource+json": {
                            "schema": {
                                "fields": [
                                    {
                                        "name": "TABLE_CATALOG"
                                    },
                                    {
                                        "name": "TABLE_SCHEMA"
                                    },
                                    {
                                        "name": "TABLE_NAME"
                                    },
                                    {
                                        "name": "TABLE_TYPE"
                                    }
                                ]
                            },
                            "data": [
                                {
                                    "0": "tempdb",
                                    "1": "dbo",
                                    "2": "Category",
                                    "3": "BASE TABLE"
                                },
                                {
                                    "0": "tempdb",
                                    "1": "dbo",
                                    "2": "Coach",
                                    "3": "BASE TABLE"
                                },
                                {
                                    "0": "tempdb",
                                    "1": "dbo",
                                    "2": "Swimmer",
                                    "3": "BASE TABLE"
                                },
                                {
                                    "0": "tempdb",
                                    "1": "dbo",
                                    "2": "SwimmerCoach",
                                    "3": "BASE TABLE"
                                },
                                {
                                    "0": "tempdb",
                                    "1": "dbo",
                                    "2": "SwimmingClub",
                                    "3": "BASE TABLE"
                                },
                                {
                                    "0": "tempdb",
                                    "1": "dbo",
                                    "2": "v_Swimmers",
                                    "3": "VIEW"
                                }
                            ]
                        },
                        "text/html": "<table><tr><th>TABLE_CATALOG</th><th>TABLE_SCHEMA</th><th>TABLE_NAME</th><th>TABLE_TYPE</th></tr><tr><td>tempdb</td><td>dbo</td><td>Category</td><td>BASE TABLE</td></tr><tr><td>tempdb</td><td>dbo</td><td>Coach</td><td>BASE TABLE</td></tr><tr><td>tempdb</td><td>dbo</td><td>Swimmer</td><td>BASE TABLE</td></tr><tr><td>tempdb</td><td>dbo</td><td>SwimmerCoach</td><td>BASE TABLE</td></tr><tr><td>tempdb</td><td>dbo</td><td>SwimmingClub</td><td>BASE TABLE</td></tr><tr><td>tempdb</td><td>dbo</td><td>v_Swimmers</td><td>VIEW</td></tr></table>"
                    },
                    "metadata": {}
                },
                {
                    "output_type": "execute_result",
                    "execution_count": 4,
                    "data": {
                        "application/vnd.dataresource+json": {
                            "schema": {
                                "fields": [
                                    {
                                        "name": "TABLE_CATALOG"
                                    },
                                    {
                                        "name": "TABLE_SCHEMA"
                                    },
                                    {
                                        "name": "TABLE_NAME"
                                    },
                                    {
                                        "name": "COLUMN_NAME"
                                    },
                                    {
                                        "name": "ORDINAL_POSITION"
                                    },
                                    {
                                        "name": "COLUMN_DEFAULT"
                                    },
                                    {
                                        "name": "IS_NULLABLE"
                                    },
                                    {
                                        "name": "DATA_TYPE"
                                    },
                                    {
                                        "name": "CHARACTER_MAXIMUM_LENGTH"
                                    },
                                    {
                                        "name": "CHARACTER_OCTET_LENGTH"
                                    },
                                    {
                                        "name": "NUMERIC_PRECISION"
                                    },
                                    {
                                        "name": "NUMERIC_PRECISION_RADIX"
                                    },
                                    {
                                        "name": "NUMERIC_SCALE"
                                    },
                                    {
                                        "name": "DATETIME_PRECISION"
                                    },
                                    {
                                        "name": "CHARACTER_SET_CATALOG"
                                    },
                                    {
                                        "name": "CHARACTER_SET_SCHEMA"
                                    },
                                    {
                                        "name": "CHARACTER_SET_NAME"
                                    },
                                    {
                                        "name": "COLLATION_CATALOG"
                                    },
                                    {
                                        "name": "COLLATION_SCHEMA"
                                    },
                                    {
                                        "name": "COLLATION_NAME"
                                    },
                                    {
                                        "name": "DOMAIN_CATALOG"
                                    },
                                    {
                                        "name": "DOMAIN_SCHEMA"
                                    },
                                    {
                                        "name": "DOMAIN_NAME"
                                    }
                                ]
                            },
                            "data": [
                                {
                                    "0": "tempdb",
                                    "1": "dbo",
                                    "2": "Category",
                                    "3": "CategoryID",
                                    "4": "1",
                                    "5": "NULL",
                                    "6": "NO",
                                    "7": "tinyint",
                                    "8": "NULL",
                                    "9": "NULL",
                                    "10": "3",
                                    "11": "10",
                                    "12": "0",
                                    "13": "NULL",
                                    "14": "NULL",
                                    "15": "NULL",
                                    "16": "NULL",
                                    "17": "NULL",
                                    "18": "NULL",
                                    "19": "NULL",
                                    "20": "NULL",
                                    "21": "NULL",
                                    "22": "NULL"
                                },
                                {
                                    "0": "tempdb",
                                    "1": "dbo",
                                    "2": "Category",
                                    "3": "Name",
                                    "4": "2",
                                    "5": "NULL",
                                    "6": "NO",
                                    "7": "nvarchar",
                                    "8": "20",
                                    "9": "40",
                                    "10": "NULL",
                                    "11": "NULL",
                                    "12": "NULL",
                                    "13": "NULL",
                                    "14": "NULL",
                                    "15": "NULL",
                                    "16": "UNICODE",
                                    "17": "NULL",
                                    "18": "NULL",
                                    "19": "SQL_Latin1_General_CP1_CI_AS",
                                    "20": "NULL",
                                    "21": "NULL",
                                    "22": "NULL"
                                },
                                {
                                    "0": "tempdb",
                                    "1": "dbo",
                                    "2": "Category",
                                    "3": "ModifiedDate",
                                    "4": "3",
                                    "5": "(getdate())",
                                    "6": "NO",
                                    "7": "datetime",
                                    "8": "NULL",
                                    "9": "NULL",
                                    "10": "NULL",
                                    "11": "NULL",
                                    "12": "NULL",
                                    "13": "3",
                                    "14": "NULL",
                                    "15": "NULL",
                                    "16": "NULL",
                                    "17": "NULL",
                                    "18": "NULL",
                                    "19": "NULL",
                                    "20": "NULL",
                                    "21": "NULL",
                                    "22": "NULL"
                                },
                                {
                                    "0": "tempdb",
                                    "1": "dbo",
                                    "2": "Coach",
                                    "3": "CoachID",
                                    "4": "1",
                                    "5": "NULL",
                                    "6": "NO",
                                    "7": "int",
                                    "8": "NULL",
                                    "9": "NULL",
                                    "10": "10",
                                    "11": "10",
                                    "12": "0",
                                    "13": "NULL",
                                    "14": "NULL",
                                    "15": "NULL",
                                    "16": "NULL",
                                    "17": "NULL",
                                    "18": "NULL",
                                    "19": "NULL",
                                    "20": "NULL",
                                    "21": "NULL",
                                    "22": "NULL"
                                },
                                {
                                    "0": "tempdb",
                                    "1": "dbo",
                                    "2": "Coach",
                                    "3": "FirstName",
                                    "4": "2",
                                    "5": "NULL",
                                    "6": "NO",
                                    "7": "nvarchar",
                                    "8": "20",
                                    "9": "40",
                                    "10": "NULL",
                                    "11": "NULL",
                                    "12": "NULL",
                                    "13": "NULL",
                                    "14": "NULL",
                                    "15": "NULL",
                                    "16": "UNICODE",
                                    "17": "NULL",
                                    "18": "NULL",
                                    "19": "SQL_Latin1_General_CP1_CI_AS",
                                    "20": "NULL",
                                    "21": "NULL",
                                    "22": "NULL"
                                },
                                {
                                    "0": "tempdb",
                                    "1": "dbo",
                                    "2": "Coach",
                                    "3": "LastName",
                                    "4": "3",
                                    "5": "NULL",
                                    "6": "NO",
                                    "7": "nvarchar",
                                    "8": "30",
                                    "9": "60",
                                    "10": "NULL",
                                    "11": "NULL",
                                    "12": "NULL",
                                    "13": "NULL",
                                    "14": "NULL",
                                    "15": "NULL",
                                    "16": "UNICODE",
                                    "17": "NULL",
                                    "18": "NULL",
                                    "19": "SQL_Latin1_General_CP1_CI_AS",
                                    "20": "NULL",
                                    "21": "NULL",
                                    "22": "NULL"
                                },
                                {
                                    "0": "tempdb",
                                    "1": "dbo",
                                    "2": "Coach",
                                    "3": "DateOfBirth",
                                    "4": "4",
                                    "5": "NULL",
                                    "6": "YES",
                                    "7": "date",
                                    "8": "NULL",
                                    "9": "NULL",
                                    "10": "NULL",
                                    "11": "NULL",
                                    "12": "NULL",
                                    "13": "0",
                                    "14": "NULL",
                                    "15": "NULL",
                                    "16": "NULL",
                                    "17": "NULL",
                                    "18": "NULL",
                                    "19": "NULL",
                                    "20": "NULL",
                                    "21": "NULL",
                                    "22": "NULL"
                                },
                                {
                                    "0": "tempdb",
                                    "1": "dbo",
                                    "2": "Coach",
                                    "3": "CategoryID",
                                    "4": "5",
                                    "5": "NULL",
                                    "6": "YES",
                                    "7": "tinyint",
                                    "8": "NULL",
                                    "9": "NULL",
                                    "10": "3",
                                    "11": "10",
                                    "12": "0",
                                    "13": "NULL",
                                    "14": "NULL",
                                    "15": "NULL",
                                    "16": "NULL",
                                    "17": "NULL",
                                    "18": "NULL",
                                    "19": "NULL",
                                    "20": "NULL",
                                    "21": "NULL",
                                    "22": "NULL"
                                },
                                {
                                    "0": "tempdb",
                                    "1": "dbo",
                                    "2": "Coach",
                                    "3": "ModifiedDate",
                                    "4": "6",
                                    "5": "(getdate())",
                                    "6": "NO",
                                    "7": "datetime",
                                    "8": "NULL",
                                    "9": "NULL",
                                    "10": "NULL",
                                    "11": "NULL",
                                    "12": "NULL",
                                    "13": "3",
                                    "14": "NULL",
                                    "15": "NULL",
                                    "16": "NULL",
                                    "17": "NULL",
                                    "18": "NULL",
                                    "19": "NULL",
                                    "20": "NULL",
                                    "21": "NULL",
                                    "22": "NULL"
                                },
                                {
                                    "0": "tempdb",
                                    "1": "dbo",
                                    "2": "Swimmer",
                                    "3": "SwimmerID",
                                    "4": "1",
                                    "5": "NULL",
                                    "6": "NO",
                                    "7": "int",
                                    "8": "NULL",
                                    "9": "NULL",
                                    "10": "10",
                                    "11": "10",
                                    "12": "0",
                                    "13": "NULL",
                                    "14": "NULL",
                                    "15": "NULL",
                                    "16": "NULL",
                                    "17": "NULL",
                                    "18": "NULL",
                                    "19": "NULL",
                                    "20": "NULL",
                                    "21": "NULL",
                                    "22": "NULL"
                                },
                                {
                                    "0": "tempdb",
                                    "1": "dbo",
                                    "2": "Swimmer",
                                    "3": "FirstName",
                                    "4": "2",
                                    "5": "NULL",
                                    "6": "NO",
                                    "7": "nvarchar",
                                    "8": "20",
                                    "9": "40",
                                    "10": "NULL",
                                    "11": "NULL",
                                    "12": "NULL",
                                    "13": "NULL",
                                    "14": "NULL",
                                    "15": "NULL",
                                    "16": "UNICODE",
                                    "17": "NULL",
                                    "18": "NULL",
                                    "19": "SQL_Latin1_General_CP1_CI_AS",
                                    "20": "NULL",
                                    "21": "NULL",
                                    "22": "NULL"
                                },
                                {
                                    "0": "tempdb",
                                    "1": "dbo",
                                    "2": "Swimmer",
                                    "3": "LastName",
                                    "4": "3",
                                    "5": "NULL",
                                    "6": "NO",
                                    "7": "nvarchar",
                                    "8": "30",
                                    "9": "60",
                                    "10": "NULL",
                                    "11": "NULL",
                                    "12": "NULL",
                                    "13": "NULL",
                                    "14": "NULL",
                                    "15": "NULL",
                                    "16": "UNICODE",
                                    "17": "NULL",
                                    "18": "NULL",
                                    "19": "SQL_Latin1_General_CP1_CI_AS",
                                    "20": "NULL",
                                    "21": "NULL",
                                    "22": "NULL"
                                },
                                {
                                    "0": "tempdb",
                                    "1": "dbo",
                                    "2": "Swimmer",
                                    "3": "YearOfBirth",
                                    "4": "4",
                                    "5": "NULL",
                                    "6": "NO",
                                    "7": "smallint",
                                    "8": "NULL",
                                    "9": "NULL",
                                    "10": "5",
                                    "11": "10",
                                    "12": "0",
                                    "13": "NULL",
                                    "14": "NULL",
                                    "15": "NULL",
                                    "16": "NULL",
                                    "17": "NULL",
                                    "18": "NULL",
                                    "19": "NULL",
                                    "20": "NULL",
                                    "21": "NULL",
                                    "22": "NULL"
                                },
                                {
                                    "0": "tempdb",
                                    "1": "dbo",
                                    "2": "Swimmer",
                                    "3": "Gender",
                                    "4": "5",
                                    "5": "NULL",
                                    "6": "NO",
                                    "7": "nchar",
                                    "8": "1",
                                    "9": "2",
                                    "10": "NULL",
                                    "11": "NULL",
                                    "12": "NULL",
                                    "13": "NULL",
                                    "14": "NULL",
                                    "15": "NULL",
                                    "16": "UNICODE",
                                    "17": "NULL",
                                    "18": "NULL",
                                    "19": "SQL_Latin1_General_CP1_CI_AS",
                                    "20": "NULL",
                                    "21": "NULL",
                                    "22": "NULL"
                                },
                                {
                                    "0": "tempdb",
                                    "1": "dbo",
                                    "2": "Swimmer",
                                    "3": "SwimmingClubID",
                                    "4": "6",
                                    "5": "NULL",
                                    "6": "YES",
                                    "7": "int",
                                    "8": "NULL",
                                    "9": "NULL",
                                    "10": "10",
                                    "11": "10",
                                    "12": "0",
                                    "13": "NULL",
                                    "14": "NULL",
                                    "15": "NULL",
                                    "16": "NULL",
                                    "17": "NULL",
                                    "18": "NULL",
                                    "19": "NULL",
                                    "20": "NULL",
                                    "21": "NULL",
                                    "22": "NULL"
                                },
                                {
                                    "0": "tempdb",
                                    "1": "dbo",
                                    "2": "Swimmer",
                                    "3": "CategoryId",
                                    "4": "7",
                                    "5": "NULL",
                                    "6": "YES",
                                    "7": "tinyint",
                                    "8": "NULL",
                                    "9": "NULL",
                                    "10": "3",
                                    "11": "10",
                                    "12": "0",
                                    "13": "NULL",
                                    "14": "NULL",
                                    "15": "NULL",
                                    "16": "NULL",
                                    "17": "NULL",
                                    "18": "NULL",
                                    "19": "NULL",
                                    "20": "NULL",
                                    "21": "NULL",
                                    "22": "NULL"
                                },
                                {
                                    "0": "tempdb",
                                    "1": "dbo",
                                    "2": "Swimmer",
                                    "3": "ModifiedDate",
                                    "4": "8",
                                    "5": "(getdate())",
                                    "6": "NO",
                                    "7": "datetime",
                                    "8": "NULL",
                                    "9": "NULL",
                                    "10": "NULL",
                                    "11": "NULL",
                                    "12": "NULL",
                                    "13": "3",
                                    "14": "NULL",
                                    "15": "NULL",
                                    "16": "NULL",
                                    "17": "NULL",
                                    "18": "NULL",
                                    "19": "NULL",
                                    "20": "NULL",
                                    "21": "NULL",
                                    "22": "NULL"
                                },
                                {
                                    "0": "tempdb",
                                    "1": "dbo",
                                    "2": "Swimmer",
                                    "3": "isdeleted",
                                    "4": "9",
                                    "5": "((0))",
                                    "6": "NO",
                                    "7": "bit",
                                    "8": "NULL",
                                    "9": "NULL",
                                    "10": "NULL",
                                    "11": "NULL",
                                    "12": "NULL",
                                    "13": "NULL",
                                    "14": "NULL",
                                    "15": "NULL",
                                    "16": "NULL",
                                    "17": "NULL",
                                    "18": "NULL",
                                    "19": "NULL",
                                    "20": "NULL",
                                    "21": "NULL",
                                    "22": "NULL"
                                },
                                {
                                    "0": "tempdb",
                                    "1": "dbo",
                                    "2": "SwimmerCoach",
                                    "3": "SwimmerID",
                                    "4": "1",
                                    "5": "NULL",
                                    "6": "NO",
                                    "7": "int",
                                    "8": "NULL",
                                    "9": "NULL",
                                    "10": "10",
                                    "11": "10",
                                    "12": "0",
                                    "13": "NULL",
                                    "14": "NULL",
                                    "15": "NULL",
                                    "16": "NULL",
                                    "17": "NULL",
                                    "18": "NULL",
                                    "19": "NULL",
                                    "20": "NULL",
                                    "21": "NULL",
                                    "22": "NULL"
                                },
                                {
                                    "0": "tempdb",
                                    "1": "dbo",
                                    "2": "SwimmerCoach",
                                    "3": "CoachID",
                                    "4": "2",
                                    "5": "NULL",
                                    "6": "NO",
                                    "7": "int",
                                    "8": "NULL",
                                    "9": "NULL",
                                    "10": "10",
                                    "11": "10",
                                    "12": "0",
                                    "13": "NULL",
                                    "14": "NULL",
                                    "15": "NULL",
                                    "16": "NULL",
                                    "17": "NULL",
                                    "18": "NULL",
                                    "19": "NULL",
                                    "20": "NULL",
                                    "21": "NULL",
                                    "22": "NULL"
                                },
                                {
                                    "0": "tempdb",
                                    "1": "dbo",
                                    "2": "SwimmerCoach",
                                    "3": "ModifiedDate",
                                    "4": "3",
                                    "5": "(getdate())",
                                    "6": "NO",
                                    "7": "datetime",
                                    "8": "NULL",
                                    "9": "NULL",
                                    "10": "NULL",
                                    "11": "NULL",
                                    "12": "NULL",
                                    "13": "3",
                                    "14": "NULL",
                                    "15": "NULL",
                                    "16": "NULL",
                                    "17": "NULL",
                                    "18": "NULL",
                                    "19": "NULL",
                                    "20": "NULL",
                                    "21": "NULL",
                                    "22": "NULL"
                                },
                                {
                                    "0": "tempdb",
                                    "1": "dbo",
                                    "2": "SwimmingClub",
                                    "3": "SwimmingClubID",
                                    "4": "1",
                                    "5": "NULL",
                                    "6": "NO",
                                    "7": "int",
                                    "8": "NULL",
                                    "9": "NULL",
                                    "10": "10",
                                    "11": "10",
                                    "12": "0",
                                    "13": "NULL",
                                    "14": "NULL",
                                    "15": "NULL",
                                    "16": "NULL",
                                    "17": "NULL",
                                    "18": "NULL",
                                    "19": "NULL",
                                    "20": "NULL",
                                    "21": "NULL",
                                    "22": "NULL"
                                },
                                {
                                    "0": "tempdb",
                                    "1": "dbo",
                                    "2": "SwimmingClub",
                                    "3": "Name",
                                    "4": "2",
                                    "5": "NULL",
                                    "6": "NO",
                                    "7": "nvarchar",
                                    "8": "100",
                                    "9": "200",
                                    "10": "NULL",
                                    "11": "NULL",
                                    "12": "NULL",
                                    "13": "NULL",
                                    "14": "NULL",
                                    "15": "NULL",
                                    "16": "UNICODE",
                                    "17": "NULL",
                                    "18": "NULL",
                                    "19": "SQL_Latin1_General_CP1_CI_AS",
                                    "20": "NULL",
                                    "21": "NULL",
                                    "22": "NULL"
                                },
                                {
                                    "0": "tempdb",
                                    "1": "dbo",
                                    "2": "SwimmingClub",
                                    "3": "City",
                                    "4": "3",
                                    "5": "NULL",
                                    "6": "NO",
                                    "7": "nvarchar",
                                    "8": "30",
                                    "9": "60",
                                    "10": "NULL",
                                    "11": "NULL",
                                    "12": "NULL",
                                    "13": "NULL",
                                    "14": "NULL",
                                    "15": "NULL",
                                    "16": "UNICODE",
                                    "17": "NULL",
                                    "18": "NULL",
                                    "19": "SQL_Latin1_General_CP1_CI_AS",
                                    "20": "NULL",
                                    "21": "NULL",
                                    "22": "NULL"
                                },
                                {
                                    "0": "tempdb",
                                    "1": "dbo",
                                    "2": "SwimmingClub",
                                    "3": "Address",
                                    "4": "4",
                                    "5": "NULL",
                                    "6": "YES",
                                    "7": "nvarchar",
                                    "8": "200",
                                    "9": "400",
                                    "10": "NULL",
                                    "11": "NULL",
                                    "12": "NULL",
                                    "13": "NULL",
                                    "14": "NULL",
                                    "15": "NULL",
                                    "16": "UNICODE",
                                    "17": "NULL",
                                    "18": "NULL",
                                    "19": "SQL_Latin1_General_CP1_CI_AS",
                                    "20": "NULL",
                                    "21": "NULL",
                                    "22": "NULL"
                                },
                                {
                                    "0": "tempdb",
                                    "1": "dbo",
                                    "2": "SwimmingClub",
                                    "3": "Phone",
                                    "4": "5",
                                    "5": "NULL",
                                    "6": "YES",
                                    "7": "nvarchar",
                                    "8": "15",
                                    "9": "30",
                                    "10": "NULL",
                                    "11": "NULL",
                                    "12": "NULL",
                                    "13": "NULL",
                                    "14": "NULL",
                                    "15": "NULL",
                                    "16": "UNICODE",
                                    "17": "NULL",
                                    "18": "NULL",
                                    "19": "SQL_Latin1_General_CP1_CI_AS",
                                    "20": "NULL",
                                    "21": "NULL",
                                    "22": "NULL"
                                },
                                {
                                    "0": "tempdb",
                                    "1": "dbo",
                                    "2": "SwimmingClub",
                                    "3": "YearEstablished",
                                    "4": "6",
                                    "5": "NULL",
                                    "6": "YES",
                                    "7": "smallint",
                                    "8": "NULL",
                                    "9": "NULL",
                                    "10": "5",
                                    "11": "10",
                                    "12": "0",
                                    "13": "NULL",
                                    "14": "NULL",
                                    "15": "NULL",
                                    "16": "NULL",
                                    "17": "NULL",
                                    "18": "NULL",
                                    "19": "NULL",
                                    "20": "NULL",
                                    "21": "NULL",
                                    "22": "NULL"
                                },
                                {
                                    "0": "tempdb",
                                    "1": "dbo",
                                    "2": "SwimmingClub",
                                    "3": "ModifiedDate",
                                    "4": "7",
                                    "5": "(getdate())",
                                    "6": "NO",
                                    "7": "datetime",
                                    "8": "NULL",
                                    "9": "NULL",
                                    "10": "NULL",
                                    "11": "NULL",
                                    "12": "NULL",
                                    "13": "3",
                                    "14": "NULL",
                                    "15": "NULL",
                                    "16": "NULL",
                                    "17": "NULL",
                                    "18": "NULL",
                                    "19": "NULL",
                                    "20": "NULL",
                                    "21": "NULL",
                                    "22": "NULL"
                                },
                                {
                                    "0": "tempdb",
                                    "1": "dbo",
                                    "2": "v_Swimmers",
                                    "3": "SwimmerID",
                                    "4": "1",
                                    "5": "NULL",
                                    "6": "NO",
                                    "7": "int",
                                    "8": "NULL",
                                    "9": "NULL",
                                    "10": "10",
                                    "11": "10",
                                    "12": "0",
                                    "13": "NULL",
                                    "14": "NULL",
                                    "15": "NULL",
                                    "16": "NULL",
                                    "17": "NULL",
                                    "18": "NULL",
                                    "19": "NULL",
                                    "20": "NULL",
                                    "21": "NULL",
                                    "22": "NULL"
                                },
                                {
                                    "0": "tempdb",
                                    "1": "dbo",
                                    "2": "v_Swimmers",
                                    "3": "FirstName",
                                    "4": "2",
                                    "5": "NULL",
                                    "6": "NO",
                                    "7": "nvarchar",
                                    "8": "20",
                                    "9": "40",
                                    "10": "NULL",
                                    "11": "NULL",
                                    "12": "NULL",
                                    "13": "NULL",
                                    "14": "NULL",
                                    "15": "NULL",
                                    "16": "UNICODE",
                                    "17": "NULL",
                                    "18": "NULL",
                                    "19": "SQL_Latin1_General_CP1_CI_AS",
                                    "20": "NULL",
                                    "21": "NULL",
                                    "22": "NULL"
                                },
                                {
                                    "0": "tempdb",
                                    "1": "dbo",
                                    "2": "v_Swimmers",
                                    "3": "LastName",
                                    "4": "3",
                                    "5": "NULL",
                                    "6": "NO",
                                    "7": "nvarchar",
                                    "8": "30",
                                    "9": "60",
                                    "10": "NULL",
                                    "11": "NULL",
                                    "12": "NULL",
                                    "13": "NULL",
                                    "14": "NULL",
                                    "15": "NULL",
                                    "16": "UNICODE",
                                    "17": "NULL",
                                    "18": "NULL",
                                    "19": "SQL_Latin1_General_CP1_CI_AS",
                                    "20": "NULL",
                                    "21": "NULL",
                                    "22": "NULL"
                                },
                                {
                                    "0": "tempdb",
                                    "1": "dbo",
                                    "2": "v_Swimmers",
                                    "3": "YearOfBirth",
                                    "4": "4",
                                    "5": "NULL",
                                    "6": "NO",
                                    "7": "smallint",
                                    "8": "NULL",
                                    "9": "NULL",
                                    "10": "5",
                                    "11": "10",
                                    "12": "0",
                                    "13": "NULL",
                                    "14": "NULL",
                                    "15": "NULL",
                                    "16": "NULL",
                                    "17": "NULL",
                                    "18": "NULL",
                                    "19": "NULL",
                                    "20": "NULL",
                                    "21": "NULL",
                                    "22": "NULL"
                                },
                                {
                                    "0": "tempdb",
                                    "1": "dbo",
                                    "2": "v_Swimmers",
                                    "3": "Gender",
                                    "4": "5",
                                    "5": "NULL",
                                    "6": "NO",
                                    "7": "nchar",
                                    "8": "1",
                                    "9": "2",
                                    "10": "NULL",
                                    "11": "NULL",
                                    "12": "NULL",
                                    "13": "NULL",
                                    "14": "NULL",
                                    "15": "NULL",
                                    "16": "UNICODE",
                                    "17": "NULL",
                                    "18": "NULL",
                                    "19": "SQL_Latin1_General_CP1_CI_AS",
                                    "20": "NULL",
                                    "21": "NULL",
                                    "22": "NULL"
                                },
                                {
                                    "0": "tempdb",
                                    "1": "dbo",
                                    "2": "v_Swimmers",
                                    "3": "Club",
                                    "4": "6",
                                    "5": "NULL",
                                    "6": "YES",
                                    "7": "nvarchar",
                                    "8": "100",
                                    "9": "200",
                                    "10": "NULL",
                                    "11": "NULL",
                                    "12": "NULL",
                                    "13": "NULL",
                                    "14": "NULL",
                                    "15": "NULL",
                                    "16": "UNICODE",
                                    "17": "NULL",
                                    "18": "NULL",
                                    "19": "SQL_Latin1_General_CP1_CI_AS",
                                    "20": "NULL",
                                    "21": "NULL",
                                    "22": "NULL"
                                },
                                {
                                    "0": "tempdb",
                                    "1": "dbo",
                                    "2": "v_Swimmers",
                                    "3": "City",
                                    "4": "7",
                                    "5": "NULL",
                                    "6": "YES",
                                    "7": "nvarchar",
                                    "8": "30",
                                    "9": "60",
                                    "10": "NULL",
                                    "11": "NULL",
                                    "12": "NULL",
                                    "13": "NULL",
                                    "14": "NULL",
                                    "15": "NULL",
                                    "16": "UNICODE",
                                    "17": "NULL",
                                    "18": "NULL",
                                    "19": "SQL_Latin1_General_CP1_CI_AS",
                                    "20": "NULL",
                                    "21": "NULL",
                                    "22": "NULL"
                                },
                                {
                                    "0": "tempdb",
                                    "1": "dbo",
                                    "2": "v_Swimmers",
                                    "3": "Category",
                                    "4": "8",
                                    "5": "NULL",
                                    "6": "YES",
                                    "7": "nvarchar",
                                    "8": "20",
                                    "9": "40",
                                    "10": "NULL",
                                    "11": "NULL",
                                    "12": "NULL",
                                    "13": "NULL",
                                    "14": "NULL",
                                    "15": "NULL",
                                    "16": "UNICODE",
                                    "17": "NULL",
                                    "18": "NULL",
                                    "19": "SQL_Latin1_General_CP1_CI_AS",
                                    "20": "NULL",
                                    "21": "NULL",
                                    "22": "NULL"
                                }
                            ]
                        },
                        "text/html": "<table><tr><th>TABLE_CATALOG</th><th>TABLE_SCHEMA</th><th>TABLE_NAME</th><th>COLUMN_NAME</th><th>ORDINAL_POSITION</th><th>COLUMN_DEFAULT</th><th>IS_NULLABLE</th><th>DATA_TYPE</th><th>CHARACTER_MAXIMUM_LENGTH</th><th>CHARACTER_OCTET_LENGTH</th><th>NUMERIC_PRECISION</th><th>NUMERIC_PRECISION_RADIX</th><th>NUMERIC_SCALE</th><th>DATETIME_PRECISION</th><th>CHARACTER_SET_CATALOG</th><th>CHARACTER_SET_SCHEMA</th><th>CHARACTER_SET_NAME</th><th>COLLATION_CATALOG</th><th>COLLATION_SCHEMA</th><th>COLLATION_NAME</th><th>DOMAIN_CATALOG</th><th>DOMAIN_SCHEMA</th><th>DOMAIN_NAME</th></tr><tr><td>tempdb</td><td>dbo</td><td>Category</td><td>CategoryID</td><td>1</td><td>NULL</td><td>NO</td><td>tinyint</td><td>NULL</td><td>NULL</td><td>3</td><td>10</td><td>0</td><td>NULL</td><td>NULL</td><td>NULL</td><td>NULL</td><td>NULL</td><td>NULL</td><td>NULL</td><td>NULL</td><td>NULL</td><td>NULL</td></tr><tr><td>tempdb</td><td>dbo</td><td>Category</td><td>Name</td><td>2</td><td>NULL</td><td>NO</td><td>nvarchar</td><td>20</td><td>40</td><td>NULL</td><td>NULL</td><td>NULL</td><td>NULL</td><td>NULL</td><td>NULL</td><td>UNICODE</td><td>NULL</td><td>NULL</td><td>SQL_Latin1_General_CP1_CI_AS</td><td>NULL</td><td>NULL</td><td>NULL</td></tr><tr><td>tempdb</td><td>dbo</td><td>Category</td><td>ModifiedDate</td><td>3</td><td>(getdate())</td><td>NO</td><td>datetime</td><td>NULL</td><td>NULL</td><td>NULL</td><td>NULL</td><td>NULL</td><td>3</td><td>NULL</td><td>NULL</td><td>NULL</td><td>NULL</td><td>NULL</td><td>NULL</td><td>NULL</td><td>NULL</td><td>NULL</td></tr><tr><td>tempdb</td><td>dbo</td><td>Coach</td><td>CoachID</td><td>1</td><td>NULL</td><td>NO</td><td>int</td><td>NULL</td><td>NULL</td><td>10</td><td>10</td><td>0</td><td>NULL</td><td>NULL</td><td>NULL</td><td>NULL</td><td>NULL</td><td>NULL</td><td>NULL</td><td>NULL</td><td>NULL</td><td>NULL</td></tr><tr><td>tempdb</td><td>dbo</td><td>Coach</td><td>FirstName</td><td>2</td><td>NULL</td><td>NO</td><td>nvarchar</td><td>20</td><td>40</td><td>NULL</td><td>NULL</td><td>NULL</td><td>NULL</td><td>NULL</td><td>NULL</td><td>UNICODE</td><td>NULL</td><td>NULL</td><td>SQL_Latin1_General_CP1_CI_AS</td><td>NULL</td><td>NULL</td><td>NULL</td></tr><tr><td>tempdb</td><td>dbo</td><td>Coach</td><td>LastName</td><td>3</td><td>NULL</td><td>NO</td><td>nvarchar</td><td>30</td><td>60</td><td>NULL</td><td>NULL</td><td>NULL</td><td>NULL</td><td>NULL</td><td>NULL</td><td>UNICODE</td><td>NULL</td><td>NULL</td><td>SQL_Latin1_General_CP1_CI_AS</td><td>NULL</td><td>NULL</td><td>NULL</td></tr><tr><td>tempdb</td><td>dbo</td><td>Coach</td><td>DateOfBirth</td><td>4</td><td>NULL</td><td>YES</td><td>date</td><td>NULL</td><td>NULL</td><td>NULL</td><td>NULL</td><td>NULL</td><td>0</td><td>NULL</td><td>NULL</td><td>NULL</td><td>NULL</td><td>NULL</td><td>NULL</td><td>NULL</td><td>NULL</td><td>NULL</td></tr><tr><td>tempdb</td><td>dbo</td><td>Coach</td><td>CategoryID</td><td>5</td><td>NULL</td><td>YES</td><td>tinyint</td><td>NULL</td><td>NULL</td><td>3</td><td>10</td><td>0</td><td>NULL</td><td>NULL</td><td>NULL</td><td>NULL</td><td>NULL</td><td>NULL</td><td>NULL</td><td>NULL</td><td>NULL</td><td>NULL</td></tr><tr><td>tempdb</td><td>dbo</td><td>Coach</td><td>ModifiedDate</td><td>6</td><td>(getdate())</td><td>NO</td><td>datetime</td><td>NULL</td><td>NULL</td><td>NULL</td><td>NULL</td><td>NULL</td><td>3</td><td>NULL</td><td>NULL</td><td>NULL</td><td>NULL</td><td>NULL</td><td>NULL</td><td>NULL</td><td>NULL</td><td>NULL</td></tr><tr><td>tempdb</td><td>dbo</td><td>Swimmer</td><td>SwimmerID</td><td>1</td><td>NULL</td><td>NO</td><td>int</td><td>NULL</td><td>NULL</td><td>10</td><td>10</td><td>0</td><td>NULL</td><td>NULL</td><td>NULL</td><td>NULL</td><td>NULL</td><td>NULL</td><td>NULL</td><td>NULL</td><td>NULL</td><td>NULL</td></tr><tr><td>tempdb</td><td>dbo</td><td>Swimmer</td><td>FirstName</td><td>2</td><td>NULL</td><td>NO</td><td>nvarchar</td><td>20</td><td>40</td><td>NULL</td><td>NULL</td><td>NULL</td><td>NULL</td><td>NULL</td><td>NULL</td><td>UNICODE</td><td>NULL</td><td>NULL</td><td>SQL_Latin1_General_CP1_CI_AS</td><td>NULL</td><td>NULL</td><td>NULL</td></tr><tr><td>tempdb</td><td>dbo</td><td>Swimmer</td><td>LastName</td><td>3</td><td>NULL</td><td>NO</td><td>nvarchar</td><td>30</td><td>60</td><td>NULL</td><td>NULL</td><td>NULL</td><td>NULL</td><td>NULL</td><td>NULL</td><td>UNICODE</td><td>NULL</td><td>NULL</td><td>SQL_Latin1_General_CP1_CI_AS</td><td>NULL</td><td>NULL</td><td>NULL</td></tr><tr><td>tempdb</td><td>dbo</td><td>Swimmer</td><td>YearOfBirth</td><td>4</td><td>NULL</td><td>NO</td><td>smallint</td><td>NULL</td><td>NULL</td><td>5</td><td>10</td><td>0</td><td>NULL</td><td>NULL</td><td>NULL</td><td>NULL</td><td>NULL</td><td>NULL</td><td>NULL</td><td>NULL</td><td>NULL</td><td>NULL</td></tr><tr><td>tempdb</td><td>dbo</td><td>Swimmer</td><td>Gender</td><td>5</td><td>NULL</td><td>NO</td><td>nchar</td><td>1</td><td>2</td><td>NULL</td><td>NULL</td><td>NULL</td><td>NULL</td><td>NULL</td><td>NULL</td><td>UNICODE</td><td>NULL</td><td>NULL</td><td>SQL_Latin1_General_CP1_CI_AS</td><td>NULL</td><td>NULL</td><td>NULL</td></tr><tr><td>tempdb</td><td>dbo</td><td>Swimmer</td><td>SwimmingClubID</td><td>6</td><td>NULL</td><td>YES</td><td>int</td><td>NULL</td><td>NULL</td><td>10</td><td>10</td><td>0</td><td>NULL</td><td>NULL</td><td>NULL</td><td>NULL</td><td>NULL</td><td>NULL</td><td>NULL</td><td>NULL</td><td>NULL</td><td>NULL</td></tr><tr><td>tempdb</td><td>dbo</td><td>Swimmer</td><td>CategoryId</td><td>7</td><td>NULL</td><td>YES</td><td>tinyint</td><td>NULL</td><td>NULL</td><td>3</td><td>10</td><td>0</td><td>NULL</td><td>NULL</td><td>NULL</td><td>NULL</td><td>NULL</td><td>NULL</td><td>NULL</td><td>NULL</td><td>NULL</td><td>NULL</td></tr><tr><td>tempdb</td><td>dbo</td><td>Swimmer</td><td>ModifiedDate</td><td>8</td><td>(getdate())</td><td>NO</td><td>datetime</td><td>NULL</td><td>NULL</td><td>NULL</td><td>NULL</td><td>NULL</td><td>3</td><td>NULL</td><td>NULL</td><td>NULL</td><td>NULL</td><td>NULL</td><td>NULL</td><td>NULL</td><td>NULL</td><td>NULL</td></tr><tr><td>tempdb</td><td>dbo</td><td>Swimmer</td><td>isdeleted</td><td>9</td><td>((0))</td><td>NO</td><td>bit</td><td>NULL</td><td>NULL</td><td>NULL</td><td>NULL</td><td>NULL</td><td>NULL</td><td>NULL</td><td>NULL</td><td>NULL</td><td>NULL</td><td>NULL</td><td>NULL</td><td>NULL</td><td>NULL</td><td>NULL</td></tr><tr><td>tempdb</td><td>dbo</td><td>SwimmerCoach</td><td>SwimmerID</td><td>1</td><td>NULL</td><td>NO</td><td>int</td><td>NULL</td><td>NULL</td><td>10</td><td>10</td><td>0</td><td>NULL</td><td>NULL</td><td>NULL</td><td>NULL</td><td>NULL</td><td>NULL</td><td>NULL</td><td>NULL</td><td>NULL</td><td>NULL</td></tr><tr><td>tempdb</td><td>dbo</td><td>SwimmerCoach</td><td>CoachID</td><td>2</td><td>NULL</td><td>NO</td><td>int</td><td>NULL</td><td>NULL</td><td>10</td><td>10</td><td>0</td><td>NULL</td><td>NULL</td><td>NULL</td><td>NULL</td><td>NULL</td><td>NULL</td><td>NULL</td><td>NULL</td><td>NULL</td><td>NULL</td></tr><tr><td>tempdb</td><td>dbo</td><td>SwimmerCoach</td><td>ModifiedDate</td><td>3</td><td>(getdate())</td><td>NO</td><td>datetime</td><td>NULL</td><td>NULL</td><td>NULL</td><td>NULL</td><td>NULL</td><td>3</td><td>NULL</td><td>NULL</td><td>NULL</td><td>NULL</td><td>NULL</td><td>NULL</td><td>NULL</td><td>NULL</td><td>NULL</td></tr><tr><td>tempdb</td><td>dbo</td><td>SwimmingClub</td><td>SwimmingClubID</td><td>1</td><td>NULL</td><td>NO</td><td>int</td><td>NULL</td><td>NULL</td><td>10</td><td>10</td><td>0</td><td>NULL</td><td>NULL</td><td>NULL</td><td>NULL</td><td>NULL</td><td>NULL</td><td>NULL</td><td>NULL</td><td>NULL</td><td>NULL</td></tr><tr><td>tempdb</td><td>dbo</td><td>SwimmingClub</td><td>Name</td><td>2</td><td>NULL</td><td>NO</td><td>nvarchar</td><td>100</td><td>200</td><td>NULL</td><td>NULL</td><td>NULL</td><td>NULL</td><td>NULL</td><td>NULL</td><td>UNICODE</td><td>NULL</td><td>NULL</td><td>SQL_Latin1_General_CP1_CI_AS</td><td>NULL</td><td>NULL</td><td>NULL</td></tr><tr><td>tempdb</td><td>dbo</td><td>SwimmingClub</td><td>City</td><td>3</td><td>NULL</td><td>NO</td><td>nvarchar</td><td>30</td><td>60</td><td>NULL</td><td>NULL</td><td>NULL</td><td>NULL</td><td>NULL</td><td>NULL</td><td>UNICODE</td><td>NULL</td><td>NULL</td><td>SQL_Latin1_General_CP1_CI_AS</td><td>NULL</td><td>NULL</td><td>NULL</td></tr><tr><td>tempdb</td><td>dbo</td><td>SwimmingClub</td><td>Address</td><td>4</td><td>NULL</td><td>YES</td><td>nvarchar</td><td>200</td><td>400</td><td>NULL</td><td>NULL</td><td>NULL</td><td>NULL</td><td>NULL</td><td>NULL</td><td>UNICODE</td><td>NULL</td><td>NULL</td><td>SQL_Latin1_General_CP1_CI_AS</td><td>NULL</td><td>NULL</td><td>NULL</td></tr><tr><td>tempdb</td><td>dbo</td><td>SwimmingClub</td><td>Phone</td><td>5</td><td>NULL</td><td>YES</td><td>nvarchar</td><td>15</td><td>30</td><td>NULL</td><td>NULL</td><td>NULL</td><td>NULL</td><td>NULL</td><td>NULL</td><td>UNICODE</td><td>NULL</td><td>NULL</td><td>SQL_Latin1_General_CP1_CI_AS</td><td>NULL</td><td>NULL</td><td>NULL</td></tr><tr><td>tempdb</td><td>dbo</td><td>SwimmingClub</td><td>YearEstablished</td><td>6</td><td>NULL</td><td>YES</td><td>smallint</td><td>NULL</td><td>NULL</td><td>5</td><td>10</td><td>0</td><td>NULL</td><td>NULL</td><td>NULL</td><td>NULL</td><td>NULL</td><td>NULL</td><td>NULL</td><td>NULL</td><td>NULL</td><td>NULL</td></tr><tr><td>tempdb</td><td>dbo</td><td>SwimmingClub</td><td>ModifiedDate</td><td>7</td><td>(getdate())</td><td>NO</td><td>datetime</td><td>NULL</td><td>NULL</td><td>NULL</td><td>NULL</td><td>NULL</td><td>3</td><td>NULL</td><td>NULL</td><td>NULL</td><td>NULL</td><td>NULL</td><td>NULL</td><td>NULL</td><td>NULL</td><td>NULL</td></tr><tr><td>tempdb</td><td>dbo</td><td>v_Swimmers</td><td>SwimmerID</td><td>1</td><td>NULL</td><td>NO</td><td>int</td><td>NULL</td><td>NULL</td><td>10</td><td>10</td><td>0</td><td>NULL</td><td>NULL</td><td>NULL</td><td>NULL</td><td>NULL</td><td>NULL</td><td>NULL</td><td>NULL</td><td>NULL</td><td>NULL</td></tr><tr><td>tempdb</td><td>dbo</td><td>v_Swimmers</td><td>FirstName</td><td>2</td><td>NULL</td><td>NO</td><td>nvarchar</td><td>20</td><td>40</td><td>NULL</td><td>NULL</td><td>NULL</td><td>NULL</td><td>NULL</td><td>NULL</td><td>UNICODE</td><td>NULL</td><td>NULL</td><td>SQL_Latin1_General_CP1_CI_AS</td><td>NULL</td><td>NULL</td><td>NULL</td></tr><tr><td>tempdb</td><td>dbo</td><td>v_Swimmers</td><td>LastName</td><td>3</td><td>NULL</td><td>NO</td><td>nvarchar</td><td>30</td><td>60</td><td>NULL</td><td>NULL</td><td>NULL</td><td>NULL</td><td>NULL</td><td>NULL</td><td>UNICODE</td><td>NULL</td><td>NULL</td><td>SQL_Latin1_General_CP1_CI_AS</td><td>NULL</td><td>NULL</td><td>NULL</td></tr><tr><td>tempdb</td><td>dbo</td><td>v_Swimmers</td><td>YearOfBirth</td><td>4</td><td>NULL</td><td>NO</td><td>smallint</td><td>NULL</td><td>NULL</td><td>5</td><td>10</td><td>0</td><td>NULL</td><td>NULL</td><td>NULL</td><td>NULL</td><td>NULL</td><td>NULL</td><td>NULL</td><td>NULL</td><td>NULL</td><td>NULL</td></tr><tr><td>tempdb</td><td>dbo</td><td>v_Swimmers</td><td>Gender</td><td>5</td><td>NULL</td><td>NO</td><td>nchar</td><td>1</td><td>2</td><td>NULL</td><td>NULL</td><td>NULL</td><td>NULL</td><td>NULL</td><td>NULL</td><td>UNICODE</td><td>NULL</td><td>NULL</td><td>SQL_Latin1_General_CP1_CI_AS</td><td>NULL</td><td>NULL</td><td>NULL</td></tr><tr><td>tempdb</td><td>dbo</td><td>v_Swimmers</td><td>Club</td><td>6</td><td>NULL</td><td>YES</td><td>nvarchar</td><td>100</td><td>200</td><td>NULL</td><td>NULL</td><td>NULL</td><td>NULL</td><td>NULL</td><td>NULL</td><td>UNICODE</td><td>NULL</td><td>NULL</td><td>SQL_Latin1_General_CP1_CI_AS</td><td>NULL</td><td>NULL</td><td>NULL</td></tr><tr><td>tempdb</td><td>dbo</td><td>v_Swimmers</td><td>City</td><td>7</td><td>NULL</td><td>YES</td><td>nvarchar</td><td>30</td><td>60</td><td>NULL</td><td>NULL</td><td>NULL</td><td>NULL</td><td>NULL</td><td>NULL</td><td>UNICODE</td><td>NULL</td><td>NULL</td><td>SQL_Latin1_General_CP1_CI_AS</td><td>NULL</td><td>NULL</td><td>NULL</td></tr><tr><td>tempdb</td><td>dbo</td><td>v_Swimmers</td><td>Category</td><td>8</td><td>NULL</td><td>YES</td><td>nvarchar</td><td>20</td><td>40</td><td>NULL</td><td>NULL</td><td>NULL</td><td>NULL</td><td>NULL</td><td>NULL</td><td>UNICODE</td><td>NULL</td><td>NULL</td><td>SQL_Latin1_General_CP1_CI_AS</td><td>NULL</td><td>NULL</td><td>NULL</td></tr></table>"
                    },
                    "metadata": {}
                }
            ],
            "execution_count": 4
        },
        {
            "cell_type": "markdown",
            "source": "_INFORMATION_SCHEMA.TABLE_CONSTRAINTS_ - представление, содержащее информацию об объектах ограничений на пользовательских таблицах (кроме DEFAULT CONSTRAINT)",
            "metadata": {}
        },
        {
            "cell_type": "code",
            "source": "use tempdb\r\ngo\r\n\r\nselect * from INFORMATION_SCHEMA.TABLE_CONSTRAINTS",
            "metadata": {},
            "outputs": [
                {
                    "output_type": "display_data",
                    "data": {
                        "text/html": "(19 rows affected)"
                    },
                    "metadata": {}
                },
                {
                    "output_type": "display_data",
                    "data": {
                        "text/html": "Total execution time: 00:00:00.0737593"
                    },
                    "metadata": {}
                },
                {
                    "output_type": "execute_result",
                    "execution_count": 5,
                    "data": {
                        "application/vnd.dataresource+json": {
                            "schema": {
                                "fields": [
                                    {
                                        "name": "CONSTRAINT_CATALOG"
                                    },
                                    {
                                        "name": "CONSTRAINT_SCHEMA"
                                    },
                                    {
                                        "name": "CONSTRAINT_NAME"
                                    },
                                    {
                                        "name": "TABLE_CATALOG"
                                    },
                                    {
                                        "name": "TABLE_SCHEMA"
                                    },
                                    {
                                        "name": "TABLE_NAME"
                                    },
                                    {
                                        "name": "CONSTRAINT_TYPE"
                                    },
                                    {
                                        "name": "IS_DEFERRABLE"
                                    },
                                    {
                                        "name": "INITIALLY_DEFERRED"
                                    }
                                ]
                            },
                            "data": [
                                {
                                    "0": "tempdb",
                                    "1": "dbo",
                                    "2": "PK__#Swimmer__3213E83F9DF07BF0",
                                    "3": "tempdb",
                                    "4": "dbo",
                                    "5": "#A0DA1E73",
                                    "6": "PRIMARY KEY",
                                    "7": "NO",
                                    "8": "NO"
                                },
                                {
                                    "0": "tempdb",
                                    "1": "dbo",
                                    "2": "PK__#Club_____3213E83F93AF3918",
                                    "3": "tempdb",
                                    "4": "dbo",
                                    "5": "#A2C266E5",
                                    "6": "PRIMARY KEY",
                                    "7": "NO",
                                    "8": "NO"
                                },
                                {
                                    "0": "tempdb",
                                    "1": "dbo",
                                    "2": "PK__#A2DCEBF__6894C54B99532214",
                                    "3": "tempdb",
                                    "4": "dbo",
                                    "5": "#A2DCEBFA",
                                    "6": "PRIMARY KEY",
                                    "7": "NO",
                                    "8": "NO"
                                },
                                {
                                    "0": "tempdb",
                                    "1": "dbo",
                                    "2": "PK__#Coach____3213E83F5EDB519F",
                                    "3": "tempdb",
                                    "4": "dbo",
                                    "5": "#A4AAAF57",
                                    "6": "PRIMARY KEY",
                                    "7": "NO",
                                    "8": "NO"
                                },
                                {
                                    "0": "tempdb",
                                    "1": "dbo",
                                    "2": "PK__#B21F2F8__6894C54B95DA28F1",
                                    "3": "tempdb",
                                    "4": "dbo",
                                    "5": "#B21F2F8A",
                                    "6": "PRIMARY KEY",
                                    "7": "NO",
                                    "8": "NO"
                                },
                                {
                                    "0": "tempdb",
                                    "1": "dbo",
                                    "2": "PK__#B31353C__6894C54B04ADA624",
                                    "3": "tempdb",
                                    "4": "dbo",
                                    "5": "#B31353C3",
                                    "6": "PRIMARY KEY",
                                    "7": "NO",
                                    "8": "NO"
                                },
                                {
                                    "0": "tempdb",
                                    "1": "dbo",
                                    "2": "PK_Category",
                                    "3": "tempdb",
                                    "4": "dbo",
                                    "5": "Category",
                                    "6": "PRIMARY KEY",
                                    "7": "NO",
                                    "8": "NO"
                                },
                                {
                                    "0": "tempdb",
                                    "1": "dbo",
                                    "2": "PK_Coach",
                                    "3": "tempdb",
                                    "4": "dbo",
                                    "5": "Coach",
                                    "6": "PRIMARY KEY",
                                    "7": "NO",
                                    "8": "NO"
                                },
                                {
                                    "0": "tempdb",
                                    "1": "dbo",
                                    "2": "PK_Swimmer",
                                    "3": "tempdb",
                                    "4": "dbo",
                                    "5": "Swimmer",
                                    "6": "PRIMARY KEY",
                                    "7": "NO",
                                    "8": "NO"
                                },
                                {
                                    "0": "tempdb",
                                    "1": "dbo",
                                    "2": "PK_SwimmingClub",
                                    "3": "tempdb",
                                    "4": "dbo",
                                    "5": "SwimmingClub",
                                    "6": "PRIMARY KEY",
                                    "7": "NO",
                                    "8": "NO"
                                },
                                {
                                    "0": "tempdb",
                                    "1": "dbo",
                                    "2": "AK_Category_Name",
                                    "3": "tempdb",
                                    "4": "dbo",
                                    "5": "Category",
                                    "6": "UNIQUE",
                                    "7": "NO",
                                    "8": "NO"
                                },
                                {
                                    "0": "tempdb",
                                    "1": "dbo",
                                    "2": "AK_Coach_FirstName_LastName_DateOfBirth",
                                    "3": "tempdb",
                                    "4": "dbo",
                                    "5": "Coach",
                                    "6": "UNIQUE",
                                    "7": "NO",
                                    "8": "NO"
                                },
                                {
                                    "0": "tempdb",
                                    "1": "dbo",
                                    "2": "FK_Coach_Category",
                                    "3": "tempdb",
                                    "4": "dbo",
                                    "5": "Coach",
                                    "6": "FOREIGN KEY",
                                    "7": "NO",
                                    "8": "NO"
                                },
                                {
                                    "0": "tempdb",
                                    "1": "dbo",
                                    "2": "AK_Swimmer_FirstName_LastName_YearOfBirth",
                                    "3": "tempdb",
                                    "4": "dbo",
                                    "5": "Swimmer",
                                    "6": "UNIQUE",
                                    "7": "NO",
                                    "8": "NO"
                                },
                                {
                                    "0": "tempdb",
                                    "1": "dbo",
                                    "2": "FK_Swimmer_Category",
                                    "3": "tempdb",
                                    "4": "dbo",
                                    "5": "Swimmer",
                                    "6": "FOREIGN KEY",
                                    "7": "NO",
                                    "8": "NO"
                                },
                                {
                                    "0": "tempdb",
                                    "1": "dbo",
                                    "2": "FK_Swimmer_SwimmingClub",
                                    "3": "tempdb",
                                    "4": "dbo",
                                    "5": "Swimmer",
                                    "6": "FOREIGN KEY",
                                    "7": "NO",
                                    "8": "NO"
                                },
                                {
                                    "0": "tempdb",
                                    "1": "dbo",
                                    "2": "FK_SwimmerCoach_Swimmer",
                                    "3": "tempdb",
                                    "4": "dbo",
                                    "5": "SwimmerCoach",
                                    "6": "FOREIGN KEY",
                                    "7": "NO",
                                    "8": "NO"
                                },
                                {
                                    "0": "tempdb",
                                    "1": "dbo",
                                    "2": "FK_SwimmerCoach_Coach",
                                    "3": "tempdb",
                                    "4": "dbo",
                                    "5": "SwimmerCoach",
                                    "6": "FOREIGN KEY",
                                    "7": "NO",
                                    "8": "NO"
                                },
                                {
                                    "0": "tempdb",
                                    "1": "dbo",
                                    "2": "AK_SwimmingClub_Name_City",
                                    "3": "tempdb",
                                    "4": "dbo",
                                    "5": "SwimmingClub",
                                    "6": "UNIQUE",
                                    "7": "NO",
                                    "8": "NO"
                                }
                            ]
                        },
                        "text/html": "<table><tr><th>CONSTRAINT_CATALOG</th><th>CONSTRAINT_SCHEMA</th><th>CONSTRAINT_NAME</th><th>TABLE_CATALOG</th><th>TABLE_SCHEMA</th><th>TABLE_NAME</th><th>CONSTRAINT_TYPE</th><th>IS_DEFERRABLE</th><th>INITIALLY_DEFERRED</th></tr><tr><td>tempdb</td><td>dbo</td><td>PK__#Swimmer__3213E83F9DF07BF0</td><td>tempdb</td><td>dbo</td><td>#A0DA1E73</td><td>PRIMARY KEY</td><td>NO</td><td>NO</td></tr><tr><td>tempdb</td><td>dbo</td><td>PK__#Club_____3213E83F93AF3918</td><td>tempdb</td><td>dbo</td><td>#A2C266E5</td><td>PRIMARY KEY</td><td>NO</td><td>NO</td></tr><tr><td>tempdb</td><td>dbo</td><td>PK__#A2DCEBF__6894C54B99532214</td><td>tempdb</td><td>dbo</td><td>#A2DCEBFA</td><td>PRIMARY KEY</td><td>NO</td><td>NO</td></tr><tr><td>tempdb</td><td>dbo</td><td>PK__#Coach____3213E83F5EDB519F</td><td>tempdb</td><td>dbo</td><td>#A4AAAF57</td><td>PRIMARY KEY</td><td>NO</td><td>NO</td></tr><tr><td>tempdb</td><td>dbo</td><td>PK__#B21F2F8__6894C54B95DA28F1</td><td>tempdb</td><td>dbo</td><td>#B21F2F8A</td><td>PRIMARY KEY</td><td>NO</td><td>NO</td></tr><tr><td>tempdb</td><td>dbo</td><td>PK__#B31353C__6894C54B04ADA624</td><td>tempdb</td><td>dbo</td><td>#B31353C3</td><td>PRIMARY KEY</td><td>NO</td><td>NO</td></tr><tr><td>tempdb</td><td>dbo</td><td>PK_Category</td><td>tempdb</td><td>dbo</td><td>Category</td><td>PRIMARY KEY</td><td>NO</td><td>NO</td></tr><tr><td>tempdb</td><td>dbo</td><td>PK_Coach</td><td>tempdb</td><td>dbo</td><td>Coach</td><td>PRIMARY KEY</td><td>NO</td><td>NO</td></tr><tr><td>tempdb</td><td>dbo</td><td>PK_Swimmer</td><td>tempdb</td><td>dbo</td><td>Swimmer</td><td>PRIMARY KEY</td><td>NO</td><td>NO</td></tr><tr><td>tempdb</td><td>dbo</td><td>PK_SwimmingClub</td><td>tempdb</td><td>dbo</td><td>SwimmingClub</td><td>PRIMARY KEY</td><td>NO</td><td>NO</td></tr><tr><td>tempdb</td><td>dbo</td><td>AK_Category_Name</td><td>tempdb</td><td>dbo</td><td>Category</td><td>UNIQUE</td><td>NO</td><td>NO</td></tr><tr><td>tempdb</td><td>dbo</td><td>AK_Coach_FirstName_LastName_DateOfBirth</td><td>tempdb</td><td>dbo</td><td>Coach</td><td>UNIQUE</td><td>NO</td><td>NO</td></tr><tr><td>tempdb</td><td>dbo</td><td>FK_Coach_Category</td><td>tempdb</td><td>dbo</td><td>Coach</td><td>FOREIGN KEY</td><td>NO</td><td>NO</td></tr><tr><td>tempdb</td><td>dbo</td><td>AK_Swimmer_FirstName_LastName_YearOfBirth</td><td>tempdb</td><td>dbo</td><td>Swimmer</td><td>UNIQUE</td><td>NO</td><td>NO</td></tr><tr><td>tempdb</td><td>dbo</td><td>FK_Swimmer_Category</td><td>tempdb</td><td>dbo</td><td>Swimmer</td><td>FOREIGN KEY</td><td>NO</td><td>NO</td></tr><tr><td>tempdb</td><td>dbo</td><td>FK_Swimmer_SwimmingClub</td><td>tempdb</td><td>dbo</td><td>Swimmer</td><td>FOREIGN KEY</td><td>NO</td><td>NO</td></tr><tr><td>tempdb</td><td>dbo</td><td>FK_SwimmerCoach_Swimmer</td><td>tempdb</td><td>dbo</td><td>SwimmerCoach</td><td>FOREIGN KEY</td><td>NO</td><td>NO</td></tr><tr><td>tempdb</td><td>dbo</td><td>FK_SwimmerCoach_Coach</td><td>tempdb</td><td>dbo</td><td>SwimmerCoach</td><td>FOREIGN KEY</td><td>NO</td><td>NO</td></tr><tr><td>tempdb</td><td>dbo</td><td>AK_SwimmingClub_Name_City</td><td>tempdb</td><td>dbo</td><td>SwimmingClub</td><td>UNIQUE</td><td>NO</td><td>NO</td></tr></table>"
                    },
                    "metadata": {}
                }
            ],
            "execution_count": 5
        },
        {
            "cell_type": "markdown",
            "source": "_INFORMATION_SCHEMA.KEY_COLUMN_USAGE - представление, содержащее информацию о колонках в объектах ограничений",
            "metadata": {}
        },
        {
            "cell_type": "code",
            "source": "use tempdb\r\ngo\r\n\r\nselect * from INFORMATION_SCHEMA.KEY_COLUMN_USAGE order by TABLE_NAME, CONSTRAINT_NAME, ORDINAL_POSITION",
            "metadata": {},
            "outputs": [
                {
                    "output_type": "display_data",
                    "data": {
                        "text/html": "(24 rows affected)"
                    },
                    "metadata": {}
                },
                {
                    "output_type": "display_data",
                    "data": {
                        "text/html": "Total execution time: 00:00:00.1125895"
                    },
                    "metadata": {}
                },
                {
                    "output_type": "execute_result",
                    "execution_count": 7,
                    "data": {
                        "application/vnd.dataresource+json": {
                            "schema": {
                                "fields": [
                                    {
                                        "name": "CONSTRAINT_CATALOG"
                                    },
                                    {
                                        "name": "CONSTRAINT_SCHEMA"
                                    },
                                    {
                                        "name": "CONSTRAINT_NAME"
                                    },
                                    {
                                        "name": "TABLE_CATALOG"
                                    },
                                    {
                                        "name": "TABLE_SCHEMA"
                                    },
                                    {
                                        "name": "TABLE_NAME"
                                    },
                                    {
                                        "name": "COLUMN_NAME"
                                    },
                                    {
                                        "name": "ORDINAL_POSITION"
                                    }
                                ]
                            },
                            "data": [
                                {
                                    "0": "tempdb",
                                    "1": "dbo",
                                    "2": "PK__#Swimmer__3213E83F9DF07BF0",
                                    "3": "tempdb",
                                    "4": "dbo",
                                    "5": "#A0DA1E73",
                                    "6": "id",
                                    "7": "1"
                                },
                                {
                                    "0": "tempdb",
                                    "1": "dbo",
                                    "2": "PK__#Club_____3213E83F93AF3918",
                                    "3": "tempdb",
                                    "4": "dbo",
                                    "5": "#A2C266E5",
                                    "6": "id",
                                    "7": "1"
                                },
                                {
                                    "0": "tempdb",
                                    "1": "dbo",
                                    "2": "PK__#A2DCEBF__6894C54B99532214",
                                    "3": "tempdb",
                                    "4": "dbo",
                                    "5": "#A2DCEBFA",
                                    "6": "account_name",
                                    "7": "1"
                                },
                                {
                                    "0": "tempdb",
                                    "1": "dbo",
                                    "2": "PK__#Coach____3213E83F5EDB519F",
                                    "3": "tempdb",
                                    "4": "dbo",
                                    "5": "#A4AAAF57",
                                    "6": "id",
                                    "7": "1"
                                },
                                {
                                    "0": "tempdb",
                                    "1": "dbo",
                                    "2": "PK__#B21F2F8__6894C54B95DA28F1",
                                    "3": "tempdb",
                                    "4": "dbo",
                                    "5": "#B21F2F8A",
                                    "6": "account_name",
                                    "7": "1"
                                },
                                {
                                    "0": "tempdb",
                                    "1": "dbo",
                                    "2": "PK__#B31353C__6894C54B04ADA624",
                                    "3": "tempdb",
                                    "4": "dbo",
                                    "5": "#B31353C3",
                                    "6": "account_name",
                                    "7": "1"
                                },
                                {
                                    "0": "tempdb",
                                    "1": "dbo",
                                    "2": "AK_Category_Name",
                                    "3": "tempdb",
                                    "4": "dbo",
                                    "5": "Category",
                                    "6": "Name",
                                    "7": "1"
                                },
                                {
                                    "0": "tempdb",
                                    "1": "dbo",
                                    "2": "PK_Category",
                                    "3": "tempdb",
                                    "4": "dbo",
                                    "5": "Category",
                                    "6": "CategoryID",
                                    "7": "1"
                                },
                                {
                                    "0": "tempdb",
                                    "1": "dbo",
                                    "2": "AK_Coach_FirstName_LastName_DateOfBirth",
                                    "3": "tempdb",
                                    "4": "dbo",
                                    "5": "Coach",
                                    "6": "FirstName",
                                    "7": "1"
                                },
                                {
                                    "0": "tempdb",
                                    "1": "dbo",
                                    "2": "AK_Coach_FirstName_LastName_DateOfBirth",
                                    "3": "tempdb",
                                    "4": "dbo",
                                    "5": "Coach",
                                    "6": "LastName",
                                    "7": "2"
                                },
                                {
                                    "0": "tempdb",
                                    "1": "dbo",
                                    "2": "AK_Coach_FirstName_LastName_DateOfBirth",
                                    "3": "tempdb",
                                    "4": "dbo",
                                    "5": "Coach",
                                    "6": "DateOfBirth",
                                    "7": "3"
                                },
                                {
                                    "0": "tempdb",
                                    "1": "dbo",
                                    "2": "FK_Coach_Category",
                                    "3": "tempdb",
                                    "4": "dbo",
                                    "5": "Coach",
                                    "6": "CategoryID",
                                    "7": "1"
                                },
                                {
                                    "0": "tempdb",
                                    "1": "dbo",
                                    "2": "PK_Coach",
                                    "3": "tempdb",
                                    "4": "dbo",
                                    "5": "Coach",
                                    "6": "CoachID",
                                    "7": "1"
                                },
                                {
                                    "0": "tempdb",
                                    "1": "dbo",
                                    "2": "AK_Swimmer_FirstName_LastName_YearOfBirth",
                                    "3": "tempdb",
                                    "4": "dbo",
                                    "5": "Swimmer",
                                    "6": "FirstName",
                                    "7": "1"
                                },
                                {
                                    "0": "tempdb",
                                    "1": "dbo",
                                    "2": "AK_Swimmer_FirstName_LastName_YearOfBirth",
                                    "3": "tempdb",
                                    "4": "dbo",
                                    "5": "Swimmer",
                                    "6": "LastName",
                                    "7": "2"
                                },
                                {
                                    "0": "tempdb",
                                    "1": "dbo",
                                    "2": "AK_Swimmer_FirstName_LastName_YearOfBirth",
                                    "3": "tempdb",
                                    "4": "dbo",
                                    "5": "Swimmer",
                                    "6": "YearOfBirth",
                                    "7": "3"
                                },
                                {
                                    "0": "tempdb",
                                    "1": "dbo",
                                    "2": "FK_Swimmer_Category",
                                    "3": "tempdb",
                                    "4": "dbo",
                                    "5": "Swimmer",
                                    "6": "CategoryId",
                                    "7": "1"
                                },
                                {
                                    "0": "tempdb",
                                    "1": "dbo",
                                    "2": "FK_Swimmer_SwimmingClub",
                                    "3": "tempdb",
                                    "4": "dbo",
                                    "5": "Swimmer",
                                    "6": "SwimmingClubID",
                                    "7": "1"
                                },
                                {
                                    "0": "tempdb",
                                    "1": "dbo",
                                    "2": "PK_Swimmer",
                                    "3": "tempdb",
                                    "4": "dbo",
                                    "5": "Swimmer",
                                    "6": "SwimmerID",
                                    "7": "1"
                                },
                                {
                                    "0": "tempdb",
                                    "1": "dbo",
                                    "2": "FK_SwimmerCoach_Coach",
                                    "3": "tempdb",
                                    "4": "dbo",
                                    "5": "SwimmerCoach",
                                    "6": "CoachID",
                                    "7": "1"
                                },
                                {
                                    "0": "tempdb",
                                    "1": "dbo",
                                    "2": "FK_SwimmerCoach_Swimmer",
                                    "3": "tempdb",
                                    "4": "dbo",
                                    "5": "SwimmerCoach",
                                    "6": "SwimmerID",
                                    "7": "1"
                                },
                                {
                                    "0": "tempdb",
                                    "1": "dbo",
                                    "2": "AK_SwimmingClub_Name_City",
                                    "3": "tempdb",
                                    "4": "dbo",
                                    "5": "SwimmingClub",
                                    "6": "Name",
                                    "7": "1"
                                },
                                {
                                    "0": "tempdb",
                                    "1": "dbo",
                                    "2": "AK_SwimmingClub_Name_City",
                                    "3": "tempdb",
                                    "4": "dbo",
                                    "5": "SwimmingClub",
                                    "6": "City",
                                    "7": "2"
                                },
                                {
                                    "0": "tempdb",
                                    "1": "dbo",
                                    "2": "PK_SwimmingClub",
                                    "3": "tempdb",
                                    "4": "dbo",
                                    "5": "SwimmingClub",
                                    "6": "SwimmingClubID",
                                    "7": "1"
                                }
                            ]
                        },
                        "text/html": "<table><tr><th>CONSTRAINT_CATALOG</th><th>CONSTRAINT_SCHEMA</th><th>CONSTRAINT_NAME</th><th>TABLE_CATALOG</th><th>TABLE_SCHEMA</th><th>TABLE_NAME</th><th>COLUMN_NAME</th><th>ORDINAL_POSITION</th></tr><tr><td>tempdb</td><td>dbo</td><td>PK__#Swimmer__3213E83F9DF07BF0</td><td>tempdb</td><td>dbo</td><td>#A0DA1E73</td><td>id</td><td>1</td></tr><tr><td>tempdb</td><td>dbo</td><td>PK__#Club_____3213E83F93AF3918</td><td>tempdb</td><td>dbo</td><td>#A2C266E5</td><td>id</td><td>1</td></tr><tr><td>tempdb</td><td>dbo</td><td>PK__#A2DCEBF__6894C54B99532214</td><td>tempdb</td><td>dbo</td><td>#A2DCEBFA</td><td>account_name</td><td>1</td></tr><tr><td>tempdb</td><td>dbo</td><td>PK__#Coach____3213E83F5EDB519F</td><td>tempdb</td><td>dbo</td><td>#A4AAAF57</td><td>id</td><td>1</td></tr><tr><td>tempdb</td><td>dbo</td><td>PK__#B21F2F8__6894C54B95DA28F1</td><td>tempdb</td><td>dbo</td><td>#B21F2F8A</td><td>account_name</td><td>1</td></tr><tr><td>tempdb</td><td>dbo</td><td>PK__#B31353C__6894C54B04ADA624</td><td>tempdb</td><td>dbo</td><td>#B31353C3</td><td>account_name</td><td>1</td></tr><tr><td>tempdb</td><td>dbo</td><td>AK_Category_Name</td><td>tempdb</td><td>dbo</td><td>Category</td><td>Name</td><td>1</td></tr><tr><td>tempdb</td><td>dbo</td><td>PK_Category</td><td>tempdb</td><td>dbo</td><td>Category</td><td>CategoryID</td><td>1</td></tr><tr><td>tempdb</td><td>dbo</td><td>AK_Coach_FirstName_LastName_DateOfBirth</td><td>tempdb</td><td>dbo</td><td>Coach</td><td>FirstName</td><td>1</td></tr><tr><td>tempdb</td><td>dbo</td><td>AK_Coach_FirstName_LastName_DateOfBirth</td><td>tempdb</td><td>dbo</td><td>Coach</td><td>LastName</td><td>2</td></tr><tr><td>tempdb</td><td>dbo</td><td>AK_Coach_FirstName_LastName_DateOfBirth</td><td>tempdb</td><td>dbo</td><td>Coach</td><td>DateOfBirth</td><td>3</td></tr><tr><td>tempdb</td><td>dbo</td><td>FK_Coach_Category</td><td>tempdb</td><td>dbo</td><td>Coach</td><td>CategoryID</td><td>1</td></tr><tr><td>tempdb</td><td>dbo</td><td>PK_Coach</td><td>tempdb</td><td>dbo</td><td>Coach</td><td>CoachID</td><td>1</td></tr><tr><td>tempdb</td><td>dbo</td><td>AK_Swimmer_FirstName_LastName_YearOfBirth</td><td>tempdb</td><td>dbo</td><td>Swimmer</td><td>FirstName</td><td>1</td></tr><tr><td>tempdb</td><td>dbo</td><td>AK_Swimmer_FirstName_LastName_YearOfBirth</td><td>tempdb</td><td>dbo</td><td>Swimmer</td><td>LastName</td><td>2</td></tr><tr><td>tempdb</td><td>dbo</td><td>AK_Swimmer_FirstName_LastName_YearOfBirth</td><td>tempdb</td><td>dbo</td><td>Swimmer</td><td>YearOfBirth</td><td>3</td></tr><tr><td>tempdb</td><td>dbo</td><td>FK_Swimmer_Category</td><td>tempdb</td><td>dbo</td><td>Swimmer</td><td>CategoryId</td><td>1</td></tr><tr><td>tempdb</td><td>dbo</td><td>FK_Swimmer_SwimmingClub</td><td>tempdb</td><td>dbo</td><td>Swimmer</td><td>SwimmingClubID</td><td>1</td></tr><tr><td>tempdb</td><td>dbo</td><td>PK_Swimmer</td><td>tempdb</td><td>dbo</td><td>Swimmer</td><td>SwimmerID</td><td>1</td></tr><tr><td>tempdb</td><td>dbo</td><td>FK_SwimmerCoach_Coach</td><td>tempdb</td><td>dbo</td><td>SwimmerCoach</td><td>CoachID</td><td>1</td></tr><tr><td>tempdb</td><td>dbo</td><td>FK_SwimmerCoach_Swimmer</td><td>tempdb</td><td>dbo</td><td>SwimmerCoach</td><td>SwimmerID</td><td>1</td></tr><tr><td>tempdb</td><td>dbo</td><td>AK_SwimmingClub_Name_City</td><td>tempdb</td><td>dbo</td><td>SwimmingClub</td><td>Name</td><td>1</td></tr><tr><td>tempdb</td><td>dbo</td><td>AK_SwimmingClub_Name_City</td><td>tempdb</td><td>dbo</td><td>SwimmingClub</td><td>City</td><td>2</td></tr><tr><td>tempdb</td><td>dbo</td><td>PK_SwimmingClub</td><td>tempdb</td><td>dbo</td><td>SwimmingClub</td><td>SwimmingClubID</td><td>1</td></tr></table>"
                    },
                    "metadata": {}
                }
            ],
            "execution_count": 7
        },
        {
            "cell_type": "markdown",
            "source": "Более подробную информацию можно найти в системных представлениях схемы sys:",
            "metadata": {}
        },
        {
            "cell_type": "code",
            "source": "use tempdb\r\ngo\r\n\r\nselect * from sys.tables where left([name], 1) <> '#'\r\n--select * from sys.views\r\n--select * from sys.procedures\r\n--select * from sys.triggers\r\n\r\n--select * from sys.key_constraints\r\n\r\n--select * from sys.objects",
            "metadata": {},
            "outputs": [
                {
                    "output_type": "display_data",
                    "data": {
                        "text/html": "Commands completed successfully."
                    },
                    "metadata": {}
                },
                {
                    "output_type": "display_data",
                    "data": {
                        "text/html": "Total execution time: 00:00:00.0014366"
                    },
                    "metadata": {}
                },
                {
                    "output_type": "display_data",
                    "data": {
                        "text/html": "(5 rows affected)"
                    },
                    "metadata": {}
                },
                {
                    "output_type": "display_data",
                    "data": {
                        "text/html": "Total execution time: 00:00:00.0936770"
                    },
                    "metadata": {}
                },
                {
                    "output_type": "execute_result",
                    "execution_count": 12,
                    "data": {
                        "application/vnd.dataresource+json": {
                            "schema": {
                                "fields": [
                                    {
                                        "name": "name"
                                    },
                                    {
                                        "name": "object_id"
                                    },
                                    {
                                        "name": "principal_id"
                                    },
                                    {
                                        "name": "schema_id"
                                    },
                                    {
                                        "name": "parent_object_id"
                                    },
                                    {
                                        "name": "type"
                                    },
                                    {
                                        "name": "type_desc"
                                    },
                                    {
                                        "name": "create_date"
                                    },
                                    {
                                        "name": "modify_date"
                                    },
                                    {
                                        "name": "is_ms_shipped"
                                    },
                                    {
                                        "name": "is_published"
                                    },
                                    {
                                        "name": "is_schema_published"
                                    },
                                    {
                                        "name": "lob_data_space_id"
                                    },
                                    {
                                        "name": "filestream_data_space_id"
                                    },
                                    {
                                        "name": "max_column_id_used"
                                    },
                                    {
                                        "name": "lock_on_bulk_load"
                                    },
                                    {
                                        "name": "uses_ansi_nulls"
                                    },
                                    {
                                        "name": "is_replicated"
                                    },
                                    {
                                        "name": "has_replication_filter"
                                    },
                                    {
                                        "name": "is_merge_published"
                                    },
                                    {
                                        "name": "is_sync_tran_subscribed"
                                    },
                                    {
                                        "name": "has_unchecked_assembly_data"
                                    },
                                    {
                                        "name": "text_in_row_limit"
                                    },
                                    {
                                        "name": "large_value_types_out_of_row"
                                    },
                                    {
                                        "name": "is_tracked_by_cdc"
                                    },
                                    {
                                        "name": "lock_escalation"
                                    },
                                    {
                                        "name": "lock_escalation_desc"
                                    },
                                    {
                                        "name": "is_filetable"
                                    },
                                    {
                                        "name": "is_memory_optimized"
                                    },
                                    {
                                        "name": "durability"
                                    },
                                    {
                                        "name": "durability_desc"
                                    },
                                    {
                                        "name": "temporal_type"
                                    },
                                    {
                                        "name": "temporal_type_desc"
                                    },
                                    {
                                        "name": "history_table_id"
                                    },
                                    {
                                        "name": "is_remote_data_archive_enabled"
                                    },
                                    {
                                        "name": "is_external"
                                    },
                                    {
                                        "name": "history_retention_period"
                                    },
                                    {
                                        "name": "history_retention_period_unit"
                                    },
                                    {
                                        "name": "history_retention_period_unit_desc"
                                    },
                                    {
                                        "name": "is_node"
                                    },
                                    {
                                        "name": "is_edge"
                                    }
                                ]
                            },
                            "data": [
                                {
                                    "0": "Category",
                                    "1": "949578421",
                                    "2": "NULL",
                                    "3": "1",
                                    "4": "0",
                                    "5": "U ",
                                    "6": "USER_TABLE",
                                    "7": "2019-04-29 12:36:37.600",
                                    "8": "2019-04-29 12:40:20.173",
                                    "9": "0",
                                    "10": "0",
                                    "11": "0",
                                    "12": "0",
                                    "13": "NULL",
                                    "14": "3",
                                    "15": "0",
                                    "16": "1",
                                    "17": "0",
                                    "18": "0",
                                    "19": "0",
                                    "20": "0",
                                    "21": "0",
                                    "22": "0",
                                    "23": "0",
                                    "24": "0",
                                    "25": "0",
                                    "26": "TABLE",
                                    "27": "0",
                                    "28": "0",
                                    "29": "0",
                                    "30": "SCHEMA_AND_DATA",
                                    "31": "0",
                                    "32": "NON_TEMPORAL_TABLE",
                                    "33": "NULL",
                                    "34": "0",
                                    "35": "0",
                                    "36": "NULL",
                                    "37": "NULL",
                                    "38": "NULL",
                                    "39": "0",
                                    "40": "0"
                                },
                                {
                                    "0": "Coach",
                                    "1": "981578535",
                                    "2": "NULL",
                                    "3": "1",
                                    "4": "0",
                                    "5": "U ",
                                    "6": "USER_TABLE",
                                    "7": "2019-04-29 12:36:57.880",
                                    "8": "2019-04-29 12:40:26.647",
                                    "9": "0",
                                    "10": "0",
                                    "11": "0",
                                    "12": "0",
                                    "13": "NULL",
                                    "14": "6",
                                    "15": "0",
                                    "16": "1",
                                    "17": "0",
                                    "18": "0",
                                    "19": "0",
                                    "20": "0",
                                    "21": "0",
                                    "22": "0",
                                    "23": "0",
                                    "24": "0",
                                    "25": "0",
                                    "26": "TABLE",
                                    "27": "0",
                                    "28": "0",
                                    "29": "0",
                                    "30": "SCHEMA_AND_DATA",
                                    "31": "0",
                                    "32": "NON_TEMPORAL_TABLE",
                                    "33": "NULL",
                                    "34": "0",
                                    "35": "0",
                                    "36": "NULL",
                                    "37": "NULL",
                                    "38": "NULL",
                                    "39": "0",
                                    "40": "0"
                                },
                                {
                                    "0": "Swimmer",
                                    "1": "1093578934",
                                    "2": "NULL",
                                    "3": "1",
                                    "4": "0",
                                    "5": "U ",
                                    "6": "USER_TABLE",
                                    "7": "2019-04-29 12:37:14.167",
                                    "8": "2019-04-29 16:21:16.177",
                                    "9": "0",
                                    "10": "0",
                                    "11": "0",
                                    "12": "0",
                                    "13": "NULL",
                                    "14": "10",
                                    "15": "0",
                                    "16": "1",
                                    "17": "0",
                                    "18": "0",
                                    "19": "0",
                                    "20": "0",
                                    "21": "0",
                                    "22": "0",
                                    "23": "0",
                                    "24": "0",
                                    "25": "0",
                                    "26": "TABLE",
                                    "27": "0",
                                    "28": "0",
                                    "29": "0",
                                    "30": "SCHEMA_AND_DATA",
                                    "31": "0",
                                    "32": "NON_TEMPORAL_TABLE",
                                    "33": "NULL",
                                    "34": "0",
                                    "35": "0",
                                    "36": "NULL",
                                    "37": "NULL",
                                    "38": "NULL",
                                    "39": "0",
                                    "40": "0"
                                },
                                {
                                    "0": "SwimmerCoach",
                                    "1": "1125579048",
                                    "2": "NULL",
                                    "3": "1",
                                    "4": "0",
                                    "5": "U ",
                                    "6": "USER_TABLE",
                                    "7": "2019-04-29 12:37:25.647",
                                    "8": "2019-04-29 12:40:26.640",
                                    "9": "0",
                                    "10": "0",
                                    "11": "0",
                                    "12": "0",
                                    "13": "NULL",
                                    "14": "3",
                                    "15": "0",
                                    "16": "1",
                                    "17": "0",
                                    "18": "0",
                                    "19": "0",
                                    "20": "0",
                                    "21": "0",
                                    "22": "0",
                                    "23": "0",
                                    "24": "0",
                                    "25": "0",
                                    "26": "TABLE",
                                    "27": "0",
                                    "28": "0",
                                    "29": "0",
                                    "30": "SCHEMA_AND_DATA",
                                    "31": "0",
                                    "32": "NON_TEMPORAL_TABLE",
                                    "33": "NULL",
                                    "34": "0",
                                    "35": "0",
                                    "36": "NULL",
                                    "37": "NULL",
                                    "38": "NULL",
                                    "39": "0",
                                    "40": "0"
                                },
                                {
                                    "0": "SwimmingClub",
                                    "1": "1141579105",
                                    "2": "NULL",
                                    "3": "1",
                                    "4": "0",
                                    "5": "U ",
                                    "6": "USER_TABLE",
                                    "7": "2019-04-29 12:37:32.427",
                                    "8": "2019-04-29 12:40:33.370",
                                    "9": "0",
                                    "10": "0",
                                    "11": "0",
                                    "12": "0",
                                    "13": "NULL",
                                    "14": "7",
                                    "15": "0",
                                    "16": "1",
                                    "17": "0",
                                    "18": "0",
                                    "19": "0",
                                    "20": "0",
                                    "21": "0",
                                    "22": "0",
                                    "23": "0",
                                    "24": "0",
                                    "25": "0",
                                    "26": "TABLE",
                                    "27": "0",
                                    "28": "0",
                                    "29": "0",
                                    "30": "SCHEMA_AND_DATA",
                                    "31": "0",
                                    "32": "NON_TEMPORAL_TABLE",
                                    "33": "NULL",
                                    "34": "0",
                                    "35": "0",
                                    "36": "NULL",
                                    "37": "NULL",
                                    "38": "NULL",
                                    "39": "0",
                                    "40": "0"
                                }
                            ]
                        },
                        "text/html": "<table><tr><th>name</th><th>object_id</th><th>principal_id</th><th>schema_id</th><th>parent_object_id</th><th>type</th><th>type_desc</th><th>create_date</th><th>modify_date</th><th>is_ms_shipped</th><th>is_published</th><th>is_schema_published</th><th>lob_data_space_id</th><th>filestream_data_space_id</th><th>max_column_id_used</th><th>lock_on_bulk_load</th><th>uses_ansi_nulls</th><th>is_replicated</th><th>has_replication_filter</th><th>is_merge_published</th><th>is_sync_tran_subscribed</th><th>has_unchecked_assembly_data</th><th>text_in_row_limit</th><th>large_value_types_out_of_row</th><th>is_tracked_by_cdc</th><th>lock_escalation</th><th>lock_escalation_desc</th><th>is_filetable</th><th>is_memory_optimized</th><th>durability</th><th>durability_desc</th><th>temporal_type</th><th>temporal_type_desc</th><th>history_table_id</th><th>is_remote_data_archive_enabled</th><th>is_external</th><th>history_retention_period</th><th>history_retention_period_unit</th><th>history_retention_period_unit_desc</th><th>is_node</th><th>is_edge</th></tr><tr><td>Category</td><td>949578421</td><td>NULL</td><td>1</td><td>0</td><td>U </td><td>USER_TABLE</td><td>2019-04-29 12:36:37.600</td><td>2019-04-29 12:40:20.173</td><td>0</td><td>0</td><td>0</td><td>0</td><td>NULL</td><td>3</td><td>0</td><td>1</td><td>0</td><td>0</td><td>0</td><td>0</td><td>0</td><td>0</td><td>0</td><td>0</td><td>0</td><td>TABLE</td><td>0</td><td>0</td><td>0</td><td>SCHEMA_AND_DATA</td><td>0</td><td>NON_TEMPORAL_TABLE</td><td>NULL</td><td>0</td><td>0</td><td>NULL</td><td>NULL</td><td>NULL</td><td>0</td><td>0</td></tr><tr><td>Coach</td><td>981578535</td><td>NULL</td><td>1</td><td>0</td><td>U </td><td>USER_TABLE</td><td>2019-04-29 12:36:57.880</td><td>2019-04-29 12:40:26.647</td><td>0</td><td>0</td><td>0</td><td>0</td><td>NULL</td><td>6</td><td>0</td><td>1</td><td>0</td><td>0</td><td>0</td><td>0</td><td>0</td><td>0</td><td>0</td><td>0</td><td>0</td><td>TABLE</td><td>0</td><td>0</td><td>0</td><td>SCHEMA_AND_DATA</td><td>0</td><td>NON_TEMPORAL_TABLE</td><td>NULL</td><td>0</td><td>0</td><td>NULL</td><td>NULL</td><td>NULL</td><td>0</td><td>0</td></tr><tr><td>Swimmer</td><td>1093578934</td><td>NULL</td><td>1</td><td>0</td><td>U </td><td>USER_TABLE</td><td>2019-04-29 12:37:14.167</td><td>2019-04-29 16:21:16.177</td><td>0</td><td>0</td><td>0</td><td>0</td><td>NULL</td><td>10</td><td>0</td><td>1</td><td>0</td><td>0</td><td>0</td><td>0</td><td>0</td><td>0</td><td>0</td><td>0</td><td>0</td><td>TABLE</td><td>0</td><td>0</td><td>0</td><td>SCHEMA_AND_DATA</td><td>0</td><td>NON_TEMPORAL_TABLE</td><td>NULL</td><td>0</td><td>0</td><td>NULL</td><td>NULL</td><td>NULL</td><td>0</td><td>0</td></tr><tr><td>SwimmerCoach</td><td>1125579048</td><td>NULL</td><td>1</td><td>0</td><td>U </td><td>USER_TABLE</td><td>2019-04-29 12:37:25.647</td><td>2019-04-29 12:40:26.640</td><td>0</td><td>0</td><td>0</td><td>0</td><td>NULL</td><td>3</td><td>0</td><td>1</td><td>0</td><td>0</td><td>0</td><td>0</td><td>0</td><td>0</td><td>0</td><td>0</td><td>0</td><td>TABLE</td><td>0</td><td>0</td><td>0</td><td>SCHEMA_AND_DATA</td><td>0</td><td>NON_TEMPORAL_TABLE</td><td>NULL</td><td>0</td><td>0</td><td>NULL</td><td>NULL</td><td>NULL</td><td>0</td><td>0</td></tr><tr><td>SwimmingClub</td><td>1141579105</td><td>NULL</td><td>1</td><td>0</td><td>U </td><td>USER_TABLE</td><td>2019-04-29 12:37:32.427</td><td>2019-04-29 12:40:33.370</td><td>0</td><td>0</td><td>0</td><td>0</td><td>NULL</td><td>7</td><td>0</td><td>1</td><td>0</td><td>0</td><td>0</td><td>0</td><td>0</td><td>0</td><td>0</td><td>0</td><td>0</td><td>TABLE</td><td>0</td><td>0</td><td>0</td><td>SCHEMA_AND_DATA</td><td>0</td><td>NON_TEMPORAL_TABLE</td><td>NULL</td><td>0</td><td>0</td><td>NULL</td><td>NULL</td><td>NULL</td><td>0</td><td>0</td></tr></table>"
                    },
                    "metadata": {}
                }
            ],
            "execution_count": 12
        },
        {
            "cell_type": "markdown",
            "source": "С помощью представления sys.all_sql_modules можно получить sql-код программных объектов, в том числе системных!<br/>\r\nНапример,:",
            "metadata": {}
        },
        {
            "cell_type": "code",
            "source": "use tempdb\r\ngo\r\n\r\ndeclare @sql varchar(max)\r\nselect @sql = [definition] from sys.all_sql_modules where [definition] like '%INFORMATION_SCHEMA.COLUMNS%'\r\n\r\nprint @sql",
            "metadata": {},
            "outputs": [
                {
                    "output_type": "display_data",
                    "data": {
                        "text/html": "Commands completed successfully."
                    },
                    "metadata": {}
                },
                {
                    "output_type": "display_data",
                    "data": {
                        "text/html": "Total execution time: 00:00:00.0033669"
                    },
                    "metadata": {}
                },
                {
                    "output_type": "display_data",
                    "data": {
                        "text/html": "<p>"
                    },
                    "metadata": {}
                },
                {
                    "output_type": "display_data",
                    "data": {
                        "text/html": "CREATE VIEW INFORMATION_SCHEMA.COLUMNS\r\nAS\r\nSELECT\r\n\tDB_NAME()\t\t\t\t\t\t\t\t\tAS TABLE_CATALOG,\r\n\tSCHEMA_NAME(o.schema_id)\t\t\t\t\t\tAS TABLE_SCHEMA,\r\n\to.name\t\t\t\t\t\t\t\t\t\tAS TABLE_NAME,\r\n\tc.name\t\t\t\t\t\t\t\t\t\tAS COLUMN_NAME,\r\n\tCOLUMNPROPERTY(c.object_id, c.name, 'ordinal')\t\tAS ORDINAL_POSITION,\r\n\tconvert(nvarchar(4000),\r\n\t\tOBJECT_DEFINITION(c.default_object_id))\t\t\tAS COLUMN_DEFAULT,\r\n\tconvert(varchar(3), CASE c.is_nullable\r\n\t\tWHEN 1 THEN 'YES' ELSE 'NO' END)\t\t\tAS IS_NULLABLE,\r\n\tISNULL(TYPE_NAME(c.system_type_id), t.name)\t\tAS DATA_TYPE,\r\n\tCOLUMNPROPERTY(c.object_id, c.name, 'charmaxlen')\tAS CHARACTER_MAXIMUM_LENGTH,\r\n\tCOLUMNPROPERTY(c.object_id, c.name, 'octetmaxlen')\tAS CHARACTER_OCTET_LENGTH,\r\n\tconvert(tinyint, CASE -- int/decimal/numeric/real/float/money\r\n\t\tWHEN c.system_type_id IN (48, 52, 56, 59, 60, 62, 106, 108, 122, 127) THEN c.precision\r\n\t\tEND)\t\t\t\t\t\t\t\t\t\tAS NUMERIC_PRECISION,\r\n\tconvert(smallint, CASE\t-- int/money/decimal/numeric\r\n\t\tWHEN c.system_type_id IN (48, 52, 56, 60, 106, 108, 122, 127) THEN 10\r\n\t\tWHEN c.system_type_id IN (59, 62) THEN 2 END)\tAS NUMERIC_PRECISION_RADIX,\t-- real/float\r\n\tconvert(int, CASE\t-- datetime/smalldatetime\r\n\t\tWHEN c.system_type_id IN (40, 41, 42, 43, 58, 61) THEN NULL\r\n\t\tELSE ODBCSCALE(c.system_type_id, c.scale) END)\tAS NUMERIC_SCALE,\r\n\tconvert(smallint, CASE -- datetime/smalldatetime\r\n\t\tWHEN c.system_type_id IN (40, 41, 42, 43, 58, 61) THEN ODBCSCALE(c.system_type_id, c.scale) END)\tAS DATETIME_PRECISION,\r\n\tconvert(sysname, null)\t\t\t\t\tAS CHARACTER_SET_CATALOG,\r\n\tconvert(sysname, null) collate catalog_default\tAS CHARACTER_SET_SCHEMA,\r\n\tconvert(sysname, CASE\r\n\t\tWHEN c.system_type_id IN (35, 167, 175)\t-- char/varchar/text\r\n\t\t\tTHEN COLLATIONPROPERTY(c.collation_name, 'sqlcharsetname')\r\n\t\tWHEN c.system_type_id IN (99, 231, 239)\t-- nchar/nvarchar/ntext\r\n\t\t\tTHEN N'UNICODE'\r\n\t\tEND)\t\t\t\t\t\tAS CHARACTER_SET_NAME,\r\n\tconvert(sysname, null)\t\t\t\tAS COLLATION_CATALOG,\r\n\tconvert(sysname, null) collate catalog_default\t\tAS COLLATION_SCHEMA,\r\n\tc.collation_name\t\t\t\t\tAS COLLATION_NAME,\r\n\tconvert(sysname, CASE WHEN c.user_type_id > 256\r\n\t\tTHEN DB_NAME() END)\t\t\tAS DOMAIN_CATALOG,\r\n\tconvert(sysname, CASE WHEN c.user_type_id > 256\r\n\t\tTHEN SCHEMA_NAME(t.schema_id)\r\n\t\tEND)\t\t\t\t\t\tAS DOMAIN_SCHEMA,\r\n\tconvert(sysname, CASE WHEN c.user_type_id > 256  \r\n\t\tTHEN TYPE_NAME(c.user_type_id)\r\n\t\tEND)\t\t\t\t\t\tAS DOMAIN_NAME\r\nFROM\r\n\tsys.objects o JOIN sys.columns c ON c.object_id = o.object_id\r\n\tLEFT JOIN sys.types t ON c.user_type_id = t.user_type_id\r\nWHERE\r\n\to.type IN ('U', 'V')\r\n"
                    },
                    "metadata": {}
                },
                {
                    "output_type": "display_data",
                    "data": {
                        "text/html": "</p>"
                    },
                    "metadata": {}
                },
                {
                    "output_type": "display_data",
                    "data": {
                        "text/html": "Total execution time: 00:00:02.1143411"
                    },
                    "metadata": {}
                }
            ],
            "execution_count": 7
        },
        {
            "cell_type": "markdown",
            "source": "<b>Кроме системных представлений</b>, существуют системные таблицы, функции, процедуры.\r\nНапример, функции OBJECT_ID, USER_NAME и др",
            "metadata": {}
        },
        {
            "cell_type": "code",
            "source": "use tempdb\r\ngo\r\n\r\nselect OBJECT_ID('dbo.Swimmer')\r\n\r\nselect USER_NAME(), DB_NAME()",
            "metadata": {},
            "outputs": [
                {
                    "output_type": "display_data",
                    "data": {
                        "text/html": "Commands completed successfully."
                    },
                    "metadata": {}
                },
                {
                    "output_type": "display_data",
                    "data": {
                        "text/html": "Total execution time: 00:00:00.0016995"
                    },
                    "metadata": {}
                },
                {
                    "output_type": "display_data",
                    "data": {
                        "text/html": "(1 row affected)"
                    },
                    "metadata": {}
                },
                {
                    "output_type": "display_data",
                    "data": {
                        "text/html": "(1 row affected)"
                    },
                    "metadata": {}
                },
                {
                    "output_type": "display_data",
                    "data": {
                        "text/html": "Total execution time: 00:00:00.0101423"
                    },
                    "metadata": {}
                },
                {
                    "output_type": "execute_result",
                    "metadata": {},
                    "execution_count": 8,
                    "data": {
                        "application/vnd.dataresource+json": {
                            "schema": {
                                "fields": [
                                    {
                                        "name": "(No column name)"
                                    }
                                ]
                            },
                            "data": [
                                {
                                    "0": "1093578934"
                                }
                            ]
                        },
                        "text/html": "<table><tr><th>(No column name)</th></tr><tr><td>1093578934</td></tr></table>"
                    }
                },
                {
                    "output_type": "execute_result",
                    "metadata": {},
                    "execution_count": 8,
                    "data": {
                        "application/vnd.dataresource+json": {
                            "schema": {
                                "fields": [
                                    {
                                        "name": "(No column name)"
                                    },
                                    {
                                        "name": "(No column name)"
                                    }
                                ]
                            },
                            "data": [
                                {
                                    "0": "dbo",
                                    "1": "tempdb"
                                }
                            ]
                        },
                        "text/html": "<table><tr><th>(No column name)</th><th>(No column name)</th></tr><tr><td>dbo</td><td>tempdb</td></tr></table>"
                    }
                }
            ],
            "execution_count": 8
        },
        {
            "cell_type": "markdown",
            "source": "<b>Динамические административные представления</b> (Dynamic Management Views, DMV) и <b>динамические административные функции (Dynamic Management Functions, DMF)</b> возвращают информацию о состоянии сервера, которую можно применить для наблюдения над активными процессами и, следственно, для настройки производительности системы или для отслеживания действительного состояния системы. В отличие от представлений каталога, DMV и DMF основаны на внутренних структурах системы.\r\n\r\nОсновное различие между представлениями каталога и DMV состоит в их применении: представления каталога предоставляют информацию о метаданных, тогда как DMV и DMF применяются для доступа к динамическим свойствам системы. Иными словами, DMV применяются для получения информации о базе данных, об отдельных запросах или отдельных пользователях.\r\n\r\nDMV и DMF принадлежат к схеме sys, а их имена состоят из префикса dm_ и текстовой строки, указывающей категорию, к которой принадлежит DMV или DMF.\r\n\r\nВ следующем списке перечислены некоторые из этих категорий и даны их краткие описания:\r\n\r\n    sys.dm_db_* - возвращает информацию о базах данных и их объектах;\r\n\r\n    sys.dm_tran_* - возвращает информацию, имеющую отношение к транзакциям;\r\n\r\n    sys.dm_io_* - возвращает информацию о действиях по вводу/выводу;\r\n\r\n    sys.dm_exec_* - возвращает информацию, связанную с исполнением пользовательского кода.\r\n\r\nВ каждой новой версии SQL Server корпорация Microsoft непрерывно увеличивает количество поддерживаемых DMV",
            "metadata": {}
        },
        {
            "cell_type": "code",
            "source": "use tempdb\r\ngo\r\n\r\ncreate or alter procedure dbo.usp_getSwimmerCoaches\r\n  @SwimmerId int = null\r\nas\r\nbegin\r\n  select * \r\n  from dbo.Coach c\r\n  join dbo.SwimmerCoach sc on sc.CoachId = c.CoachId\r\n  where sc.SwimmerId = @SwimmerId or @SwimmerId is null\r\nend\r\ngo\r\n\r\nselect * from sys.dm_exec_describe_first_result_set ('dbo.usp_getSwimmerCoaches', NULL, 0)",
            "metadata": {},
            "outputs": [
                {
                    "output_type": "display_data",
                    "data": {
                        "text/html": "Commands completed successfully."
                    },
                    "metadata": {}
                },
                {
                    "output_type": "display_data",
                    "data": {
                        "text/html": "Total execution time: 00:00:00.0016558"
                    },
                    "metadata": {}
                },
                {
                    "output_type": "display_data",
                    "data": {
                        "text/html": "Commands completed successfully."
                    },
                    "metadata": {}
                },
                {
                    "output_type": "display_data",
                    "data": {
                        "text/html": "Total execution time: 00:00:00.0041101"
                    },
                    "metadata": {}
                },
                {
                    "output_type": "display_data",
                    "data": {
                        "text/html": "(9 rows affected)"
                    },
                    "metadata": {}
                },
                {
                    "output_type": "display_data",
                    "data": {
                        "text/html": "Total execution time: 00:00:00.0145716"
                    },
                    "metadata": {}
                },
                {
                    "output_type": "execute_result",
                    "metadata": {},
                    "execution_count": 11,
                    "data": {
                        "application/vnd.dataresource+json": {
                            "schema": {
                                "fields": [
                                    {
                                        "name": "is_hidden"
                                    },
                                    {
                                        "name": "column_ordinal"
                                    },
                                    {
                                        "name": "name"
                                    },
                                    {
                                        "name": "is_nullable"
                                    },
                                    {
                                        "name": "system_type_id"
                                    },
                                    {
                                        "name": "system_type_name"
                                    },
                                    {
                                        "name": "max_length"
                                    },
                                    {
                                        "name": "precision"
                                    },
                                    {
                                        "name": "scale"
                                    },
                                    {
                                        "name": "collation_name"
                                    },
                                    {
                                        "name": "user_type_id"
                                    },
                                    {
                                        "name": "user_type_database"
                                    },
                                    {
                                        "name": "user_type_schema"
                                    },
                                    {
                                        "name": "user_type_name"
                                    },
                                    {
                                        "name": "assembly_qualified_type_name"
                                    },
                                    {
                                        "name": "xml_collection_id"
                                    },
                                    {
                                        "name": "xml_collection_database"
                                    },
                                    {
                                        "name": "xml_collection_schema"
                                    },
                                    {
                                        "name": "xml_collection_name"
                                    },
                                    {
                                        "name": "is_xml_document"
                                    },
                                    {
                                        "name": "is_case_sensitive"
                                    },
                                    {
                                        "name": "is_fixed_length_clr_type"
                                    },
                                    {
                                        "name": "source_server"
                                    },
                                    {
                                        "name": "source_database"
                                    },
                                    {
                                        "name": "source_schema"
                                    },
                                    {
                                        "name": "source_table"
                                    },
                                    {
                                        "name": "source_column"
                                    },
                                    {
                                        "name": "is_identity_column"
                                    },
                                    {
                                        "name": "is_part_of_unique_key"
                                    },
                                    {
                                        "name": "is_updateable"
                                    },
                                    {
                                        "name": "is_computed_column"
                                    },
                                    {
                                        "name": "is_sparse_column_set"
                                    },
                                    {
                                        "name": "ordinal_in_order_by_list"
                                    },
                                    {
                                        "name": "order_by_is_descending"
                                    },
                                    {
                                        "name": "order_by_list_length"
                                    },
                                    {
                                        "name": "error_number"
                                    },
                                    {
                                        "name": "error_severity"
                                    },
                                    {
                                        "name": "error_state"
                                    },
                                    {
                                        "name": "error_message"
                                    },
                                    {
                                        "name": "error_type"
                                    },
                                    {
                                        "name": "error_type_desc"
                                    }
                                ]
                            },
                            "data": [
                                {
                                    "0": "0",
                                    "1": "1",
                                    "2": "CoachID",
                                    "3": "0",
                                    "4": "56",
                                    "5": "int",
                                    "6": "4",
                                    "7": "10",
                                    "8": "0",
                                    "9": "NULL",
                                    "10": "NULL",
                                    "11": "NULL",
                                    "12": "NULL",
                                    "13": "NULL",
                                    "14": "NULL",
                                    "15": "NULL",
                                    "16": "NULL",
                                    "17": "NULL",
                                    "18": "NULL",
                                    "19": "0",
                                    "20": "0",
                                    "21": "0",
                                    "22": "NULL",
                                    "23": "NULL",
                                    "24": "NULL",
                                    "25": "NULL",
                                    "26": "NULL",
                                    "27": "1",
                                    "28": "NULL",
                                    "29": "0",
                                    "30": "0",
                                    "31": "0",
                                    "32": "NULL",
                                    "33": "NULL",
                                    "34": "NULL",
                                    "35": "NULL",
                                    "36": "NULL",
                                    "37": "NULL",
                                    "38": "NULL",
                                    "39": "NULL",
                                    "40": "NULL"
                                },
                                {
                                    "0": "0",
                                    "1": "2",
                                    "2": "FirstName",
                                    "3": "0",
                                    "4": "231",
                                    "5": "nvarchar(20)",
                                    "6": "40",
                                    "7": "0",
                                    "8": "0",
                                    "9": "SQL_Latin1_General_CP1_CI_AS",
                                    "10": "NULL",
                                    "11": "NULL",
                                    "12": "NULL",
                                    "13": "NULL",
                                    "14": "NULL",
                                    "15": "NULL",
                                    "16": "NULL",
                                    "17": "NULL",
                                    "18": "NULL",
                                    "19": "0",
                                    "20": "0",
                                    "21": "0",
                                    "22": "NULL",
                                    "23": "NULL",
                                    "24": "NULL",
                                    "25": "NULL",
                                    "26": "NULL",
                                    "27": "0",
                                    "28": "NULL",
                                    "29": "1",
                                    "30": "0",
                                    "31": "0",
                                    "32": "NULL",
                                    "33": "NULL",
                                    "34": "NULL",
                                    "35": "NULL",
                                    "36": "NULL",
                                    "37": "NULL",
                                    "38": "NULL",
                                    "39": "NULL",
                                    "40": "NULL"
                                },
                                {
                                    "0": "0",
                                    "1": "3",
                                    "2": "LastName",
                                    "3": "0",
                                    "4": "231",
                                    "5": "nvarchar(30)",
                                    "6": "60",
                                    "7": "0",
                                    "8": "0",
                                    "9": "SQL_Latin1_General_CP1_CI_AS",
                                    "10": "NULL",
                                    "11": "NULL",
                                    "12": "NULL",
                                    "13": "NULL",
                                    "14": "NULL",
                                    "15": "NULL",
                                    "16": "NULL",
                                    "17": "NULL",
                                    "18": "NULL",
                                    "19": "0",
                                    "20": "0",
                                    "21": "0",
                                    "22": "NULL",
                                    "23": "NULL",
                                    "24": "NULL",
                                    "25": "NULL",
                                    "26": "NULL",
                                    "27": "0",
                                    "28": "NULL",
                                    "29": "1",
                                    "30": "0",
                                    "31": "0",
                                    "32": "NULL",
                                    "33": "NULL",
                                    "34": "NULL",
                                    "35": "NULL",
                                    "36": "NULL",
                                    "37": "NULL",
                                    "38": "NULL",
                                    "39": "NULL",
                                    "40": "NULL"
                                },
                                {
                                    "0": "0",
                                    "1": "4",
                                    "2": "DateOfBirth",
                                    "3": "1",
                                    "4": "40",
                                    "5": "date",
                                    "6": "3",
                                    "7": "10",
                                    "8": "0",
                                    "9": "NULL",
                                    "10": "NULL",
                                    "11": "NULL",
                                    "12": "NULL",
                                    "13": "NULL",
                                    "14": "NULL",
                                    "15": "NULL",
                                    "16": "NULL",
                                    "17": "NULL",
                                    "18": "NULL",
                                    "19": "0",
                                    "20": "0",
                                    "21": "0",
                                    "22": "NULL",
                                    "23": "NULL",
                                    "24": "NULL",
                                    "25": "NULL",
                                    "26": "NULL",
                                    "27": "0",
                                    "28": "NULL",
                                    "29": "1",
                                    "30": "0",
                                    "31": "0",
                                    "32": "NULL",
                                    "33": "NULL",
                                    "34": "NULL",
                                    "35": "NULL",
                                    "36": "NULL",
                                    "37": "NULL",
                                    "38": "NULL",
                                    "39": "NULL",
                                    "40": "NULL"
                                },
                                {
                                    "0": "0",
                                    "1": "5",
                                    "2": "CategoryID",
                                    "3": "1",
                                    "4": "48",
                                    "5": "tinyint",
                                    "6": "1",
                                    "7": "3",
                                    "8": "0",
                                    "9": "NULL",
                                    "10": "NULL",
                                    "11": "NULL",
                                    "12": "NULL",
                                    "13": "NULL",
                                    "14": "NULL",
                                    "15": "NULL",
                                    "16": "NULL",
                                    "17": "NULL",
                                    "18": "NULL",
                                    "19": "0",
                                    "20": "0",
                                    "21": "0",
                                    "22": "NULL",
                                    "23": "NULL",
                                    "24": "NULL",
                                    "25": "NULL",
                                    "26": "NULL",
                                    "27": "0",
                                    "28": "NULL",
                                    "29": "1",
                                    "30": "0",
                                    "31": "0",
                                    "32": "NULL",
                                    "33": "NULL",
                                    "34": "NULL",
                                    "35": "NULL",
                                    "36": "NULL",
                                    "37": "NULL",
                                    "38": "NULL",
                                    "39": "NULL",
                                    "40": "NULL"
                                },
                                {
                                    "0": "0",
                                    "1": "6",
                                    "2": "ModifiedDate",
                                    "3": "0",
                                    "4": "61",
                                    "5": "datetime",
                                    "6": "8",
                                    "7": "23",
                                    "8": "3",
                                    "9": "NULL",
                                    "10": "NULL",
                                    "11": "NULL",
                                    "12": "NULL",
                                    "13": "NULL",
                                    "14": "NULL",
                                    "15": "NULL",
                                    "16": "NULL",
                                    "17": "NULL",
                                    "18": "NULL",
                                    "19": "0",
                                    "20": "0",
                                    "21": "0",
                                    "22": "NULL",
                                    "23": "NULL",
                                    "24": "NULL",
                                    "25": "NULL",
                                    "26": "NULL",
                                    "27": "0",
                                    "28": "NULL",
                                    "29": "1",
                                    "30": "0",
                                    "31": "0",
                                    "32": "NULL",
                                    "33": "NULL",
                                    "34": "NULL",
                                    "35": "NULL",
                                    "36": "NULL",
                                    "37": "NULL",
                                    "38": "NULL",
                                    "39": "NULL",
                                    "40": "NULL"
                                },
                                {
                                    "0": "0",
                                    "1": "7",
                                    "2": "SwimmerID",
                                    "3": "0",
                                    "4": "56",
                                    "5": "int",
                                    "6": "4",
                                    "7": "10",
                                    "8": "0",
                                    "9": "NULL",
                                    "10": "NULL",
                                    "11": "NULL",
                                    "12": "NULL",
                                    "13": "NULL",
                                    "14": "NULL",
                                    "15": "NULL",
                                    "16": "NULL",
                                    "17": "NULL",
                                    "18": "NULL",
                                    "19": "0",
                                    "20": "0",
                                    "21": "0",
                                    "22": "NULL",
                                    "23": "NULL",
                                    "24": "NULL",
                                    "25": "NULL",
                                    "26": "NULL",
                                    "27": "0",
                                    "28": "NULL",
                                    "29": "1",
                                    "30": "0",
                                    "31": "0",
                                    "32": "NULL",
                                    "33": "NULL",
                                    "34": "NULL",
                                    "35": "NULL",
                                    "36": "NULL",
                                    "37": "NULL",
                                    "38": "NULL",
                                    "39": "NULL",
                                    "40": "NULL"
                                },
                                {
                                    "0": "0",
                                    "1": "8",
                                    "2": "CoachID",
                                    "3": "0",
                                    "4": "56",
                                    "5": "int",
                                    "6": "4",
                                    "7": "10",
                                    "8": "0",
                                    "9": "NULL",
                                    "10": "NULL",
                                    "11": "NULL",
                                    "12": "NULL",
                                    "13": "NULL",
                                    "14": "NULL",
                                    "15": "NULL",
                                    "16": "NULL",
                                    "17": "NULL",
                                    "18": "NULL",
                                    "19": "0",
                                    "20": "0",
                                    "21": "0",
                                    "22": "NULL",
                                    "23": "NULL",
                                    "24": "NULL",
                                    "25": "NULL",
                                    "26": "NULL",
                                    "27": "0",
                                    "28": "NULL",
                                    "29": "1",
                                    "30": "0",
                                    "31": "0",
                                    "32": "NULL",
                                    "33": "NULL",
                                    "34": "NULL",
                                    "35": "NULL",
                                    "36": "NULL",
                                    "37": "NULL",
                                    "38": "NULL",
                                    "39": "NULL",
                                    "40": "NULL"
                                },
                                {
                                    "0": "0",
                                    "1": "9",
                                    "2": "ModifiedDate",
                                    "3": "0",
                                    "4": "61",
                                    "5": "datetime",
                                    "6": "8",
                                    "7": "23",
                                    "8": "3",
                                    "9": "NULL",
                                    "10": "NULL",
                                    "11": "NULL",
                                    "12": "NULL",
                                    "13": "NULL",
                                    "14": "NULL",
                                    "15": "NULL",
                                    "16": "NULL",
                                    "17": "NULL",
                                    "18": "NULL",
                                    "19": "0",
                                    "20": "0",
                                    "21": "0",
                                    "22": "NULL",
                                    "23": "NULL",
                                    "24": "NULL",
                                    "25": "NULL",
                                    "26": "NULL",
                                    "27": "0",
                                    "28": "NULL",
                                    "29": "1",
                                    "30": "0",
                                    "31": "0",
                                    "32": "NULL",
                                    "33": "NULL",
                                    "34": "NULL",
                                    "35": "NULL",
                                    "36": "NULL",
                                    "37": "NULL",
                                    "38": "NULL",
                                    "39": "NULL",
                                    "40": "NULL"
                                }
                            ]
                        },
                        "text/html": "<table><tr><th>is_hidden</th><th>column_ordinal</th><th>name</th><th>is_nullable</th><th>system_type_id</th><th>system_type_name</th><th>max_length</th><th>precision</th><th>scale</th><th>collation_name</th><th>user_type_id</th><th>user_type_database</th><th>user_type_schema</th><th>user_type_name</th><th>assembly_qualified_type_name</th><th>xml_collection_id</th><th>xml_collection_database</th><th>xml_collection_schema</th><th>xml_collection_name</th><th>is_xml_document</th><th>is_case_sensitive</th><th>is_fixed_length_clr_type</th><th>source_server</th><th>source_database</th><th>source_schema</th><th>source_table</th><th>source_column</th><th>is_identity_column</th><th>is_part_of_unique_key</th><th>is_updateable</th><th>is_computed_column</th><th>is_sparse_column_set</th><th>ordinal_in_order_by_list</th><th>order_by_is_descending</th><th>order_by_list_length</th><th>error_number</th><th>error_severity</th><th>error_state</th><th>error_message</th><th>error_type</th><th>error_type_desc</th></tr><tr><td>0</td><td>1</td><td>CoachID</td><td>0</td><td>56</td><td>int</td><td>4</td><td>10</td><td>0</td><td>NULL</td><td>NULL</td><td>NULL</td><td>NULL</td><td>NULL</td><td>NULL</td><td>NULL</td><td>NULL</td><td>NULL</td><td>NULL</td><td>0</td><td>0</td><td>0</td><td>NULL</td><td>NULL</td><td>NULL</td><td>NULL</td><td>NULL</td><td>1</td><td>NULL</td><td>0</td><td>0</td><td>0</td><td>NULL</td><td>NULL</td><td>NULL</td><td>NULL</td><td>NULL</td><td>NULL</td><td>NULL</td><td>NULL</td><td>NULL</td></tr><tr><td>0</td><td>2</td><td>FirstName</td><td>0</td><td>231</td><td>nvarchar(20)</td><td>40</td><td>0</td><td>0</td><td>SQL_Latin1_General_CP1_CI_AS</td><td>NULL</td><td>NULL</td><td>NULL</td><td>NULL</td><td>NULL</td><td>NULL</td><td>NULL</td><td>NULL</td><td>NULL</td><td>0</td><td>0</td><td>0</td><td>NULL</td><td>NULL</td><td>NULL</td><td>NULL</td><td>NULL</td><td>0</td><td>NULL</td><td>1</td><td>0</td><td>0</td><td>NULL</td><td>NULL</td><td>NULL</td><td>NULL</td><td>NULL</td><td>NULL</td><td>NULL</td><td>NULL</td><td>NULL</td></tr><tr><td>0</td><td>3</td><td>LastName</td><td>0</td><td>231</td><td>nvarchar(30)</td><td>60</td><td>0</td><td>0</td><td>SQL_Latin1_General_CP1_CI_AS</td><td>NULL</td><td>NULL</td><td>NULL</td><td>NULL</td><td>NULL</td><td>NULL</td><td>NULL</td><td>NULL</td><td>NULL</td><td>0</td><td>0</td><td>0</td><td>NULL</td><td>NULL</td><td>NULL</td><td>NULL</td><td>NULL</td><td>0</td><td>NULL</td><td>1</td><td>0</td><td>0</td><td>NULL</td><td>NULL</td><td>NULL</td><td>NULL</td><td>NULL</td><td>NULL</td><td>NULL</td><td>NULL</td><td>NULL</td></tr><tr><td>0</td><td>4</td><td>DateOfBirth</td><td>1</td><td>40</td><td>date</td><td>3</td><td>10</td><td>0</td><td>NULL</td><td>NULL</td><td>NULL</td><td>NULL</td><td>NULL</td><td>NULL</td><td>NULL</td><td>NULL</td><td>NULL</td><td>NULL</td><td>0</td><td>0</td><td>0</td><td>NULL</td><td>NULL</td><td>NULL</td><td>NULL</td><td>NULL</td><td>0</td><td>NULL</td><td>1</td><td>0</td><td>0</td><td>NULL</td><td>NULL</td><td>NULL</td><td>NULL</td><td>NULL</td><td>NULL</td><td>NULL</td><td>NULL</td><td>NULL</td></tr><tr><td>0</td><td>5</td><td>CategoryID</td><td>1</td><td>48</td><td>tinyint</td><td>1</td><td>3</td><td>0</td><td>NULL</td><td>NULL</td><td>NULL</td><td>NULL</td><td>NULL</td><td>NULL</td><td>NULL</td><td>NULL</td><td>NULL</td><td>NULL</td><td>0</td><td>0</td><td>0</td><td>NULL</td><td>NULL</td><td>NULL</td><td>NULL</td><td>NULL</td><td>0</td><td>NULL</td><td>1</td><td>0</td><td>0</td><td>NULL</td><td>NULL</td><td>NULL</td><td>NULL</td><td>NULL</td><td>NULL</td><td>NULL</td><td>NULL</td><td>NULL</td></tr><tr><td>0</td><td>6</td><td>ModifiedDate</td><td>0</td><td>61</td><td>datetime</td><td>8</td><td>23</td><td>3</td><td>NULL</td><td>NULL</td><td>NULL</td><td>NULL</td><td>NULL</td><td>NULL</td><td>NULL</td><td>NULL</td><td>NULL</td><td>NULL</td><td>0</td><td>0</td><td>0</td><td>NULL</td><td>NULL</td><td>NULL</td><td>NULL</td><td>NULL</td><td>0</td><td>NULL</td><td>1</td><td>0</td><td>0</td><td>NULL</td><td>NULL</td><td>NULL</td><td>NULL</td><td>NULL</td><td>NULL</td><td>NULL</td><td>NULL</td><td>NULL</td></tr><tr><td>0</td><td>7</td><td>SwimmerID</td><td>0</td><td>56</td><td>int</td><td>4</td><td>10</td><td>0</td><td>NULL</td><td>NULL</td><td>NULL</td><td>NULL</td><td>NULL</td><td>NULL</td><td>NULL</td><td>NULL</td><td>NULL</td><td>NULL</td><td>0</td><td>0</td><td>0</td><td>NULL</td><td>NULL</td><td>NULL</td><td>NULL</td><td>NULL</td><td>0</td><td>NULL</td><td>1</td><td>0</td><td>0</td><td>NULL</td><td>NULL</td><td>NULL</td><td>NULL</td><td>NULL</td><td>NULL</td><td>NULL</td><td>NULL</td><td>NULL</td></tr><tr><td>0</td><td>8</td><td>CoachID</td><td>0</td><td>56</td><td>int</td><td>4</td><td>10</td><td>0</td><td>NULL</td><td>NULL</td><td>NULL</td><td>NULL</td><td>NULL</td><td>NULL</td><td>NULL</td><td>NULL</td><td>NULL</td><td>NULL</td><td>0</td><td>0</td><td>0</td><td>NULL</td><td>NULL</td><td>NULL</td><td>NULL</td><td>NULL</td><td>0</td><td>NULL</td><td>1</td><td>0</td><td>0</td><td>NULL</td><td>NULL</td><td>NULL</td><td>NULL</td><td>NULL</td><td>NULL</td><td>NULL</td><td>NULL</td><td>NULL</td></tr><tr><td>0</td><td>9</td><td>ModifiedDate</td><td>0</td><td>61</td><td>datetime</td><td>8</td><td>23</td><td>3</td><td>NULL</td><td>NULL</td><td>NULL</td><td>NULL</td><td>NULL</td><td>NULL</td><td>NULL</td><td>NULL</td><td>NULL</td><td>NULL</td><td>0</td><td>0</td><td>0</td><td>NULL</td><td>NULL</td><td>NULL</td><td>NULL</td><td>NULL</td><td>0</td><td>NULL</td><td>1</td><td>0</td><td>0</td><td>NULL</td><td>NULL</td><td>NULL</td><td>NULL</td><td>NULL</td><td>NULL</td><td>NULL</td><td>NULL</td><td>NULL</td></tr></table>"
                    }
                }
            ],
            "execution_count": 11
        },
        {
            "cell_type": "markdown",
            "source": "<b>Системные хранимые процедуры</b> применяются для выполнения административных и пользовательских задач, таких как переименование объектов базы данных, идентификация пользователей и мониторинг авторизации и ресурсов. \r\n\r\nДля извлечения и модифицирования системной информации почти все существующие системные хранимые процедуры используют системные базовые таблицы.",
            "metadata": {}
        },
        {
            "cell_type": "code",
            "source": "use tempdb\r\ngo\r\n\r\nexec sp_help 'dbo.SwimmingClub'\r\ngo",
            "metadata": {},
            "outputs": [
                {
                    "output_type": "display_data",
                    "data": {
                        "text/html": "Commands completed successfully."
                    },
                    "metadata": {}
                },
                {
                    "output_type": "display_data",
                    "data": {
                        "text/html": "Total execution time: 00:00:00.0015827"
                    },
                    "metadata": {}
                },
                {
                    "output_type": "display_data",
                    "data": {
                        "text/html": " "
                    },
                    "metadata": {}
                },
                {
                    "output_type": "display_data",
                    "data": {
                        "text/html": " "
                    },
                    "metadata": {}
                },
                {
                    "output_type": "display_data",
                    "data": {
                        "text/html": " "
                    },
                    "metadata": {}
                },
                {
                    "output_type": "display_data",
                    "data": {
                        "text/html": " "
                    },
                    "metadata": {}
                },
                {
                    "output_type": "display_data",
                    "data": {
                        "text/html": " "
                    },
                    "metadata": {}
                },
                {
                    "output_type": "display_data",
                    "data": {
                        "text/html": " "
                    },
                    "metadata": {}
                },
                {
                    "output_type": "display_data",
                    "data": {
                        "text/html": " "
                    },
                    "metadata": {}
                },
                {
                    "output_type": "display_data",
                    "data": {
                        "text/html": " "
                    },
                    "metadata": {}
                },
                {
                    "output_type": "display_data",
                    "data": {
                        "text/html": "No views with schema binding reference table 'dbo.SwimmingClub'."
                    },
                    "metadata": {}
                },
                {
                    "output_type": "display_data",
                    "data": {
                        "text/html": "Total execution time: 00:00:00.7539249"
                    },
                    "metadata": {}
                },
                {
                    "output_type": "execute_result",
                    "metadata": {},
                    "execution_count": 12,
                    "data": {
                        "application/vnd.dataresource+json": {
                            "schema": {
                                "fields": [
                                    {
                                        "name": "Name"
                                    },
                                    {
                                        "name": "Owner"
                                    },
                                    {
                                        "name": "Type"
                                    },
                                    {
                                        "name": "Created_datetime"
                                    }
                                ]
                            },
                            "data": [
                                {
                                    "0": "SwimmingClub",
                                    "1": "dbo",
                                    "2": "user table",
                                    "3": "2019-04-29 12:37:32.427"
                                }
                            ]
                        },
                        "text/html": "<table><tr><th>Name</th><th>Owner</th><th>Type</th><th>Created_datetime</th></tr><tr><td>SwimmingClub</td><td>dbo</td><td>user table</td><td>2019-04-29 12:37:32.427</td></tr></table>"
                    }
                },
                {
                    "output_type": "execute_result",
                    "metadata": {},
                    "execution_count": 12,
                    "data": {
                        "application/vnd.dataresource+json": {
                            "schema": {
                                "fields": [
                                    {
                                        "name": "Column_name"
                                    },
                                    {
                                        "name": "Type"
                                    },
                                    {
                                        "name": "Computed"
                                    },
                                    {
                                        "name": "Length"
                                    },
                                    {
                                        "name": "Prec"
                                    },
                                    {
                                        "name": "Scale"
                                    },
                                    {
                                        "name": "Nullable"
                                    },
                                    {
                                        "name": "TrimTrailingBlanks"
                                    },
                                    {
                                        "name": "FixedLenNullInSource"
                                    },
                                    {
                                        "name": "Collation"
                                    }
                                ]
                            },
                            "data": [
                                {
                                    "0": "SwimmingClubID",
                                    "1": "int",
                                    "2": "no",
                                    "3": "4",
                                    "4": "10   ",
                                    "5": "0    ",
                                    "6": "no",
                                    "7": "(n/a)",
                                    "8": "(n/a)",
                                    "9": "NULL"
                                },
                                {
                                    "0": "Name",
                                    "1": "nvarchar",
                                    "2": "no",
                                    "3": "200",
                                    "4": "     ",
                                    "5": "     ",
                                    "6": "no",
                                    "7": "(n/a)",
                                    "8": "(n/a)",
                                    "9": "SQL_Latin1_General_CP1_CI_AS"
                                },
                                {
                                    "0": "City",
                                    "1": "nvarchar",
                                    "2": "no",
                                    "3": "60",
                                    "4": "     ",
                                    "5": "     ",
                                    "6": "no",
                                    "7": "(n/a)",
                                    "8": "(n/a)",
                                    "9": "SQL_Latin1_General_CP1_CI_AS"
                                },
                                {
                                    "0": "Address",
                                    "1": "nvarchar",
                                    "2": "no",
                                    "3": "400",
                                    "4": "     ",
                                    "5": "     ",
                                    "6": "yes",
                                    "7": "(n/a)",
                                    "8": "(n/a)",
                                    "9": "SQL_Latin1_General_CP1_CI_AS"
                                },
                                {
                                    "0": "Phone",
                                    "1": "nvarchar",
                                    "2": "no",
                                    "3": "30",
                                    "4": "     ",
                                    "5": "     ",
                                    "6": "yes",
                                    "7": "(n/a)",
                                    "8": "(n/a)",
                                    "9": "SQL_Latin1_General_CP1_CI_AS"
                                },
                                {
                                    "0": "YearEstablished",
                                    "1": "smallint",
                                    "2": "no",
                                    "3": "2",
                                    "4": "5    ",
                                    "5": "0    ",
                                    "6": "yes",
                                    "7": "(n/a)",
                                    "8": "(n/a)",
                                    "9": "NULL"
                                },
                                {
                                    "0": "ModifiedDate",
                                    "1": "datetime",
                                    "2": "no",
                                    "3": "8",
                                    "4": "     ",
                                    "5": "     ",
                                    "6": "no",
                                    "7": "(n/a)",
                                    "8": "(n/a)",
                                    "9": "NULL"
                                }
                            ]
                        },
                        "text/html": "<table><tr><th>Column_name</th><th>Type</th><th>Computed</th><th>Length</th><th>Prec</th><th>Scale</th><th>Nullable</th><th>TrimTrailingBlanks</th><th>FixedLenNullInSource</th><th>Collation</th></tr><tr><td>SwimmingClubID</td><td>int</td><td>no</td><td>4</td><td>10   </td><td>0    </td><td>no</td><td>(n/a)</td><td>(n/a)</td><td>NULL</td></tr><tr><td>Name</td><td>nvarchar</td><td>no</td><td>200</td><td>     </td><td>     </td><td>no</td><td>(n/a)</td><td>(n/a)</td><td>SQL_Latin1_General_CP1_CI_AS</td></tr><tr><td>City</td><td>nvarchar</td><td>no</td><td>60</td><td>     </td><td>     </td><td>no</td><td>(n/a)</td><td>(n/a)</td><td>SQL_Latin1_General_CP1_CI_AS</td></tr><tr><td>Address</td><td>nvarchar</td><td>no</td><td>400</td><td>     </td><td>     </td><td>yes</td><td>(n/a)</td><td>(n/a)</td><td>SQL_Latin1_General_CP1_CI_AS</td></tr><tr><td>Phone</td><td>nvarchar</td><td>no</td><td>30</td><td>     </td><td>     </td><td>yes</td><td>(n/a)</td><td>(n/a)</td><td>SQL_Latin1_General_CP1_CI_AS</td></tr><tr><td>YearEstablished</td><td>smallint</td><td>no</td><td>2</td><td>5    </td><td>0    </td><td>yes</td><td>(n/a)</td><td>(n/a)</td><td>NULL</td></tr><tr><td>ModifiedDate</td><td>datetime</td><td>no</td><td>8</td><td>     </td><td>     </td><td>no</td><td>(n/a)</td><td>(n/a)</td><td>NULL</td></tr></table>"
                    }
                },
                {
                    "output_type": "execute_result",
                    "metadata": {},
                    "execution_count": 12,
                    "data": {
                        "application/vnd.dataresource+json": {
                            "schema": {
                                "fields": [
                                    {
                                        "name": "Identity"
                                    },
                                    {
                                        "name": "Seed"
                                    },
                                    {
                                        "name": "Increment"
                                    },
                                    {
                                        "name": "Not For Replication"
                                    }
                                ]
                            },
                            "data": [
                                {
                                    "0": "SwimmingClubID",
                                    "1": "1",
                                    "2": "1",
                                    "3": "0"
                                }
                            ]
                        },
                        "text/html": "<table><tr><th>Identity</th><th>Seed</th><th>Increment</th><th>Not For Replication</th></tr><tr><td>SwimmingClubID</td><td>1</td><td>1</td><td>0</td></tr></table>"
                    }
                },
                {
                    "output_type": "execute_result",
                    "metadata": {},
                    "execution_count": 12,
                    "data": {
                        "application/vnd.dataresource+json": {
                            "schema": {
                                "fields": [
                                    {
                                        "name": "RowGuidCol"
                                    }
                                ]
                            },
                            "data": [
                                {
                                    "0": "No rowguidcol column defined."
                                }
                            ]
                        },
                        "text/html": "<table><tr><th>RowGuidCol</th></tr><tr><td>No rowguidcol column defined.</td></tr></table>"
                    }
                },
                {
                    "output_type": "execute_result",
                    "metadata": {},
                    "execution_count": 12,
                    "data": {
                        "application/vnd.dataresource+json": {
                            "schema": {
                                "fields": [
                                    {
                                        "name": "Data_located_on_filegroup"
                                    }
                                ]
                            },
                            "data": [
                                {
                                    "0": "PRIMARY"
                                }
                            ]
                        },
                        "text/html": "<table><tr><th>Data_located_on_filegroup</th></tr><tr><td>PRIMARY</td></tr></table>"
                    }
                },
                {
                    "output_type": "execute_result",
                    "metadata": {},
                    "execution_count": 12,
                    "data": {
                        "application/vnd.dataresource+json": {
                            "schema": {
                                "fields": [
                                    {
                                        "name": "index_name"
                                    },
                                    {
                                        "name": "index_description"
                                    },
                                    {
                                        "name": "index_keys"
                                    }
                                ]
                            },
                            "data": [
                                {
                                    "0": "AK_SwimmingClub_Name_City",
                                    "1": "nonclustered, unique, unique key located on PRIMARY",
                                    "2": "Name, City"
                                },
                                {
                                    "0": "PK_SwimmingClub",
                                    "1": "clustered, unique, primary key located on PRIMARY",
                                    "2": "SwimmingClubID"
                                }
                            ]
                        },
                        "text/html": "<table><tr><th>index_name</th><th>index_description</th><th>index_keys</th></tr><tr><td>AK_SwimmingClub_Name_City</td><td>nonclustered, unique, unique key located on PRIMARY</td><td>Name, City</td></tr><tr><td>PK_SwimmingClub</td><td>clustered, unique, primary key located on PRIMARY</td><td>SwimmingClubID</td></tr></table>"
                    }
                },
                {
                    "output_type": "execute_result",
                    "metadata": {},
                    "execution_count": 12,
                    "data": {
                        "application/vnd.dataresource+json": {
                            "schema": {
                                "fields": [
                                    {
                                        "name": "constraint_type"
                                    },
                                    {
                                        "name": "constraint_name"
                                    },
                                    {
                                        "name": "delete_action"
                                    },
                                    {
                                        "name": "update_action"
                                    },
                                    {
                                        "name": "status_enabled"
                                    },
                                    {
                                        "name": "status_for_replication"
                                    },
                                    {
                                        "name": "constraint_keys"
                                    }
                                ]
                            },
                            "data": [
                                {
                                    "0": "UNIQUE (non-clustered)",
                                    "1": "AK_SwimmingClub_Name_City",
                                    "2": "(n/a)",
                                    "3": "(n/a)",
                                    "4": "(n/a)",
                                    "5": "(n/a)",
                                    "6": "Name, City"
                                },
                                {
                                    "0": "DEFAULT on column ModifiedDate",
                                    "1": "DF_SwimmingClub_ModifiedDate",
                                    "2": "(n/a)",
                                    "3": "(n/a)",
                                    "4": "(n/a)",
                                    "5": "(n/a)",
                                    "6": "(getdate())"
                                },
                                {
                                    "0": "PRIMARY KEY (clustered)",
                                    "1": "PK_SwimmingClub",
                                    "2": "(n/a)",
                                    "3": "(n/a)",
                                    "4": "(n/a)",
                                    "5": "(n/a)",
                                    "6": "SwimmingClubID"
                                }
                            ]
                        },
                        "text/html": "<table><tr><th>constraint_type</th><th>constraint_name</th><th>delete_action</th><th>update_action</th><th>status_enabled</th><th>status_for_replication</th><th>constraint_keys</th></tr><tr><td>UNIQUE (non-clustered)</td><td>AK_SwimmingClub_Name_City</td><td>(n/a)</td><td>(n/a)</td><td>(n/a)</td><td>(n/a)</td><td>Name, City</td></tr><tr><td>DEFAULT on column ModifiedDate</td><td>DF_SwimmingClub_ModifiedDate</td><td>(n/a)</td><td>(n/a)</td><td>(n/a)</td><td>(n/a)</td><td>(getdate())</td></tr><tr><td>PRIMARY KEY (clustered)</td><td>PK_SwimmingClub</td><td>(n/a)</td><td>(n/a)</td><td>(n/a)</td><td>(n/a)</td><td>SwimmingClubID</td></tr></table>"
                    }
                },
                {
                    "output_type": "execute_result",
                    "metadata": {},
                    "execution_count": 12,
                    "data": {
                        "application/vnd.dataresource+json": {
                            "schema": {
                                "fields": [
                                    {
                                        "name": "Table is referenced by foreign key"
                                    }
                                ]
                            },
                            "data": [
                                {
                                    "0": "tempdb.dbo.Swimmer: FK_Swimmer_SwimmingClub"
                                }
                            ]
                        },
                        "text/html": "<table><tr><th>Table is referenced by foreign key</th></tr><tr><td>tempdb.dbo.Swimmer: FK_Swimmer_SwimmingClub</td></tr></table>"
                    }
                }
            ],
            "execution_count": 12
        },
        {
            "cell_type": "markdown",
            "source": "Пример использования еще одной системной процедуры:",
            "metadata": {}
        },
        {
            "cell_type": "code",
            "source": "use tempdb\r\ngo\r\n\r\nexec sp_spaceused 'dbo.SwimmingClub'\r\ngo",
            "metadata": {},
            "outputs": [
                {
                    "output_type": "display_data",
                    "data": {
                        "text/html": "Commands completed successfully."
                    },
                    "metadata": {}
                },
                {
                    "output_type": "display_data",
                    "data": {
                        "text/html": "Total execution time: 00:00:00.0013235"
                    },
                    "metadata": {}
                },
                {
                    "output_type": "display_data",
                    "data": {
                        "text/html": "Commands completed successfully."
                    },
                    "metadata": {}
                },
                {
                    "output_type": "display_data",
                    "data": {
                        "text/html": "Total execution time: 00:00:00.3187506"
                    },
                    "metadata": {}
                },
                {
                    "output_type": "execute_result",
                    "metadata": {},
                    "execution_count": 13,
                    "data": {
                        "application/vnd.dataresource+json": {
                            "schema": {
                                "fields": [
                                    {
                                        "name": "name"
                                    },
                                    {
                                        "name": "rows"
                                    },
                                    {
                                        "name": "reserved"
                                    },
                                    {
                                        "name": "data"
                                    },
                                    {
                                        "name": "index_size"
                                    },
                                    {
                                        "name": "unused"
                                    }
                                ]
                            },
                            "data": [
                                {
                                    "0": "SwimmingClub",
                                    "1": "3                   ",
                                    "2": "144 KB",
                                    "3": "8 KB",
                                    "4": "24 KB",
                                    "5": "112 KB"
                                }
                            ]
                        },
                        "text/html": "<table><tr><th>name</th><th>rows</th><th>reserved</th><th>data</th><th>index_size</th><th>unused</th></tr><tr><td>SwimmingClub</td><td>3                   </td><td>144 KB</td><td>8 KB</td><td>24 KB</td><td>112 KB</td></tr></table>"
                    }
                }
            ],
            "execution_count": 13
        },
        {
            "cell_type": "markdown",
            "source": "<b>Использование метаданных администратором БД:</b>\r\n\r\nСписок работающих процессов:",
            "metadata": {}
        },
        {
            "cell_type": "code",
            "source": "SELECT\r\n    cast((select qt.text from sys.dm_exec_sql_text(qs.sql_handle) as qt for xml path('')) as xml),\r\n    qs.blocking_session_id,\r\n    qs.start_time, getdate() as  CurrentDate,\r\n    datediff(minute, qs.start_time, getdate()) as ExecutionTime_Minutes,\r\n    qs.session_id,\r\n    qs.command,\r\n    qs.status,\r\n    qs.cpu_time, \r\n    qs.reads, \r\n    qs.writes, \r\n    qs.plan_handle,\r\n    qp.query_plan,\r\n    s.host_name, s.login_name, s.program_name,\r\n    qs.wait_type, qs.open_transaction_count, qs.open_resultset_count, qs.row_count, qs.granted_query_memory, qs.transaction_isolation_level\r\n    --,qs.*\r\nfrom sys.dm_exec_requests qs\r\nleft join sys.dm_exec_sessions s on s.session_id = qs.session_id ---outer apply sys.dm_exec_sql_text(qs.sql_handle) as qt\r\nouter apply sys.dm_exec_query_plan(qs.plan_handle) qp\r\nwhere  qs.session_id <> @@SPID\r\n       and qs.command not in ('RESOURCE MONITOR', 'XE TIMER', 'XE DISPATCHER', 'LOG WRITER', 'LOCK MONITOR', 'TASK MANAGER', 'TASK MANAGER', 'CHECKPOINT', 'BRKR TASK', 'LAZY WRITER', 'SIGNAL HANDLER', 'TRACE QUEUE TASK', 'BRKR EVENT HNDLR', 'GHOST CLEANUP', 'XTP_THREAD_POOL')\r\n       and isnull(s.program_name, '') <> 'SQL diagnostic manager Collection Service'\r\norder by ExecutionTime_Minutes desc",
            "metadata": {},
            "outputs": [
                {
                    "output_type": "display_data",
                    "data": {
                        "text/html": "(12 rows affected)"
                    },
                    "metadata": {}
                },
                {
                    "output_type": "display_data",
                    "data": {
                        "text/html": "Total execution time: 00:00:00.0072092"
                    },
                    "metadata": {}
                },
                {
                    "output_type": "execute_result",
                    "metadata": {},
                    "execution_count": 17,
                    "data": {
                        "application/vnd.dataresource+json": {
                            "schema": {
                                "fields": [
                                    {
                                        "name": "(No column name)"
                                    },
                                    {
                                        "name": "blocking_session_id"
                                    },
                                    {
                                        "name": "start_time"
                                    },
                                    {
                                        "name": "CurrentDate"
                                    },
                                    {
                                        "name": "ExecutionTime_Minutes"
                                    },
                                    {
                                        "name": "session_id"
                                    },
                                    {
                                        "name": "command"
                                    },
                                    {
                                        "name": "status"
                                    },
                                    {
                                        "name": "cpu_time"
                                    },
                                    {
                                        "name": "reads"
                                    },
                                    {
                                        "name": "writes"
                                    },
                                    {
                                        "name": "plan_handle"
                                    },
                                    {
                                        "name": "query_plan"
                                    },
                                    {
                                        "name": "host_name"
                                    },
                                    {
                                        "name": "login_name"
                                    },
                                    {
                                        "name": "program_name"
                                    },
                                    {
                                        "name": "wait_type"
                                    },
                                    {
                                        "name": "open_transaction_count"
                                    },
                                    {
                                        "name": "open_resultset_count"
                                    },
                                    {
                                        "name": "row_count"
                                    },
                                    {
                                        "name": "granted_query_memory"
                                    },
                                    {
                                        "name": "transaction_isolation_level"
                                    }
                                ]
                            },
                            "data": [
                                {
                                    "0": "NULL",
                                    "1": "0",
                                    "2": "2019-04-26 23:58:16.160",
                                    "3": "2019-04-30 17:31:45.363",
                                    "4": "5373",
                                    "5": "1",
                                    "6": "XIO_LEASE_RENEWAL_WORKER",
                                    "7": "background",
                                    "8": "312",
                                    "9": "0",
                                    "10": "0",
                                    "11": "NULL",
                                    "12": "NULL",
                                    "13": "NULL",
                                    "14": "sa",
                                    "15": "NULL",
                                    "16": "SLEEP_TASK",
                                    "17": "0",
                                    "18": "1",
                                    "19": "0",
                                    "20": "0",
                                    "21": "2"
                                },
                                {
                                    "0": "NULL",
                                    "1": "0",
                                    "2": "2019-04-26 23:58:16.160",
                                    "3": "2019-04-30 17:31:45.363",
                                    "4": "5373",
                                    "5": "2",
                                    "6": "XIO_RETRY_WORKER",
                                    "7": "background",
                                    "8": "328",
                                    "9": "0",
                                    "10": "0",
                                    "11": "NULL",
                                    "12": "NULL",
                                    "13": "NULL",
                                    "14": "sa",
                                    "15": "NULL",
                                    "16": "SLEEP_TASK",
                                    "17": "0",
                                    "18": "1",
                                    "19": "0",
                                    "20": "0",
                                    "21": "2"
                                },
                                {
                                    "0": "NULL",
                                    "1": "0",
                                    "2": "2019-04-26 23:58:16.437",
                                    "3": "2019-04-30 17:31:45.363",
                                    "4": "5373",
                                    "5": "3",
                                    "6": "XTP_CKPT_AGENT",
                                    "7": "background",
                                    "8": "0",
                                    "9": "0",
                                    "10": "0",
                                    "11": "NULL",
                                    "12": "NULL",
                                    "13": "NULL",
                                    "14": "sa",
                                    "15": "NULL",
                                    "16": "WAIT_XTP_HOST_WAIT",
                                    "17": "0",
                                    "18": "1",
                                    "19": "0",
                                    "20": "0",
                                    "21": "2"
                                },
                                {
                                    "0": "NULL",
                                    "1": "0",
                                    "2": "2019-04-26 23:58:17.463",
                                    "3": "2019-04-30 17:31:45.363",
                                    "4": "5373",
                                    "5": "4",
                                    "6": "RECOVERY WRITER",
                                    "7": "background",
                                    "8": "2265",
                                    "9": "0",
                                    "10": "0",
                                    "11": "NULL",
                                    "12": "NULL",
                                    "13": "NULL",
                                    "14": "sa",
                                    "15": "NULL",
                                    "16": "DIRTY_PAGE_POLL",
                                    "17": "0",
                                    "18": "1",
                                    "19": "0",
                                    "20": "0",
                                    "21": "2"
                                },
                                {
                                    "0": "NULL",
                                    "1": "0",
                                    "2": "2019-04-26 23:58:21.623",
                                    "3": "2019-04-30 17:31:45.363",
                                    "4": "5373",
                                    "5": "37",
                                    "6": "SYSTEM_HEALTH_MONITOR",
                                    "7": "background",
                                    "8": "375",
                                    "9": "0",
                                    "10": "0",
                                    "11": "NULL",
                                    "12": "NULL",
                                    "13": "NULL",
                                    "14": "sa",
                                    "15": "NULL",
                                    "16": "SP_SERVER_DIAGNOSTICS_SLEEP",
                                    "17": "0",
                                    "18": "1",
                                    "19": "0",
                                    "20": "0",
                                    "21": "2"
                                },
                                {
                                    "0": "NULL",
                                    "1": "0",
                                    "2": "2019-04-26 23:58:21.623",
                                    "3": "2019-04-30 17:31:45.363",
                                    "4": "5373",
                                    "5": "38",
                                    "6": "RECEIVE",
                                    "7": "background",
                                    "8": "0",
                                    "9": "0",
                                    "10": "0",
                                    "11": "NULL",
                                    "12": "NULL",
                                    "13": "NULL",
                                    "14": "sa",
                                    "15": "NULL",
                                    "16": "NULL",
                                    "17": "0",
                                    "18": "1",
                                    "19": "0",
                                    "20": "0",
                                    "21": "2"
                                },
                                {
                                    "0": "NULL",
                                    "1": "0",
                                    "2": "2019-04-26 23:58:23.717",
                                    "3": "2019-04-30 17:31:45.363",
                                    "4": "5373",
                                    "5": "40",
                                    "6": "UNKNOWN TOKEN",
                                    "7": "background",
                                    "8": "0",
                                    "9": "0",
                                    "10": "0",
                                    "11": "NULL",
                                    "12": "NULL",
                                    "13": "NULL",
                                    "14": "sa",
                                    "15": "NULL",
                                    "16": "FT_IFTSHC_MUTEX",
                                    "17": "0",
                                    "18": "1",
                                    "19": "0",
                                    "20": "0",
                                    "21": "2"
                                },
                                {
                                    "0": "NULL",
                                    "1": "0",
                                    "2": "2019-04-26 23:58:46.780",
                                    "3": "2019-04-30 17:31:45.363",
                                    "4": "5373",
                                    "5": "41",
                                    "6": "XTP_OFFLINE_CKPT",
                                    "7": "background",
                                    "8": "1015",
                                    "9": "98675",
                                    "10": "0",
                                    "11": "NULL",
                                    "12": "NULL",
                                    "13": "NULL",
                                    "14": "sa",
                                    "15": "NULL",
                                    "16": "WAIT_XTP_OFFLINE_CKPT_NEW_LOG",
                                    "17": "0",
                                    "18": "1",
                                    "19": "0",
                                    "20": "0",
                                    "21": "2"
                                },
                                {
                                    "0": "NULL",
                                    "1": "0",
                                    "2": "2019-04-26 23:58:27.527",
                                    "3": "2019-04-30 17:31:45.363",
                                    "4": "5373",
                                    "5": "46",
                                    "6": "UNKNOWN TOKEN",
                                    "7": "background",
                                    "8": "109",
                                    "9": "0",
                                    "10": "0",
                                    "11": "NULL",
                                    "12": "NULL",
                                    "13": "NULL",
                                    "14": "sa",
                                    "15": "NULL",
                                    "16": "XTP_PREEMPTIVE_TASK",
                                    "17": "0",
                                    "18": "1",
                                    "19": "0",
                                    "20": "0",
                                    "21": "2"
                                },
                                {
                                    "0": "NULL",
                                    "1": "0",
                                    "2": "2019-04-26 23:58:23.893",
                                    "3": "2019-04-30 17:31:45.363",
                                    "4": "5373",
                                    "5": "54",
                                    "6": "HADR_AR_MGR_NOTIFICATION_WORKER",
                                    "7": "background",
                                    "8": "0",
                                    "9": "0",
                                    "10": "0",
                                    "11": "NULL",
                                    "12": "NULL",
                                    "13": "NULL",
                                    "14": "sa",
                                    "15": "NULL",
                                    "16": "HADR_NOTIFICATION_DEQUEUE",
                                    "17": "0",
                                    "18": "1",
                                    "19": "0",
                                    "20": "0",
                                    "21": "2"
                                },
                                {
                                    "0": "NULL",
                                    "1": "0",
                                    "2": "2019-04-26 23:58:23.917",
                                    "3": "2019-04-30 17:31:45.363",
                                    "4": "5373",
                                    "5": "55",
                                    "6": "LOG POOL MEMORY NOTIFICATION",
                                    "7": "background",
                                    "8": "0",
                                    "9": "0",
                                    "10": "0",
                                    "11": "NULL",
                                    "12": "NULL",
                                    "13": "NULL",
                                    "14": "sa",
                                    "15": "NULL",
                                    "16": "ONDEMAND_TASK_QUEUE",
                                    "17": "0",
                                    "18": "1",
                                    "19": "0",
                                    "20": "0",
                                    "21": "2"
                                },
                                {
                                    "0": "NULL",
                                    "1": "0",
                                    "2": "2019-04-30 17:22:18.620",
                                    "3": "2019-04-30 17:31:45.363",
                                    "4": "9",
                                    "5": "16",
                                    "6": "TEMPORAL_HK_FLUSH",
                                    "7": "background",
                                    "8": "0",
                                    "9": "0",
                                    "10": "0",
                                    "11": "NULL",
                                    "12": "NULL",
                                    "13": "NULL",
                                    "14": "sa",
                                    "15": "NULL",
                                    "16": "SLEEP_TASK",
                                    "17": "0",
                                    "18": "1",
                                    "19": "0",
                                    "20": "0",
                                    "21": "2"
                                }
                            ]
                        },
                        "text/html": "<table><tr><th>(No column name)</th><th>blocking_session_id</th><th>start_time</th><th>CurrentDate</th><th>ExecutionTime_Minutes</th><th>session_id</th><th>command</th><th>status</th><th>cpu_time</th><th>reads</th><th>writes</th><th>plan_handle</th><th>query_plan</th><th>host_name</th><th>login_name</th><th>program_name</th><th>wait_type</th><th>open_transaction_count</th><th>open_resultset_count</th><th>row_count</th><th>granted_query_memory</th><th>transaction_isolation_level</th></tr><tr><td>NULL</td><td>0</td><td>2019-04-26 23:58:16.160</td><td>2019-04-30 17:31:45.363</td><td>5373</td><td>1</td><td>XIO_LEASE_RENEWAL_WORKER</td><td>background</td><td>312</td><td>0</td><td>0</td><td>NULL</td><td>NULL</td><td>NULL</td><td>sa</td><td>NULL</td><td>SLEEP_TASK</td><td>0</td><td>1</td><td>0</td><td>0</td><td>2</td></tr><tr><td>NULL</td><td>0</td><td>2019-04-26 23:58:16.160</td><td>2019-04-30 17:31:45.363</td><td>5373</td><td>2</td><td>XIO_RETRY_WORKER</td><td>background</td><td>328</td><td>0</td><td>0</td><td>NULL</td><td>NULL</td><td>NULL</td><td>sa</td><td>NULL</td><td>SLEEP_TASK</td><td>0</td><td>1</td><td>0</td><td>0</td><td>2</td></tr><tr><td>NULL</td><td>0</td><td>2019-04-26 23:58:16.437</td><td>2019-04-30 17:31:45.363</td><td>5373</td><td>3</td><td>XTP_CKPT_AGENT</td><td>background</td><td>0</td><td>0</td><td>0</td><td>NULL</td><td>NULL</td><td>NULL</td><td>sa</td><td>NULL</td><td>WAIT_XTP_HOST_WAIT</td><td>0</td><td>1</td><td>0</td><td>0</td><td>2</td></tr><tr><td>NULL</td><td>0</td><td>2019-04-26 23:58:17.463</td><td>2019-04-30 17:31:45.363</td><td>5373</td><td>4</td><td>RECOVERY WRITER</td><td>background</td><td>2265</td><td>0</td><td>0</td><td>NULL</td><td>NULL</td><td>NULL</td><td>sa</td><td>NULL</td><td>DIRTY_PAGE_POLL</td><td>0</td><td>1</td><td>0</td><td>0</td><td>2</td></tr><tr><td>NULL</td><td>0</td><td>2019-04-26 23:58:21.623</td><td>2019-04-30 17:31:45.363</td><td>5373</td><td>37</td><td>SYSTEM_HEALTH_MONITOR</td><td>background</td><td>375</td><td>0</td><td>0</td><td>NULL</td><td>NULL</td><td>NULL</td><td>sa</td><td>NULL</td><td>SP_SERVER_DIAGNOSTICS_SLEEP</td><td>0</td><td>1</td><td>0</td><td>0</td><td>2</td></tr><tr><td>NULL</td><td>0</td><td>2019-04-26 23:58:21.623</td><td>2019-04-30 17:31:45.363</td><td>5373</td><td>38</td><td>RECEIVE</td><td>background</td><td>0</td><td>0</td><td>0</td><td>NULL</td><td>NULL</td><td>NULL</td><td>sa</td><td>NULL</td><td>NULL</td><td>0</td><td>1</td><td>0</td><td>0</td><td>2</td></tr><tr><td>NULL</td><td>0</td><td>2019-04-26 23:58:23.717</td><td>2019-04-30 17:31:45.363</td><td>5373</td><td>40</td><td>UNKNOWN TOKEN</td><td>background</td><td>0</td><td>0</td><td>0</td><td>NULL</td><td>NULL</td><td>NULL</td><td>sa</td><td>NULL</td><td>FT_IFTSHC_MUTEX</td><td>0</td><td>1</td><td>0</td><td>0</td><td>2</td></tr><tr><td>NULL</td><td>0</td><td>2019-04-26 23:58:46.780</td><td>2019-04-30 17:31:45.363</td><td>5373</td><td>41</td><td>XTP_OFFLINE_CKPT</td><td>background</td><td>1015</td><td>98675</td><td>0</td><td>NULL</td><td>NULL</td><td>NULL</td><td>sa</td><td>NULL</td><td>WAIT_XTP_OFFLINE_CKPT_NEW_LOG</td><td>0</td><td>1</td><td>0</td><td>0</td><td>2</td></tr><tr><td>NULL</td><td>0</td><td>2019-04-26 23:58:27.527</td><td>2019-04-30 17:31:45.363</td><td>5373</td><td>46</td><td>UNKNOWN TOKEN</td><td>background</td><td>109</td><td>0</td><td>0</td><td>NULL</td><td>NULL</td><td>NULL</td><td>sa</td><td>NULL</td><td>XTP_PREEMPTIVE_TASK</td><td>0</td><td>1</td><td>0</td><td>0</td><td>2</td></tr><tr><td>NULL</td><td>0</td><td>2019-04-26 23:58:23.893</td><td>2019-04-30 17:31:45.363</td><td>5373</td><td>54</td><td>HADR_AR_MGR_NOTIFICATION_WORKER</td><td>background</td><td>0</td><td>0</td><td>0</td><td>NULL</td><td>NULL</td><td>NULL</td><td>sa</td><td>NULL</td><td>HADR_NOTIFICATION_DEQUEUE</td><td>0</td><td>1</td><td>0</td><td>0</td><td>2</td></tr><tr><td>NULL</td><td>0</td><td>2019-04-26 23:58:23.917</td><td>2019-04-30 17:31:45.363</td><td>5373</td><td>55</td><td>LOG POOL MEMORY NOTIFICATION</td><td>background</td><td>0</td><td>0</td><td>0</td><td>NULL</td><td>NULL</td><td>NULL</td><td>sa</td><td>NULL</td><td>ONDEMAND_TASK_QUEUE</td><td>0</td><td>1</td><td>0</td><td>0</td><td>2</td></tr><tr><td>NULL</td><td>0</td><td>2019-04-30 17:22:18.620</td><td>2019-04-30 17:31:45.363</td><td>9</td><td>16</td><td>TEMPORAL_HK_FLUSH</td><td>background</td><td>0</td><td>0</td><td>0</td><td>NULL</td><td>NULL</td><td>NULL</td><td>sa</td><td>NULL</td><td>SLEEP_TASK</td><td>0</td><td>1</td><td>0</td><td>0</td><td>2</td></tr></table>"
                    }
                }
            ],
            "execution_count": 17
        },
        {
            "cell_type": "markdown",
            "source": "Статистика использования индексов:",
            "metadata": {}
        },
        {
            "cell_type": "code",
            "source": "select object_name(s.object_id) table_name, [name], user_seeks, user_scans, user_lookups \r\nfrom sys.dm_db_index_usage_stats  d\r\ninner join sys.indexes s on d.object_id = s.object_id and d.index_id = s.index_id ",
            "metadata": {},
            "outputs": [
                {
                    "output_type": "display_data",
                    "data": {
                        "text/html": "(18 rows affected)"
                    },
                    "metadata": {}
                },
                {
                    "output_type": "display_data",
                    "data": {
                        "text/html": "Total execution time: 00:00:00.0109530"
                    },
                    "metadata": {}
                },
                {
                    "output_type": "execute_result",
                    "metadata": {},
                    "execution_count": 18,
                    "data": {
                        "application/vnd.dataresource+json": {
                            "schema": {
                                "fields": [
                                    {
                                        "name": "table_name"
                                    },
                                    {
                                        "name": "name"
                                    },
                                    {
                                        "name": "user_seeks"
                                    },
                                    {
                                        "name": "user_scans"
                                    },
                                    {
                                        "name": "user_lookups"
                                    }
                                ]
                            },
                            "data": [
                                {
                                    "0": "Swimmer",
                                    "1": "PK_Swimmer",
                                    "2": "15",
                                    "3": "95",
                                    "4": "3"
                                },
                                {
                                    "0": "Swimmer",
                                    "1": "AK_Swimmer_FirstName_LastName_YearOfBirth",
                                    "2": "3",
                                    "3": "1",
                                    "4": "0"
                                },
                                {
                                    "0": "Swimmer",
                                    "1": "PK_Swimmer",
                                    "2": "0",
                                    "3": "72",
                                    "4": "0"
                                },
                                {
                                    "0": "Swimmer",
                                    "1": "PK_Swimmer",
                                    "2": "24",
                                    "3": "0",
                                    "4": "0"
                                },
                                {
                                    "0": "SwimmerCoach",
                                    "1": "NULL",
                                    "2": "0",
                                    "3": "4",
                                    "4": "0"
                                },
                                {
                                    "0": "SwimmerCoach",
                                    "1": "NULL",
                                    "2": "0",
                                    "3": "104",
                                    "4": "0"
                                },
                                {
                                    "0": "SwimmingClub",
                                    "1": "AK_SwimmingClub_Name_City",
                                    "2": "4",
                                    "3": "7",
                                    "4": "0"
                                },
                                {
                                    "0": "SwimmingClub",
                                    "1": "PK_SwimmingClub",
                                    "2": "58",
                                    "3": "19",
                                    "4": "0"
                                },
                                {
                                    "0": "SwimmingClub",
                                    "1": "PK_SwimmingClub",
                                    "2": "0",
                                    "3": "2",
                                    "4": "0"
                                },
                                {
                                    "0": "fulltext_thesaurus_metadata_table",
                                    "1": "idx_lcid",
                                    "2": "0",
                                    "3": "72",
                                    "4": "0"
                                },
                                {
                                    "0": "fulltext_thesaurus_metadata_table",
                                    "1": "idx_lcid",
                                    "2": "4",
                                    "3": "0",
                                    "4": "0"
                                },
                                {
                                    "0": "fulltext_thesaurus_state_table",
                                    "1": "idx_term",
                                    "2": "0",
                                    "3": "762",
                                    "4": "0"
                                },
                                {
                                    "0": "fulltext_thesaurus_state_table",
                                    "1": "idx_term",
                                    "2": "0",
                                    "3": "0",
                                    "4": "2"
                                },
                                {
                                    "0": "fulltext_thesaurus_phrase_table",
                                    "1": "idx_groupid",
                                    "2": "0",
                                    "3": "72",
                                    "4": "0"
                                },
                                {
                                    "0": "Category",
                                    "1": "AK_Category_Name",
                                    "2": "10",
                                    "3": "0",
                                    "4": "0"
                                },
                                {
                                    "0": "Category",
                                    "1": "PK_Category",
                                    "2": "51",
                                    "3": "29",
                                    "4": "0"
                                },
                                {
                                    "0": "Coach",
                                    "1": "AK_Coach_FirstName_LastName_DateOfBirth",
                                    "2": "2",
                                    "3": "1",
                                    "4": "0"
                                },
                                {
                                    "0": "Coach",
                                    "1": "PK_Coach",
                                    "2": "3",
                                    "3": "7",
                                    "4": "0"
                                }
                            ]
                        },
                        "text/html": "<table><tr><th>table_name</th><th>name</th><th>user_seeks</th><th>user_scans</th><th>user_lookups</th></tr><tr><td>Swimmer</td><td>PK_Swimmer</td><td>15</td><td>95</td><td>3</td></tr><tr><td>Swimmer</td><td>AK_Swimmer_FirstName_LastName_YearOfBirth</td><td>3</td><td>1</td><td>0</td></tr><tr><td>Swimmer</td><td>PK_Swimmer</td><td>0</td><td>72</td><td>0</td></tr><tr><td>Swimmer</td><td>PK_Swimmer</td><td>24</td><td>0</td><td>0</td></tr><tr><td>SwimmerCoach</td><td>NULL</td><td>0</td><td>4</td><td>0</td></tr><tr><td>SwimmerCoach</td><td>NULL</td><td>0</td><td>104</td><td>0</td></tr><tr><td>SwimmingClub</td><td>AK_SwimmingClub_Name_City</td><td>4</td><td>7</td><td>0</td></tr><tr><td>SwimmingClub</td><td>PK_SwimmingClub</td><td>58</td><td>19</td><td>0</td></tr><tr><td>SwimmingClub</td><td>PK_SwimmingClub</td><td>0</td><td>2</td><td>0</td></tr><tr><td>fulltext_thesaurus_metadata_table</td><td>idx_lcid</td><td>0</td><td>72</td><td>0</td></tr><tr><td>fulltext_thesaurus_metadata_table</td><td>idx_lcid</td><td>4</td><td>0</td><td>0</td></tr><tr><td>fulltext_thesaurus_state_table</td><td>idx_term</td><td>0</td><td>762</td><td>0</td></tr><tr><td>fulltext_thesaurus_state_table</td><td>idx_term</td><td>0</td><td>0</td><td>2</td></tr><tr><td>fulltext_thesaurus_phrase_table</td><td>idx_groupid</td><td>0</td><td>72</td><td>0</td></tr><tr><td>Category</td><td>AK_Category_Name</td><td>10</td><td>0</td><td>0</td></tr><tr><td>Category</td><td>PK_Category</td><td>51</td><td>29</td><td>0</td></tr><tr><td>Coach</td><td>AK_Coach_FirstName_LastName_DateOfBirth</td><td>2</td><td>1</td><td>0</td></tr><tr><td>Coach</td><td>PK_Coach</td><td>3</td><td>7</td><td>0</td></tr></table>"
                    }
                }
            ],
            "execution_count": 18
        },
        {
            "cell_type": "markdown",
            "source": "Запуск команды операционной системы:\r\n",
            "metadata": {}
        },
        {
            "cell_type": "code",
            "source": "use master\r\ngo\r\n\r\nexec sp_configure 'xp_cmdshell', 1\r\nreconfigure with override\r\ngo\r\n\r\nexec xp_cmdshell 'dir c:\\'",
            "metadata": {},
            "outputs": [
                {
                    "output_type": "display_data",
                    "data": {
                        "text/html": "Commands completed successfully."
                    },
                    "metadata": {}
                },
                {
                    "output_type": "display_data",
                    "data": {
                        "text/html": "Total execution time: 00:00:00.0016019"
                    },
                    "metadata": {}
                },
                {
                    "output_type": "display_data",
                    "data": {
                        "text/html": "Configuration option 'xp_cmdshell' changed from 1 to 1. Run the RECONFIGURE statement to install."
                    },
                    "metadata": {}
                },
                {
                    "output_type": "display_data",
                    "data": {
                        "text/html": "Total execution time: 00:00:00.0454066"
                    },
                    "metadata": {}
                },
                {
                    "output_type": "display_data",
                    "data": {
                        "text/html": "(19 rows affected)"
                    },
                    "metadata": {}
                },
                {
                    "output_type": "display_data",
                    "data": {
                        "text/html": "Total execution time: 00:00:00.0427146"
                    },
                    "metadata": {}
                },
                {
                    "output_type": "execute_result",
                    "metadata": {},
                    "execution_count": 19,
                    "data": {
                        "application/vnd.dataresource+json": {
                            "schema": {
                                "fields": [
                                    {
                                        "name": "output"
                                    }
                                ]
                            },
                            "data": [
                                {
                                    "0": " Volume in drive C has no label."
                                },
                                {
                                    "0": " Volume Serial Number is 5E1F-0918"
                                },
                                {
                                    "0": "NULL"
                                },
                                {
                                    "0": " Directory of c:\\"
                                },
                                {
                                    "0": "NULL"
                                },
                                {
                                    "0": "04/15/2019  01:38 PM    <DIR>          Install"
                                },
                                {
                                    "0": "01/04/2019  03:22 PM    <DIR>          MinGW"
                                },
                                {
                                    "0": "07/14/2018  03:55 AM    <DIR>          PerfLogs"
                                },
                                {
                                    "0": "01/22/2019  02:15 PM           159,180 persons.csv"
                                },
                                {
                                    "0": "04/15/2019  02:08 PM    <DIR>          Program Files"
                                },
                                {
                                    "0": "04/15/2019  02:08 PM    <DIR>          Program Files (x86)"
                                },
                                {
                                    "0": "01/25/2019  09:41 AM    <DIR>          Python34"
                                },
                                {
                                    "0": "01/18/2019  10:54 AM    <DIR>          rs"
                                },
                                {
                                    "0": "04/18/2019  09:25 AM    <DIR>          Temp"
                                },
                                {
                                    "0": "04/15/2019  02:44 PM    <DIR>          Users"
                                },
                                {
                                    "0": "04/26/2019  11:56 PM    <DIR>          Windows"
                                },
                                {
                                    "0": "               1 File(s)        159,180 bytes"
                                },
                                {
                                    "0": "              10 Dir(s)  131,049,189,376 bytes free"
                                },
                                {
                                    "0": "NULL"
                                }
                            ]
                        },
                        "text/html": "<table><tr><th>output</th></tr><tr><td> Volume in drive C has no label.</td></tr><tr><td> Volume Serial Number is 5E1F-0918</td></tr><tr><td>NULL</td></tr><tr><td> Directory of c:\\</td></tr><tr><td>NULL</td></tr><tr><td>04/15/2019  01:38 PM    &lt;DIR&gt;          Install</td></tr><tr><td>01/04/2019  03:22 PM    &lt;DIR&gt;          MinGW</td></tr><tr><td>07/14/2018  03:55 AM    &lt;DIR&gt;          PerfLogs</td></tr><tr><td>01/22/2019  02:15 PM           159,180 persons.csv</td></tr><tr><td>04/15/2019  02:08 PM    &lt;DIR&gt;          Program Files</td></tr><tr><td>04/15/2019  02:08 PM    &lt;DIR&gt;          Program Files (x86)</td></tr><tr><td>01/25/2019  09:41 AM    &lt;DIR&gt;          Python34</td></tr><tr><td>01/18/2019  10:54 AM    &lt;DIR&gt;          rs</td></tr><tr><td>04/18/2019  09:25 AM    &lt;DIR&gt;          Temp</td></tr><tr><td>04/15/2019  02:44 PM    &lt;DIR&gt;          Users</td></tr><tr><td>04/26/2019  11:56 PM    &lt;DIR&gt;          Windows</td></tr><tr><td>               1 File(s)        159,180 bytes</td></tr><tr><td>              10 Dir(s)  131,049,189,376 bytes free</td></tr><tr><td>NULL</td></tr></table>"
                    }
                }
            ],
            "execution_count": 19
        }
    ]
}