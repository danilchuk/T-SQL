{
    "metadata": {
        "kernelspec": {
            "name": "SQL",
            "display_name": "SQL",
            "language": "sql"
        },
        "language_info": {
            "name": "sql",
            "version": ""
        }
    },
    "nbformat_minor": 2,
    "nbformat": 4,
    "cells": [
        {
            "cell_type": "markdown",
            "source": "## Логическая модель данных:\r\n\r\n<img src=\"https://github.com/timoti1/T-SQL/blob/master/SQL/img/SwimmersDB.png?raw=1\" />",
            "metadata": {}
        },
        {
            "cell_type": "markdown",
            "source": "_Хранимые процедуры_ похожи на процедуры из других языков программирования в том, что они могут:\r\n\r\n- принимать входные параметры и возвращать вызывающей процедуре или пакету ряд значений в виде выходных параметров;\r\n\r\n- содержать программные инструкции, которые выполняют операции в базе данных, в том числе вызывающие другие процедуры;\r\n\r\n- возвращать значение состояния вызывающей процедуре или пакету, таким образом передавая сведения об успешном или неуспешном завершении (и причины последнего).\r\n\r\nСинтаксис:\r\n```\r\n-- Transact-SQL Syntax for Stored Procedures in SQL Server and Azure SQL Database  \r\n  \r\nCREATE [ OR ALTER ] { PROC | PROCEDURE } \r\n    [schema_name.] procedure_name [ ; number ]   \r\n    [ { @parameter [ type_schema_name. ] data_type }  \r\n        [ VARYING ] [ = default ] [ OUT | OUTPUT | [READONLY]  \r\n    ] [ ,...n ]   \r\n[ WITH <procedure_option> [ ,...n ] ]  \r\n[ FOR REPLICATION ]   \r\nAS { [ BEGIN ] sql_statement [;] [ ...n ] [ END ] }  \r\n[;]  \r\n  \r\n<procedure_option> ::=   \r\n    [ ENCRYPTION ]  \r\n    [ RECOMPILE ]  \r\n    [ EXECUTE AS Clause ]\r\n```\r\nПодробнее о хранимых процедурах T-SQL:<br/>\r\nhttps://docs.microsoft.com/ru-ru/sql/t-sql/statements/create-procedure-transact-sql?view=sql-server-2017",
            "metadata": {}
        },
        {
            "cell_type": "markdown",
            "source": "Пример #1:\r\n\r\nХранимая процедура, с json-параметром по умолчанию:",
            "metadata": {}
        },
        {
            "cell_type": "code",
            "source": "use tempdb\r\ngo\r\n\r\nif OBJECT_ID('dbo.usp_GetSwimmersList', 'P') is not null\r\n   drop procedure dbo.usp_GetSwimmersList\r\ngo\r\n\r\n-------------------------------------------------------------------------------------------\r\n-- procedure returns list of Swimmers from given clubs\r\n-- created by:   Timofey Gavrilenko\r\n-- created date: 4/22/2019\r\n-- sample call:  \r\n-- exec dbo.usp_GetSwimmersList @parameters = N'[{\"Club\": \"Трактор\", \"City\": \"Минск\"}]'\r\n-----------------------------------------------------------------------------------\r\n\r\ncreate procedure dbo.usp_GetSwimmersList\r\n    @parameters nvarchar(1000) = null\r\nas    \r\nbegin\r\n    select  s.FirstName,\r\n            s.LastName,\r\n            s.YearOfBirth,\r\n            ISNULL(sc.[Name] + ' ' + sc.City, '-') Club,\r\n            ISNULL(c.[Name], '-') Category\r\n    from dbo.Swimmer s\r\n    left join dbo.SwimmingClub sc   on s.SwimmingClubID = sc.SwimmingClubID\r\n    left join dbo.Category c        on s.CategoryID = c.CategoryID\r\n    outer apply (\r\n        select  [Name], \r\n\t\t\t\tCity\r\n        from openjson(@parameters) \r\n            with (\r\n                     [Name] nvarchar(100) '$.Club',\r\n                     City nvarchar(100) '$.City'\r\n                 ) j\r\n        where (j.[Name] = sc.[Name] or j.[Name] is null) and\r\n              (j.City = sc.City or j.City is null)\r\n    ) f\r\n    where (f.City is not null or f.[Name] is not null) or @parameters is null\r\nend\r\ngo",
            "metadata": {},
            "outputs": [],
            "execution_count": 3
        },
        {
            "cell_type": "markdown",
            "source": "_Скалярная функция_ - функция, возвращающая скалярное значение. Как правило, это значение одного из стандартных T-SQL типов (int, varchar(x), datetime и т.д.)\r\n\r\nОднако, возвращаемым значением может быть XML, JSON или значение, определенного пользователем типа.<br/>\r\nЗначения по умолчанию возможны, но опустить фактический параметр при вызове функции нельзя.\r\n\r\nСинтаксис:\r\n```\r\nCREATE  FUNCTION [ owner_name. ] function_name \r\n    ( [ { @parameter_name [AS] scalar_parameter_data_type [ = default ] } \r\n      [ ,...n ] ] ) \r\n\r\nRETURNS scalar_return_data_type\r\n\r\n[ WITH function_option [ [,] ...n] ] \r\n\r\n[ AS ]\r\n\r\nBEGIN \r\n    function_body \r\n    RETURN scalar_expression\r\nEND\r\n```\r\nПодробнее о функциях T-SQL:\r\nhttps://docs.microsoft.com/ru-ru/sql/t-sql/statements/create-function-transact-sql?view=sql-server-2017",
            "metadata": {}
        },
        {
            "cell_type": "markdown",
            "source": "Пример #1:",
            "metadata": {}
        },
        {
            "cell_type": "code",
            "source": "use tempdb\r\ngo\r\n\r\nif OBJECT_ID('dbo.fn_GetSwimmersCount', 'F') is not null\r\n   drop function dbo.fn_GetSwimmersCount\r\ngo\r\n\r\n-------------------------------------------------------------------------------------------\r\n-- function returns number of Swimmers for given club (@ClubID)\r\n-- created by:   Timofey Gavrilenko\r\n-- created date: 4/26/2019\r\n-- sample call:  \r\n-- select dbo.fn_GetSwimmersCount(default)\r\n-----------------------------------------------------------------------------------\r\n\r\ncreate function dbo.fn_GetSwimmersCount(\r\n    @ClubID int = null\r\n) returns int\r\nas  \r\nbegin\r\n  return (select count(1) from dbo.Swimmer where SwimmingClubId = @ClubID or @ClubID is null)\r\nend\r\ngo",
            "metadata": {},
            "outputs": [
                {
                    "output_type": "display_data",
                    "data": {
                        "text/html": "Commands completed successfully."
                    },
                    "metadata": {}
                },
                {
                    "output_type": "display_data",
                    "data": {
                        "text/html": "Total execution time: 00:00:00.0015604"
                    },
                    "metadata": {}
                },
                {
                    "output_type": "display_data",
                    "data": {
                        "text/html": "Commands completed successfully."
                    },
                    "metadata": {}
                },
                {
                    "output_type": "display_data",
                    "data": {
                        "text/html": "Total execution time: 00:00:00.0012716"
                    },
                    "metadata": {}
                },
                {
                    "output_type": "display_data",
                    "data": {
                        "text/html": "Commands completed successfully."
                    },
                    "metadata": {}
                },
                {
                    "output_type": "display_data",
                    "data": {
                        "text/html": "Total execution time: 00:00:00.0164098"
                    },
                    "metadata": {}
                }
            ],
            "execution_count": 1
        },
        {
            "cell_type": "markdown",
            "source": "_Табличная функция_ возвращает набор данных (виртуальную таблицу)\r\n\r\n\r\nМожет быть:\r\n- inline (лучше оптимизируются)\r\n- multi-statement (больше возможностей)\r\n\r\nСинтаксис:\r\n```\r\n-- Transact-SQL Inline Table-Valued Function Syntax   \r\nCREATE [ OR ALTER ] FUNCTION [ schema_name. ] function_name   \r\n( [ { @parameter_name [ AS ] [ type_schema_name. ] parameter_data_type   \r\n    [ = default ] [ READONLY ] }   \r\n    [ ,...n ]  \r\n  ]  \r\n)  \r\nRETURNS TABLE  \r\n    [ WITH <function_option> [ ,...n ] ]  \r\n    [ AS ]  \r\n    RETURN [ ( ] select_stmt [ ) ]  \r\n[ ; ]\r\n```\r\n-----------------------------------------------------------------------\r\n\r\n```\r\n-- Transact-SQL Multi-Statement Table-Valued Function Syntax  \r\nCREATE [ OR ALTER ] FUNCTION [ schema_name. ] function_name   \r\n( [ { @parameter_name [ AS ] [ type_schema_name. ] parameter_data_type   \r\n    [ = default ] [READONLY] }   \r\n    [ ,...n ]  \r\n  ]  \r\n)  \r\nRETURNS @return_variable TABLE <table_type_definition>  \r\n    [ WITH <function_option> [ ,...n ] ]  \r\n    [ AS ]  \r\n    BEGIN   \r\n        function_body   \r\n        RETURN  \r\n    END  \r\n[ ; ]\r\n```\r\n\r\n",
            "metadata": {}
        },
        {
            "cell_type": "markdown",
            "source": "Пример #2:",
            "metadata": {}
        },
        {
            "cell_type": "code",
            "source": "",
            "metadata": {},
            "outputs": [],
            "execution_count": 0
        },
        {
            "cell_type": "markdown",
            "source": "Пример #3:",
            "metadata": {}
        },
        {
            "cell_type": "code",
            "source": "",
            "metadata": {},
            "outputs": [],
            "execution_count": 0
        }
    ]
}