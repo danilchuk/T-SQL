{
    "metadata": {
        "kernelspec": {
            "name": "SQL",
            "display_name": "SQL",
            "language": "sql"
        },
        "language_info": {
            "name": "sql",
            "version": ""
        }
    },
    "nbformat_minor": 2,
    "nbformat": 4,
    "cells": [
        {
            "cell_type": "markdown",
            "source": "## Логическая модель данных:\r\n\r\n<img src=\"https://github.com/timoti1/T-SQL/blob/master/SQL/img/SwimmersDB.png?raw=1\" />",
            "metadata": {}
        },
        {
            "cell_type": "markdown",
            "source": "Хранимая процедура, с json-параметром по умолчанию:",
            "metadata": {}
        },
        {
            "cell_type": "code",
            "source": "use tempdb\r\ngo\r\n\r\nif OBJECT_ID('dbo.usp_GetSwimmersList', 'P') is not null\r\n   drop procedure dbo.usp_GetSwimmersList\r\ngo\r\n\r\n-------------------------------------------------------------------------------------------\r\n-- procedure returns list of Swimmers from given clubs\r\n-- created by:   Timofey Gavrilenko\r\n-- created date: 4/22/2019\r\n-- sample call:  \r\n-- exec dbo.usp_GetSwimmersList @parameters = N'[{\"Club\": \"Трактор\", \"City\": \"Минск\"}]'\r\n-----------------------------------------------------------------------------------\r\n\r\ncreate procedure dbo.usp_GetSwimmersList\r\n    @parameters nvarchar(1000) = null\r\nas    \r\nbegin\r\n    select  s.FirstName,\r\n            s.LastName,\r\n            s.YearOfBirth,\r\n            ISNULL(sc.[Name] + ' ' + sc.City, '-') Club,\r\n            ISNULL(c.[Name], '-') Category\r\n    from dbo.Swimmer s\r\n    left join dbo.SwimmingClub sc   on s.SwimmingClubID = sc.SwimmingClubID\r\n    left join dbo.Category c        on s.CategoryID = c.CategoryID\r\n    outer apply (\r\n        select  [Name], \r\n\t\t\t\tCity\r\n        from openjson(@parameters) \r\n            with (\r\n                     [Name] nvarchar(100) '$.Club',\r\n                     City nvarchar(100) '$.City'\r\n                 ) j\r\n        where (j.[Name] = sc.[Name] or j.[Name] is null) and\r\n              (j.City = sc.City or j.City is null)\r\n    ) f\r\n    where (f.City is not null or f.[Name] is not null) or @parameters is null\r\nend\r\ngo",
            "metadata": {},
            "outputs": [],
            "execution_count": 3
        },
        {
            "cell_type": "markdown",
            "source": "<img src =\"img/SwimmersDB-LogicalModel.svg\" />",
            "metadata": {}
        }
    ]
}