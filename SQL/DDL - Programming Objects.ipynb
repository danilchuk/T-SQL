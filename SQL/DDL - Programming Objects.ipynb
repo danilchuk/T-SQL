{
    "metadata": {
        "kernelspec": {
            "name": "SQL",
            "display_name": "SQL",
            "language": "sql"
        },
        "language_info": {
            "name": "sql",
            "version": ""
        }
    },
    "nbformat_minor": 2,
    "nbformat": 4,
    "cells": [
        {
            "cell_type": "markdown",
            "source": "## Логическая модель данных:\r\n\r\n<img src=\"https://github.com/timoti1/T-SQL/blob/master/SQL/img/SwimmersDB.png?raw=1\" />",
            "metadata": {}
        },
        {
            "cell_type": "markdown",
            "source": "<b>_Представление_</b> cоздает виртуальную таблицу, содержимое которой определяется запросом.<br/>\r\nИспользуется\":\r\n\r\n- Для упрощения и особой формы представления информации в БД для каждого пользователя;\r\n- В качестве механизма безопасности, позволяющего пользователям обращаться к данным через представления;\r\n- Для предоставления интерфейса обратной совместимости, моделирующего таблицу, схема которой изменилась.\r\n\r\nСинтаксис:\r\n\r\n```\r\n-- Syntax for SQL Server and Azure SQL Database  \r\n  \r\nCREATE [ OR ALTER ] VIEW [ schema_name . ] view_name [ (column [ ,...n ] ) ]   \r\n[ WITH <view_attribute> [ ,...n ] ]   \r\nAS select_statement   \r\n[ WITH CHECK OPTION ]   \r\n[ ; ]  \r\n  \r\n<view_attribute> ::=   \r\n{  \r\n    [ ENCRYPTION ]  \r\n    [ SCHEMABINDING ]  \r\n    [ VIEW_METADATA ]       \r\n}   \r\n```\r\n\r\nОграничения:\r\n\r\n    - An ORDER BY clause, unless there is also a TOP clause in the select list of the SELECT statement\r\n\r\n        Important\r\n\r\n        The ORDER BY clause is used only to determine the rows that are returned by the TOP or OFFSET clause in the view definition. The ORDER BY clause does not guarantee ordered results when the view is queried, unless ORDER BY is also specified in the query itself.\r\n\r\n    - The INTO keyword\r\n\r\n    - The OPTION clause\r\n\r\n    - A reference to a temporary table or a table variable.\r\n\r\n",
            "metadata": {}
        },
        {
            "cell_type": "markdown",
            "source": "You can modify the data of an underlying base table through a view, as long as the following conditions are true:\r\n\r\n- Any modifications, including UPDATE, INSERT, and DELETE statements, must reference columns from only one base table.\r\n\r\n- The columns being modified in the view must directly reference the underlying data in the table columns. The columns cannot be derived in any other way, such as through the following:\r\n\r\n    An aggregate function: AVG, COUNT, SUM, MIN, MAX, GROUPING, STDEV, STDEVP, VAR, and VARP.\r\n\r\n    A computation. The column cannot be computed from an expression that uses other columns. Columns that are formed by using the set operators UNION, UNION ALL, CROSSJOIN, EXCEPT, and INTERSECT amount to a computation and are also not updatable.\r\n\r\n- The columns being modified are not affected by GROUP BY, HAVING, or DISTINCT clauses.\r\n\r\n- TOP is not used anywhere in the select_statement of the view together with the WITH CHECK OPTION clause.\r\n\r\n\r\n\r\nIf the previous restrictions prevent you from modifying data directly through a view, consider the following options:\r\n\r\n- INSTEAD OF Triggers\r\n\r\n    INSTEAD OF triggers can be created on a view to make a view updatable. The INSTEAD OF trigger is executed instead of the data modification statement on which the trigger is defined. This trigger lets the user specify the set of actions that must happen to process the data modification statement. Therefore, if an INSTEAD OF trigger exists for a view on a specific data modification statement (INSERT, UPDATE, or DELETE), the corresponding view is updatable through that statement. For more information about INSTEAD OF triggers, see DML Triggers.\r\n\r\n- Partitioned Views\r\n\r\n    If the view is a partitioned view, the view is updatable, subject to certain restrictions. When it is needed, the Database Engine distinguishes local partitioned views as the views in which all participating tables and the view are on the same instance of SQL Server, and distributed partitioned views as the views in which at least one of the tables in the view resides on a different or remote server.\r\n",
            "metadata": {}
        },
        {
            "cell_type": "markdown",
            "source": "Пример #1:",
            "metadata": {}
        },
        {
            "cell_type": "code",
            "source": "use tempdb\r\ngo\r\n\r\nif OBJECT_ID('dbo.v_Swimmers') is not null\r\n   drop view dbo.v_Swimmers\r\ngo\r\n\r\n-----------------------------------------------------------------------------------\r\n-- view returns all swimmers \r\n-- created by:   Timofey Gavrilenko\r\n-- created date: 4/29/2019\r\n-- sample call:  \r\n-- select * from dbo.v_Swimmers\r\n-----------------------------------------------------------------------------------\r\n\r\ncreate view dbo.v_Swimmers\r\nas  \r\n    select s.SwimmerID, s.FirstName, s.LastName, s.YearOfBirth, s.Gender, \r\n            sc.[Name] Club, sc.City, c.[Name] Category\r\n    from dbo.Swimmer s\r\n    left join dbo.SwimmingClub sc on s.SwimmingClubID = sc.SwimmingClubID\r\n    left join dbo.Category c      on s.CategoryID     = c.CategoryID\r\ngo",
            "metadata": {},
            "outputs": [],
            "execution_count": 0
        },
        {
            "cell_type": "markdown",
            "source": "Обновление данных через представление:",
            "metadata": {}
        },
        {
            "cell_type": "code",
            "source": "update v_Swimmers\r\n\tset --City = N'Минск',\r\n\t\tYearOfBirth = 2006\r\nwhere FirstName = N'Анна' and LastName = N'Высоцкая'",
            "metadata": {},
            "outputs": [],
            "execution_count": 7
        },
        {
            "cell_type": "markdown",
            "source": "Код ниже вызовет ошибку \r\n```\r\nView or function 'v_Swimmers' is not updatable because the modification affects multiple base tables.\r\n```\r\n",
            "metadata": {}
        },
        {
            "cell_type": "code",
            "source": "delete from v_Swimmers\r\nwhere FirstName = N'Анна' and LastName = N'Высоцкая'",
            "metadata": {},
            "outputs": [],
            "execution_count": 0
        },
        {
            "cell_type": "markdown",
            "source": "<b>_Хранимые процедуры_</b> похожи на процедуры из других языков программирования в том, что они могут:\r\n\r\n- принимать входные параметры и возвращать вызывающей процедуре или пакету ряд значений в виде выходных параметров;\r\n\r\n- содержать программные инструкции, которые выполняют операции в базе данных, в том числе вызывающие другие процедуры;\r\n\r\n- возвращать значение состояния вызывающей процедуре или пакету, таким образом передавая сведения об успешном или неуспешном завершении (и причины последнего).\r\n\r\nСинтаксис:\r\n```\r\n-- Transact-SQL Syntax for Stored Procedures in SQL Server and Azure SQL Database  \r\n  \r\nCREATE [ OR ALTER ] { PROC | PROCEDURE } \r\n    [schema_name.] procedure_name [ ; number ]   \r\n    [ { @parameter [ type_schema_name. ] data_type }  \r\n        [ VARYING ] [ = default ] [ OUT | OUTPUT | [READONLY]  \r\n    ] [ ,...n ]   \r\n[ WITH <procedure_option> [ ,...n ] ]  \r\n[ FOR REPLICATION ]   \r\nAS { [ BEGIN ] sql_statement [;] [ ...n ] [ END ] }  \r\n[;]  \r\n  \r\n<procedure_option> ::=   \r\n    [ ENCRYPTION ]  \r\n    [ RECOMPILE ]  \r\n    [ EXECUTE AS Clause ]\r\n```\r\nПодробнее о хранимых процедурах T-SQL:<br/>\r\nhttps://docs.microsoft.com/ru-ru/sql/t-sql/statements/create-procedure-transact-sql?view=sql-server-2017",
            "metadata": {}
        },
        {
            "cell_type": "markdown",
            "source": "Пример #2:\r\n\r\nХранимая процедура, с json-параметром по умолчанию:",
            "metadata": {}
        },
        {
            "cell_type": "code",
            "source": "use tempdb\r\ngo\r\n\r\nif OBJECT_ID('dbo.usp_GetSwimmersList', 'P') is not null\r\n   drop procedure dbo.usp_GetSwimmersList\r\ngo\r\n\r\n------------------------------------------------------------------------------------\r\n-- procedure returns list of Swimmers from given clubs\r\n-- created by:   Timofey Gavrilenko\r\n-- created date: 4/22/2019\r\n-- sample call:  \r\n-- exec dbo.usp_GetSwimmersList @parameters = N'[{\"Club\": \"Трактор\", \"City\": \"Минск\"}]'\r\n-----------------------------------------------------------------------------------\r\n\r\ncreate procedure dbo.usp_GetSwimmersList\r\n    @parameters nvarchar(1000) = null\r\nas    \r\nbegin\r\n    select  s.FirstName,\r\n            s.LastName,\r\n            s.YearOfBirth,\r\n            ISNULL(sc.[Name] + ' ' + sc.City, '-') Club,\r\n            ISNULL(c.[Name], '-') Category\r\n    from dbo.Swimmer s\r\n    left join dbo.SwimmingClub sc   on s.SwimmingClubID = sc.SwimmingClubID\r\n    left join dbo.Category c        on s.CategoryID = c.CategoryID\r\n    outer apply (\r\n        select  [Name], \r\n\t\t\t\tCity\r\n        from openjson(@parameters) \r\n            with (\r\n                     [Name] nvarchar(100) '$.Club',\r\n                     City nvarchar(100) '$.City'\r\n                 ) j\r\n        where (j.[Name] = sc.[Name] or j.[Name] is null) and\r\n              (j.City = sc.City or j.City is null)\r\n    ) f\r\n    where (f.City is not null or f.[Name] is not null) or @parameters is null\r\nend\r\ngo",
            "metadata": {},
            "outputs": [],
            "execution_count": 3
        },
        {
            "cell_type": "markdown",
            "source": "<b>_Скалярная функция_</b> - функция, возвращающая скалярное значение. Как правило, это значение одного из стандартных T-SQL типов (int, varchar(x), datetime и т.д.)\r\n\r\nОднако, возвращаемым значением может быть XML, JSON или значение, определенного пользователем типа.<br/>\r\nЗначения по умолчанию возможны, но опустить фактический параметр при вызове функции нельзя.\r\n\r\nСинтаксис:\r\n```\r\nCREATE  FUNCTION [ owner_name. ] function_name \r\n    ( [ { @parameter_name [AS] scalar_parameter_data_type [ = default ] } \r\n      [ ,...n ] ] ) \r\n\r\nRETURNS scalar_return_data_type\r\n\r\n[ WITH function_option [ [,] ...n] ] \r\n\r\n[ AS ]\r\n\r\nBEGIN \r\n    function_body \r\n    RETURN scalar_expression\r\nEND\r\n```\r\nПодробнее о функциях T-SQL:\r\nhttps://docs.microsoft.com/ru-ru/sql/t-sql/statements/create-function-transact-sql?view=sql-server-2017",
            "metadata": {}
        },
        {
            "cell_type": "markdown",
            "source": "Пример #3:",
            "metadata": {}
        },
        {
            "cell_type": "code",
            "source": "use tempdb\r\ngo\r\n\r\nif OBJECT_ID('dbo.fn_GetSwimmersCount', 'F') is not null\r\n   drop function dbo.fn_GetSwimmersCount\r\ngo\r\n\r\n------------------------------------------------------------------------------------\r\n-- function returns number of Swimmers for given club (@ClubID)\r\n-- created by:   Timofey Gavrilenko\r\n-- created date: 4/26/2019\r\n-- sample call:  \r\n-- select dbo.fn_GetSwimmersCount(default)\r\n-----------------------------------------------------------------------------------\r\n\r\ncreate function dbo.fn_GetSwimmersCount(\r\n    @ClubID int = null\r\n) returns int\r\nas  \r\nbegin\r\n  return (select count(1) from dbo.Swimmer where SwimmingClubId = @ClubID or @ClubID is null)\r\nend\r\ngo",
            "metadata": {},
            "outputs": [
                {
                    "output_type": "display_data",
                    "data": {
                        "text/html": "Commands completed successfully."
                    },
                    "metadata": {}
                },
                {
                    "output_type": "display_data",
                    "data": {
                        "text/html": "Total execution time: 00:00:00.0015604"
                    },
                    "metadata": {}
                },
                {
                    "output_type": "display_data",
                    "data": {
                        "text/html": "Commands completed successfully."
                    },
                    "metadata": {}
                },
                {
                    "output_type": "display_data",
                    "data": {
                        "text/html": "Total execution time: 00:00:00.0012716"
                    },
                    "metadata": {}
                },
                {
                    "output_type": "display_data",
                    "data": {
                        "text/html": "Commands completed successfully."
                    },
                    "metadata": {}
                },
                {
                    "output_type": "display_data",
                    "data": {
                        "text/html": "Total execution time: 00:00:00.0164098"
                    },
                    "metadata": {}
                }
            ],
            "execution_count": 1
        },
        {
            "cell_type": "markdown",
            "source": "<b>_Табличная функция_</b> возвращает набор данных (виртуальную таблицу)\r\n\r\n\r\nМожет быть:\r\n- inline (лучше оптимизируются)\r\n- multi-statement (больше возможностей)\r\n\r\nСинтаксис:\r\n```\r\n-- Transact-SQL Inline Table-Valued Function Syntax   \r\nCREATE [ OR ALTER ] FUNCTION [ schema_name. ] function_name   \r\n( [ { @parameter_name [ AS ] [ type_schema_name. ] parameter_data_type   \r\n    [ = default ] [ READONLY ] }   \r\n    [ ,...n ]  \r\n  ]  \r\n)  \r\nRETURNS TABLE  \r\n    [ WITH <function_option> [ ,...n ] ]  \r\n    [ AS ]  \r\n    RETURN [ ( ] select_stmt [ ) ]  \r\n[ ; ]\r\n```\r\n-----------------------------------------------------------------------\r\n\r\n```\r\n-- Transact-SQL Multi-Statement Table-Valued Function Syntax  \r\nCREATE [ OR ALTER ] FUNCTION [ schema_name. ] function_name   \r\n( [ { @parameter_name [ AS ] [ type_schema_name. ] parameter_data_type   \r\n    [ = default ] [READONLY] }   \r\n    [ ,...n ]  \r\n  ]  \r\n)  \r\nRETURNS @return_variable TABLE <table_type_definition>  \r\n    [ WITH <function_option> [ ,...n ] ]  \r\n    [ AS ]  \r\n    BEGIN   \r\n        function_body   \r\n        RETURN  \r\n    END  \r\n[ ; ]\r\n```\r\n\r\n",
            "metadata": {}
        },
        {
            "cell_type": "markdown",
            "source": "Пример #4:",
            "metadata": {}
        },
        {
            "cell_type": "code",
            "source": "use tempdb\r\ngo\r\n\r\nif OBJECT_ID('dbo.fn_GetSwimmersInline') is not null\r\n   drop function dbo.fn_GetSwimmersInline\r\ngo\r\n\r\n------------------------------------------------------------------------------------\r\n-- function returns all swimmers for given club (@ClubID)\r\n-- created by:   Timofey Gavrilenko\r\n-- created date: 4/26/2019\r\n-- sample call:  \r\n-- select * from dbo.fn_GetSwimmersInline(N'ж', 2006)\r\n-----------------------------------------------------------------------------------\r\n\r\ncreate function dbo.fn_GetSwimmersInline(\r\n    @Gender nchar(1) = null,\r\n    @YearOfBirth int = null\r\n) returns table\r\nas  \r\n  return (\r\n      select s.SwimmerID, s.FirstName, s.LastName, s.YearOfBirth, s.Gender, \r\n             sc.[Name] Club, sc.City, c.[Name] Category\r\n      from dbo.Swimmer s\r\n      left join dbo.SwimmingClub sc on s.SwimmingClubID = sc.SwimmingClubID\r\n      left join dbo.Category c      on s.CategoryID     = c.CategoryID\r\n      where (Gender = @Gender            or @Gender is null) and\r\n            (YearOfBirth = @YearOfBirth  or @YearOfBirth is null)\r\n )\r\ngo",
            "metadata": {},
            "outputs": [],
            "execution_count": 6
        },
        {
            "cell_type": "markdown",
            "source": "Пример #5:",
            "metadata": {}
        },
        {
            "cell_type": "code",
            "source": "use tempdb\r\ngo\r\n\r\nif OBJECT_ID('dbo.fn_GetSwimmersMultyStatement') is not null\r\n   drop function dbo.fn_GetSwimmersMultyStatement\r\ngo\r\n\r\n------------------------------------------------------------------------------------\r\n-- function returns all swimmers for given club (@ClubID)\r\n-- created by:   Timofey Gavrilenko\r\n-- created date: 4/26/2019\r\n-- sample call:  \r\n-- select * from dbo.fn_GetSwimmersMultyStatement(N'ж', 2006)\r\n-----------------------------------------------------------------------------------\r\n\r\ncreate function dbo.fn_GetSwimmersMultyStatement(\r\n    @Gender nchar(1) = null,\r\n    @YearOfBirth int = null\r\n) returns @Swimmers table\r\n(\r\n    SwimmerID       int             not null,\r\n    FirstName       nvarchar(20)    not null,\r\n    LastName        nvarchar(30)    not null,\r\n    YearOfBirth     smallint        not null,\r\n    Gender          nchar(1)        not null,\r\n    Club            nvarchar(100), \r\n\tCity            nvarchar(30), \r\n    Category        nvarchar(20)    \r\n)\r\nas  \r\nbegin\r\n  insert into @Swimmers (SwimmerID, FirstName, LastName, YearOfBirth, Gender, Club, City, Category)\r\n      select SwimmerID, FirstName, LastName, YearOfBirth, Gender, sc.[Name] Club, sc.City, c.[Name] Category\r\n      from dbo.Swimmer s\r\n      left join dbo.SwimmingClub sc on s.SwimmingClubID = sc.SwimmingClubID\r\n      left join dbo.Category c      on s.CategoryID     = c.CategoryID\r\n      where (Gender = @Gender            or @Gender is null) and\r\n            (YearOfBirth = @YearOfBirth  or @YearOfBirth is null)\r\n\r\n  return\r\nend\r\ngo",
            "metadata": {},
            "outputs": [],
            "execution_count": 0
        },
        {
            "cell_type": "markdown",
            "source": "<b>DML-тригггер AFTER (FOR) и INSTEAD OF</b> - особая разновидность хранимой процедуры, которая автоматически выполняется при возникновении события на сервере базы данных. Триггеры DML выполняются, когда пользователь пытается изменить данные с помощью событий языка обработки данных (DML). Событиями DML являются выполнение операций INSERT, UPDATE или DELETE в применении к таблице или представлению. \r\n\r\nСинтаксис:\r\n```\r\n-- SQL Server Syntax  \r\n-- Trigger on an INSERT, UPDATE, or DELETE statement to a table or view (DML Trigger)  \r\n  \r\nCREATE [ OR ALTER ] TRIGGER [ schema_name . ]trigger_name   \r\nON { table | view }   \r\n[ WITH <dml_trigger_option> [ ,...n ] ]  \r\n{ FOR | AFTER | INSTEAD OF }   \r\n{ [ INSERT ] [ , ] [ UPDATE ] [ , ] [ DELETE ] }   \r\n[ WITH APPEND ]  \r\n[ NOT FOR REPLICATION ]   \r\nAS { sql_statement  [ ; ] [ ,...n ] | EXTERNAL NAME <method specifier [ ; ] > }  \r\n  \r\n<dml_trigger_option> ::=  \r\n    [ ENCRYPTION ]  \r\n    [ EXECUTE AS Clause ]  \r\n  \r\n<method_specifier> ::=  \r\n    assembly_name.class_name.method_name\r\n```",
            "metadata": {}
        },
        {
            "cell_type": "markdown",
            "source": "Пример #6:\r\n\r\nНеобходимо предварительно выполнить настройку email-профиля и следующий код:\r\n```\r\nsp_configure 'show advanced options', 1;  \r\ngo  \r\nreconfigure;  \r\ngo  \r\nsp_configure 'Database Mail XPs', 1;  \r\ngo  \r\nreconfigure  \r\ngo  \r\n```",
            "metadata": {}
        },
        {
            "cell_type": "code",
            "source": "use tempdb\r\ngo\r\n\r\nif OBJECT_ID('dbo.t_Swimmer_Notification') is not null\r\n   drop view dbo.t_Swimmer_Notification\r\ngo\r\n\r\n-----------------------------------------------------------------------------------\r\n-- trigger sends email-notifications whenever dbo.Swimmer table gets updated\r\n-- created by:   Timofey Gavrilenko\r\n-- created date: 4/29/2019\r\n-----------------------------------------------------------------------------------\r\ncreate trigger t_Swimmer_Notification\r\non dbo.Swimmer\r\nafter insert, update, delete\r\nas  \r\nbegin\r\n   declare @_records_affected varchar(max)\r\n   if exists(select 1 from deleted)\r\n        select top 3 @_records_affected += LastName + ' ' + FirstName + ', '\r\n        from deleted\r\n   else\r\n        select top 3 @_records_affected += LastName + ' ' + FirstName\r\n        from inserted\r\n   set @_records_affected += '...'\r\n\r\n   declare @_body varchar(max)\r\n   set @_body = formatmessage('There are changes to dbo.Swimmer table [%s]. Made by: [%s]', @_records_affected, user_name())\r\n\r\n   exec msdb.dbo.sp_send_dbmail  \r\n        @profile_name = 'system',  \r\n        @recipients = 'manager@swimmer.com',  \r\n        @body = @_body,  \r\n        @subject = 'notification';  \r\nend        \r\ngo",
            "metadata": {},
            "outputs": [],
            "execution_count": 0
        },
        {
            "cell_type": "markdown",
            "source": "Пример #7:\r\n\r\nINSTEAD OF - триггер для модифицикации многотабличных представлений или альтернативного исполнения инструкций DML",
            "metadata": {}
        },
        {
            "cell_type": "code",
            "source": "use tempdb\r\ngo\r\n--patch for implementing soft deletes\r\n\r\n--01. modifications to dbo.Swimmer table\r\nif not exists(\r\n    select 1 \r\n    from INFORMATION_SCHEMA.COLUMNS \r\n    where TABLE_SCHEMA = 'dbo' and TABLE_NAME = 'Swimmer' and COLUMN_NAME = 'IsDeleted'\r\n    )\r\nbegin    \r\n\talter table dbo.Swimmer add IsDeleted bit not null constraint DF_Swimmer_IsDeleted default (0) \r\nend\r\ngo\r\n    \r\n--02. new version of v_Swimmer view (to be able to handle soft deletes)\r\nif OBJECT_ID('dbo.v_Swimmers') is not null\r\n   drop view dbo.v_Swimmers\r\ngo\r\n\r\ncreate view dbo.v_Swimmers\r\nas  \r\n    select s.SwimmerID, s.FirstName, s.LastName, s.YearOfBirth, s.Gender, \r\n            sc.[Name] Club, sc.City, c.[Name] Category\r\n    from dbo.Swimmer s\r\n    left join dbo.SwimmingClub sc on s.SwimmingClubID = sc.SwimmingClubID\r\n    left join dbo.Category c      on s.CategoryID     = c.CategoryID\r\n\twhere IsDeleted = 0\r\ngo\r\n\r\n\r\n--03. trigger to replace hard-delete with its soft version\r\nif OBJECT_ID('dbo.t_Swimmer_Delete') is not null\r\n   drop trigger dbo.t_Swimmer_Delete\r\ngo\r\n\r\ncreate trigger t_Swimmer_Delete\r\non dbo.Swimmer\r\ninstead of delete\r\nas\r\nbegin\r\n\tset nocount on\r\n\r\n\tupdate s\r\n\tset IsDeleted = 1\r\n\tfrom dbo.Swimmer s\r\n\tinner join deleted d on s.SwimmerID = d.SwimmerID\r\n\twhere s.IsDeleted = 0\r\nend\r\ngo\r\n",
            "metadata": {},
            "outputs": [],
            "execution_count": 0
        },
        {
            "cell_type": "markdown",
            "source": "Использование:",
            "metadata": {}
        },
        {
            "cell_type": "code",
            "source": "select * from dbo.Swimmer\r\n\r\ndelete from dbo.Swimmer\r\nwhere Gender = N'ж'\r\n\r\nselect * from dbo.v_Swimmers\r\n\r\nselect * from dbo.Swimmer",
            "metadata": {},
            "outputs": [],
            "execution_count": 0
        }
    ]
}