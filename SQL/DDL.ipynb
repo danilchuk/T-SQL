{
    "metadata": {
        "kernelspec": {
            "name": "SQL",
            "display_name": "SQL",
            "language": "sql"
        },
        "language_info": {
            "name": "sql",
            "version": ""
        }
    },
    "nbformat_minor": 2,
    "nbformat": 4,
    "cells": [
        {
            "cell_type": "markdown",
            "source": "## Пример логической модели данных:\r\n\r\n<img src=\"img/SwimmersDB.png\" />",
            "metadata": {}
        },
        {
            "cell_type": "markdown",
            "source": "Пример \"плохого\" DDL-кода:",
            "metadata": {}
        },
        {
            "cell_type": "code",
            "source": "create table Category (\r\nCategoryID int identity primary key,\r\nName nvarchar(20) not null UNIQUE, \r\nModifiedDate date not null\r\n)\r\n\r\ncreate table SwimmingClub (\r\nSwimmingClubID int identity primary key,\r\nName varchar(50) not null,\r\nCity varchar(50) not null,\r\nAddress varchar(50) not NULL,\r\nPhone  varchar(50) not null,\r\nYearEstablished int not null,\r\nModifiedDate date not NULL\r\n)\r\n\r\ncreate table Swimmer (\r\nSwimmerID int identity primary key,\r\nSwimmingClubID int not null, \r\nCategoryId int not null references Category(CategoryId),\r\nFirstName varchar(50) not null,\r\nLastName varchar(50) not null,\r\nYearOfBirth int not NULL,\r\nGender int not null,\r\nModifiedDate date not NULL\r\n)\r\n\r\ncreate table Coach (\r\nCoachID int identity primary key,\r\nFirstName varchar(50) not null,\r\nLastName varchar(50) not null,\r\nDateOfBirth date not NULL,\r\nCategoryID int not null references Category(CategoryID),\r\nModifiedDate date not NULL\r\n)\r\n\r\ncreate table SwimmerCoach (\r\nSwimmerID int identity primary key references Swimmer(SwimmerID),\r\nCoachID int not null references Coach(CoachID), \r\nModifiedDate date not NULL\r\n)\r\ngo",
            "metadata": {},
            "outputs": []
        },
        {
            "cell_type": "markdown",
            "source": "\"Хороший\" DDL-код подразумевает:\r\n- следование определенным naming conventions и code style\r\n- готовность к последущему рефакторингу\r\n- готовность к миграции на другие СУБД или downgrade текущей\r\n- воспроизводимость результатов при перезапуске\r\n- читаемость\r\n- ...\r\n",
            "metadata": {}
        },
        {
            "cell_type": "code",
            "source": "--выбираем активную БД\r\nuse tempdb\r\ngo\r\n\r\n--создаем таблицы, предварительно проверяя были ли они созданы ранее\r\n--стараемся использовать \"классический\" подход\r\n\r\n--drop table if exists #Category\r\nif OBJECT_ID('#Category') is not null\r\n   drop table #Category\r\ngo\r\n",
            "metadata": {},
            "outputs": [],
            "execution_count": 2
        },
        {
            "cell_type": "markdown",
            "source": "<img src =\"img\\SwimmersDB-LogicalModel.svg\" />",
            "metadata": {}
        }
    ]
}